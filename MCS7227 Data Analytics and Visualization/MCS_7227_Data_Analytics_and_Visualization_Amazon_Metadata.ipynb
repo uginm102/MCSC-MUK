{
  "nbformat": 4,
  "nbformat_minor": 0,
  "metadata": {
    "colab": {
      "provenance": [],
      "authorship_tag": "ABX9TyNvcJO+r8UunmJK7TE3DGYN",
      "include_colab_link": true
    },
    "kernelspec": {
      "name": "python3",
      "display_name": "Python 3"
    },
    "language_info": {
      "name": "python"
    }
  },
  "cells": [
    {
      "cell_type": "markdown",
      "metadata": {
        "id": "view-in-github",
        "colab_type": "text"
      },
      "source": [
        "<a href=\"https://colab.research.google.com/github/uginm102/MCSC-MUK/blob/main/MCS7227%20Data%20Analytics%20and%20Visualization/MCS_7227_Data_Analytics_and_Visualization_Amazon_Metadata.ipynb\" target=\"_parent\"><img src=\"https://colab.research.google.com/assets/colab-badge.svg\" alt=\"Open In Colab\"/></a>"
      ]
    },
    {
      "cell_type": "markdown",
      "source": [
        "#Analyzing Product Popularity and Customer Preferences in Amazon Metadata\n",
        "\n",
        "This project investigates the Amazon Product Metadata dataset, a comprehensive collection of 548,552 products and 1,234,957 customer reviews from Amazon, spanning 1995 to 2003. Sourced from the Stanford Network Analysis Project (SNAP) , the dataset includes detailed product information—such as titles, categories (e.g., books, DVDs), sales ranks, and review statistics—alongside co-purchasing links that form a network of product relationships. The primary goal is to uncover hidden patterns in product popularity and customer preferences through a combination of quantitative data analysis and advanced visualization techniques. By leveraging this large-scale dataset, the project aims to reveal insights that are non-obvious from surface-level inspection, such as the interplay between review metrics and sales performance or the clustering of consumer interests across product categories."
      ],
      "metadata": {
        "id": "gR_VXijtb9Zp"
      }
    },
    {
      "cell_type": "code",
      "source": [
        "import pandas as pd\n",
        "import numpy as np\n",
        "from sklearn.linear_model import LinearRegression\n",
        "from sklearn.model_selection import train_test_split\n",
        "from sklearn.metrics import mean_squared_error, r2_score\n",
        "from sklearn.preprocessing import StandardScaler\n",
        "\n",
        "\n",
        "from sklearn.cluster import KMeans\n",
        "from sklearn.metrics import silhouette_score\n",
        "import matplotlib.pyplot as plt"
      ],
      "metadata": {
        "id": "LzMQERHNcB7j"
      },
      "execution_count": 1,
      "outputs": []
    },
    {
      "cell_type": "code",
      "source": [
        "from google.colab import drive\n",
        "drive.mount('/content/drive')"
      ],
      "metadata": {
        "colab": {
          "base_uri": "https://localhost:8080/"
        },
        "id": "ShoygVnRcZog",
        "outputId": "04a1fa05-5ea2-4346-ca8c-59818aa30232"
      },
      "execution_count": 4,
      "outputs": [
        {
          "output_type": "stream",
          "name": "stdout",
          "text": [
            "Drive already mounted at /content/drive; to attempt to forcibly remount, call drive.mount(\"/content/drive\", force_remount=True).\n"
          ]
        }
      ]
    },
    {
      "cell_type": "markdown",
      "source": [
        "##Load Data\n",
        "For analysis and testing we are starting with a sample dataset of 10,000 records, after it can be run on the entire dataset."
      ],
      "metadata": {
        "id": "kYCcG3PzInD6"
      }
    },
    {
      "cell_type": "code",
      "source": [
        "# File path to the cleaned dataset\n",
        "input_file = \"/content/drive/MyDrive/Personal/Masters/Msc Comp Sc - MUK/Year 1/Sem 2/MCS7227 Data Analytics and Visualization/amazon_sample_sample.csv\"\n",
        "\n",
        "# Load the cleaned dataset\n",
        "df = pd.read_csv(input_file)\n",
        "\n",
        "df.head()"
      ],
      "metadata": {
        "id": "WV-kY9dWc2Xd",
        "outputId": "39f26ae5-c1d4-4c3b-f402-9ffac88f57e7",
        "colab": {
          "base_uri": "https://localhost:8080/",
          "height": 206
        }
      },
      "execution_count": 5,
      "outputs": [
        {
          "output_type": "execute_result",
          "data": {
            "text/plain": [
              "         ASIN                        title category  salesrank  review_count  \\\n",
              "0  0060934719                     Stardust     Book       7375           198   \n",
              "1  0689805330              Hannah and Jack     Book    1095476             1   \n",
              "2  0671882201          Maiden of Inverness     Book     485399             5   \n",
              "3  157572328X  Papier Mache (Step By Step)     Book    1425938             0   \n",
              "4  6301394968                      Sundown    Video      54951             6   \n",
              "\n",
              "   avg_rating                                       co_purchases  \n",
              "0         4.5  0380789019|0380789035|0060934700|0380977788|04...  \n",
              "1         5.0                                                NaN  \n",
              "2         4.0  0671730010|067188218X|0671882171|0671882198|06...  \n",
              "3         0.0                                                NaN  \n",
              "4         4.0  B00074DY0M|B00000JN20|B00008LDNZ|B00023P4II|B0...  "
            ],
            "text/html": [
              "\n",
              "  <div id=\"df-e3bbf977-b4dd-4ddb-82b6-120b58638b22\" class=\"colab-df-container\">\n",
              "    <div>\n",
              "<style scoped>\n",
              "    .dataframe tbody tr th:only-of-type {\n",
              "        vertical-align: middle;\n",
              "    }\n",
              "\n",
              "    .dataframe tbody tr th {\n",
              "        vertical-align: top;\n",
              "    }\n",
              "\n",
              "    .dataframe thead th {\n",
              "        text-align: right;\n",
              "    }\n",
              "</style>\n",
              "<table border=\"1\" class=\"dataframe\">\n",
              "  <thead>\n",
              "    <tr style=\"text-align: right;\">\n",
              "      <th></th>\n",
              "      <th>ASIN</th>\n",
              "      <th>title</th>\n",
              "      <th>category</th>\n",
              "      <th>salesrank</th>\n",
              "      <th>review_count</th>\n",
              "      <th>avg_rating</th>\n",
              "      <th>co_purchases</th>\n",
              "    </tr>\n",
              "  </thead>\n",
              "  <tbody>\n",
              "    <tr>\n",
              "      <th>0</th>\n",
              "      <td>0060934719</td>\n",
              "      <td>Stardust</td>\n",
              "      <td>Book</td>\n",
              "      <td>7375</td>\n",
              "      <td>198</td>\n",
              "      <td>4.5</td>\n",
              "      <td>0380789019|0380789035|0060934700|0380977788|04...</td>\n",
              "    </tr>\n",
              "    <tr>\n",
              "      <th>1</th>\n",
              "      <td>0689805330</td>\n",
              "      <td>Hannah and Jack</td>\n",
              "      <td>Book</td>\n",
              "      <td>1095476</td>\n",
              "      <td>1</td>\n",
              "      <td>5.0</td>\n",
              "      <td>NaN</td>\n",
              "    </tr>\n",
              "    <tr>\n",
              "      <th>2</th>\n",
              "      <td>0671882201</td>\n",
              "      <td>Maiden of Inverness</td>\n",
              "      <td>Book</td>\n",
              "      <td>485399</td>\n",
              "      <td>5</td>\n",
              "      <td>4.0</td>\n",
              "      <td>0671730010|067188218X|0671882171|0671882198|06...</td>\n",
              "    </tr>\n",
              "    <tr>\n",
              "      <th>3</th>\n",
              "      <td>157572328X</td>\n",
              "      <td>Papier Mache (Step By Step)</td>\n",
              "      <td>Book</td>\n",
              "      <td>1425938</td>\n",
              "      <td>0</td>\n",
              "      <td>0.0</td>\n",
              "      <td>NaN</td>\n",
              "    </tr>\n",
              "    <tr>\n",
              "      <th>4</th>\n",
              "      <td>6301394968</td>\n",
              "      <td>Sundown</td>\n",
              "      <td>Video</td>\n",
              "      <td>54951</td>\n",
              "      <td>6</td>\n",
              "      <td>4.0</td>\n",
              "      <td>B00074DY0M|B00000JN20|B00008LDNZ|B00023P4II|B0...</td>\n",
              "    </tr>\n",
              "  </tbody>\n",
              "</table>\n",
              "</div>\n",
              "    <div class=\"colab-df-buttons\">\n",
              "\n",
              "  <div class=\"colab-df-container\">\n",
              "    <button class=\"colab-df-convert\" onclick=\"convertToInteractive('df-e3bbf977-b4dd-4ddb-82b6-120b58638b22')\"\n",
              "            title=\"Convert this dataframe to an interactive table.\"\n",
              "            style=\"display:none;\">\n",
              "\n",
              "  <svg xmlns=\"http://www.w3.org/2000/svg\" height=\"24px\" viewBox=\"0 -960 960 960\">\n",
              "    <path d=\"M120-120v-720h720v720H120Zm60-500h600v-160H180v160Zm220 220h160v-160H400v160Zm0 220h160v-160H400v160ZM180-400h160v-160H180v160Zm440 0h160v-160H620v160ZM180-180h160v-160H180v160Zm440 0h160v-160H620v160Z\"/>\n",
              "  </svg>\n",
              "    </button>\n",
              "\n",
              "  <style>\n",
              "    .colab-df-container {\n",
              "      display:flex;\n",
              "      gap: 12px;\n",
              "    }\n",
              "\n",
              "    .colab-df-convert {\n",
              "      background-color: #E8F0FE;\n",
              "      border: none;\n",
              "      border-radius: 50%;\n",
              "      cursor: pointer;\n",
              "      display: none;\n",
              "      fill: #1967D2;\n",
              "      height: 32px;\n",
              "      padding: 0 0 0 0;\n",
              "      width: 32px;\n",
              "    }\n",
              "\n",
              "    .colab-df-convert:hover {\n",
              "      background-color: #E2EBFA;\n",
              "      box-shadow: 0px 1px 2px rgba(60, 64, 67, 0.3), 0px 1px 3px 1px rgba(60, 64, 67, 0.15);\n",
              "      fill: #174EA6;\n",
              "    }\n",
              "\n",
              "    .colab-df-buttons div {\n",
              "      margin-bottom: 4px;\n",
              "    }\n",
              "\n",
              "    [theme=dark] .colab-df-convert {\n",
              "      background-color: #3B4455;\n",
              "      fill: #D2E3FC;\n",
              "    }\n",
              "\n",
              "    [theme=dark] .colab-df-convert:hover {\n",
              "      background-color: #434B5C;\n",
              "      box-shadow: 0px 1px 3px 1px rgba(0, 0, 0, 0.15);\n",
              "      filter: drop-shadow(0px 1px 2px rgba(0, 0, 0, 0.3));\n",
              "      fill: #FFFFFF;\n",
              "    }\n",
              "  </style>\n",
              "\n",
              "    <script>\n",
              "      const buttonEl =\n",
              "        document.querySelector('#df-e3bbf977-b4dd-4ddb-82b6-120b58638b22 button.colab-df-convert');\n",
              "      buttonEl.style.display =\n",
              "        google.colab.kernel.accessAllowed ? 'block' : 'none';\n",
              "\n",
              "      async function convertToInteractive(key) {\n",
              "        const element = document.querySelector('#df-e3bbf977-b4dd-4ddb-82b6-120b58638b22');\n",
              "        const dataTable =\n",
              "          await google.colab.kernel.invokeFunction('convertToInteractive',\n",
              "                                                    [key], {});\n",
              "        if (!dataTable) return;\n",
              "\n",
              "        const docLinkHtml = 'Like what you see? Visit the ' +\n",
              "          '<a target=\"_blank\" href=https://colab.research.google.com/notebooks/data_table.ipynb>data table notebook</a>'\n",
              "          + ' to learn more about interactive tables.';\n",
              "        element.innerHTML = '';\n",
              "        dataTable['output_type'] = 'display_data';\n",
              "        await google.colab.output.renderOutput(dataTable, element);\n",
              "        const docLink = document.createElement('div');\n",
              "        docLink.innerHTML = docLinkHtml;\n",
              "        element.appendChild(docLink);\n",
              "      }\n",
              "    </script>\n",
              "  </div>\n",
              "\n",
              "\n",
              "<div id=\"df-b4e0ce57-c636-4405-9cd7-bd726fda89a0\">\n",
              "  <button class=\"colab-df-quickchart\" onclick=\"quickchart('df-b4e0ce57-c636-4405-9cd7-bd726fda89a0')\"\n",
              "            title=\"Suggest charts\"\n",
              "            style=\"display:none;\">\n",
              "\n",
              "<svg xmlns=\"http://www.w3.org/2000/svg\" height=\"24px\"viewBox=\"0 0 24 24\"\n",
              "     width=\"24px\">\n",
              "    <g>\n",
              "        <path d=\"M19 3H5c-1.1 0-2 .9-2 2v14c0 1.1.9 2 2 2h14c1.1 0 2-.9 2-2V5c0-1.1-.9-2-2-2zM9 17H7v-7h2v7zm4 0h-2V7h2v10zm4 0h-2v-4h2v4z\"/>\n",
              "    </g>\n",
              "</svg>\n",
              "  </button>\n",
              "\n",
              "<style>\n",
              "  .colab-df-quickchart {\n",
              "      --bg-color: #E8F0FE;\n",
              "      --fill-color: #1967D2;\n",
              "      --hover-bg-color: #E2EBFA;\n",
              "      --hover-fill-color: #174EA6;\n",
              "      --disabled-fill-color: #AAA;\n",
              "      --disabled-bg-color: #DDD;\n",
              "  }\n",
              "\n",
              "  [theme=dark] .colab-df-quickchart {\n",
              "      --bg-color: #3B4455;\n",
              "      --fill-color: #D2E3FC;\n",
              "      --hover-bg-color: #434B5C;\n",
              "      --hover-fill-color: #FFFFFF;\n",
              "      --disabled-bg-color: #3B4455;\n",
              "      --disabled-fill-color: #666;\n",
              "  }\n",
              "\n",
              "  .colab-df-quickchart {\n",
              "    background-color: var(--bg-color);\n",
              "    border: none;\n",
              "    border-radius: 50%;\n",
              "    cursor: pointer;\n",
              "    display: none;\n",
              "    fill: var(--fill-color);\n",
              "    height: 32px;\n",
              "    padding: 0;\n",
              "    width: 32px;\n",
              "  }\n",
              "\n",
              "  .colab-df-quickchart:hover {\n",
              "    background-color: var(--hover-bg-color);\n",
              "    box-shadow: 0 1px 2px rgba(60, 64, 67, 0.3), 0 1px 3px 1px rgba(60, 64, 67, 0.15);\n",
              "    fill: var(--button-hover-fill-color);\n",
              "  }\n",
              "\n",
              "  .colab-df-quickchart-complete:disabled,\n",
              "  .colab-df-quickchart-complete:disabled:hover {\n",
              "    background-color: var(--disabled-bg-color);\n",
              "    fill: var(--disabled-fill-color);\n",
              "    box-shadow: none;\n",
              "  }\n",
              "\n",
              "  .colab-df-spinner {\n",
              "    border: 2px solid var(--fill-color);\n",
              "    border-color: transparent;\n",
              "    border-bottom-color: var(--fill-color);\n",
              "    animation:\n",
              "      spin 1s steps(1) infinite;\n",
              "  }\n",
              "\n",
              "  @keyframes spin {\n",
              "    0% {\n",
              "      border-color: transparent;\n",
              "      border-bottom-color: var(--fill-color);\n",
              "      border-left-color: var(--fill-color);\n",
              "    }\n",
              "    20% {\n",
              "      border-color: transparent;\n",
              "      border-left-color: var(--fill-color);\n",
              "      border-top-color: var(--fill-color);\n",
              "    }\n",
              "    30% {\n",
              "      border-color: transparent;\n",
              "      border-left-color: var(--fill-color);\n",
              "      border-top-color: var(--fill-color);\n",
              "      border-right-color: var(--fill-color);\n",
              "    }\n",
              "    40% {\n",
              "      border-color: transparent;\n",
              "      border-right-color: var(--fill-color);\n",
              "      border-top-color: var(--fill-color);\n",
              "    }\n",
              "    60% {\n",
              "      border-color: transparent;\n",
              "      border-right-color: var(--fill-color);\n",
              "    }\n",
              "    80% {\n",
              "      border-color: transparent;\n",
              "      border-right-color: var(--fill-color);\n",
              "      border-bottom-color: var(--fill-color);\n",
              "    }\n",
              "    90% {\n",
              "      border-color: transparent;\n",
              "      border-bottom-color: var(--fill-color);\n",
              "    }\n",
              "  }\n",
              "</style>\n",
              "\n",
              "  <script>\n",
              "    async function quickchart(key) {\n",
              "      const quickchartButtonEl =\n",
              "        document.querySelector('#' + key + ' button');\n",
              "      quickchartButtonEl.disabled = true;  // To prevent multiple clicks.\n",
              "      quickchartButtonEl.classList.add('colab-df-spinner');\n",
              "      try {\n",
              "        const charts = await google.colab.kernel.invokeFunction(\n",
              "            'suggestCharts', [key], {});\n",
              "      } catch (error) {\n",
              "        console.error('Error during call to suggestCharts:', error);\n",
              "      }\n",
              "      quickchartButtonEl.classList.remove('colab-df-spinner');\n",
              "      quickchartButtonEl.classList.add('colab-df-quickchart-complete');\n",
              "    }\n",
              "    (() => {\n",
              "      let quickchartButtonEl =\n",
              "        document.querySelector('#df-b4e0ce57-c636-4405-9cd7-bd726fda89a0 button');\n",
              "      quickchartButtonEl.style.display =\n",
              "        google.colab.kernel.accessAllowed ? 'block' : 'none';\n",
              "    })();\n",
              "  </script>\n",
              "</div>\n",
              "\n",
              "    </div>\n",
              "  </div>\n"
            ],
            "application/vnd.google.colaboratory.intrinsic+json": {
              "type": "dataframe",
              "variable_name": "df",
              "summary": "{\n  \"name\": \"df\",\n  \"rows\": 10,\n  \"fields\": [\n    {\n      \"column\": \"ASIN\",\n      \"properties\": {\n        \"dtype\": \"string\",\n        \"num_unique_values\": 10,\n        \"samples\": [\n          \"0618070214\",\n          \"0689805330\",\n          \"B00005NQDC\"\n        ],\n        \"semantic_type\": \"\",\n        \"description\": \"\"\n      }\n    },\n    {\n      \"column\": \"title\",\n      \"properties\": {\n        \"dtype\": \"string\",\n        \"num_unique_values\": 9,\n        \"samples\": [\n          \"The Stolen Lake\",\n          \"Hannah and Jack\",\n          \"The Near Death Experiment\"\n        ],\n        \"semantic_type\": \"\",\n        \"description\": \"\"\n      }\n    },\n    {\n      \"column\": \"category\",\n      \"properties\": {\n        \"dtype\": \"category\",\n        \"num_unique_values\": 2,\n        \"samples\": [\n          \"Video\",\n          \"Book\"\n        ],\n        \"semantic_type\": \"\",\n        \"description\": \"\"\n      }\n    },\n    {\n      \"column\": \"salesrank\",\n      \"properties\": {\n        \"dtype\": \"number\",\n        \"std\": 604305,\n        \"min\": -1,\n        \"max\": 1437475,\n        \"num_unique_values\": 10,\n        \"samples\": [\n          356223,\n          1095476\n        ],\n        \"semantic_type\": \"\",\n        \"description\": \"\"\n      }\n    },\n    {\n      \"column\": \"review_count\",\n      \"properties\": {\n        \"dtype\": \"number\",\n        \"std\": 61,\n        \"min\": 0,\n        \"max\": 198,\n        \"num_unique_values\": 8,\n        \"samples\": [\n          1,\n          2\n        ],\n        \"semantic_type\": \"\",\n        \"description\": \"\"\n      }\n    },\n    {\n      \"column\": \"avg_rating\",\n      \"properties\": {\n        \"dtype\": \"number\",\n        \"std\": 1.964971020425266,\n        \"min\": 0.0,\n        \"max\": 5.0,\n        \"num_unique_values\": 4,\n        \"samples\": [\n          5.0,\n          0.0\n        ],\n        \"semantic_type\": \"\",\n        \"description\": \"\"\n      }\n    },\n    {\n      \"column\": \"co_purchases\",\n      \"properties\": {\n        \"dtype\": \"string\",\n        \"num_unique_values\": 5,\n        \"samples\": [\n          \"0671730010|067188218X|0671882171|0671882198|067177932X\",\n          \"0807534315|0679880836|0152016988|0802850812|0152000356\"\n        ],\n        \"semantic_type\": \"\",\n        \"description\": \"\"\n      }\n    }\n  ]\n}"
            }
          },
          "metadata": {},
          "execution_count": 5
        }
      ]
    },
    {
      "cell_type": "code",
      "source": [
        "# Compute dataset statistics\n",
        "# Category distribution (percentage of \"Books\")\n",
        "category_counts = df['category'].value_counts(normalize=True) * 100  # Percentage\n",
        "\n",
        "books_percentage = category_counts.get('Book', 0)  # Default to 0 if 'Books' not found\n",
        "print(f\"Percentage of 'Books': {books_percentage:.1f}%\")\n",
        "\n",
        "# Average rating (mean of non-null avg_rating)\n",
        "avg_rating = df['avg_rating'].mean()\n",
        "print(f\"Average rating: {avg_rating:.1f}/5\")\n",
        "\n",
        "# Median sales rank (median of non-null salesrank, excluding -1)\n",
        "valid_salesrank = df[df['salesrank'] != -1]['salesrank']  # Filter out invalid ranks\n",
        "median_salesrank = valid_salesrank.median()\n",
        "print(f\"Median sales rank: {median_salesrank:,.0f}\")\n",
        "\n",
        "# Additional summary stats for verification\n",
        "print(\"\\nAdditional Statistics:\")\n",
        "print(f\"Total products: {len(df)}\")\n",
        "print(f\"Products with reviews: {len(df[df['review_count'] > 0])}\")\n",
        "print(f\"Products with valid sales rank: {len(valid_salesrank)}\")\n",
        "\n",
        "# Save statistics to a text file (optional)\n",
        "with open(\"dataset_stats.txt\", \"w\") as f:\n",
        "    f.write(f\"Percentage of 'Books': {books_percentage:.1f}%\\n\")\n",
        "    f.write(f\"Average rating: {avg_rating:.1f}/5\\n\")\n",
        "    f.write(f\"Median sales rank: {median_salesrank:,.0f}\\n\")\n",
        "print(f\"Statistics saved to dataset_stats.txt\")"
      ],
      "metadata": {
        "colab": {
          "base_uri": "https://localhost:8080/"
        },
        "id": "BYOZjynMcyNa",
        "outputId": "44eed16b-cfa8-4374-fbbe-05821fbfd932"
      },
      "execution_count": 15,
      "outputs": [
        {
          "output_type": "stream",
          "name": "stdout",
          "text": [
            "Percentage of 'Books': 77.8%\n",
            "Average rating: 3.4/5\n",
            "Median sales rank: 485,399\n",
            "\n",
            "Additional Statistics:\n",
            "Total products: 10\n",
            "Products with reviews: 7\n",
            "Products with valid sales rank: 9\n",
            "Statistics saved to dataset_stats.txt\n"
          ]
        }
      ]
    },
    {
      "cell_type": "code",
      "source": [
        "# Prepare features and target\n",
        "# Filter out invalid sales ranks (-1) if any remain\n",
        "df = df[df['salesrank'] != -1]\n",
        "\n",
        "# Use log_salesrank as target (assumes OpenRefine created this column)\n",
        "# If not, compute it here (uncomment if needed)\n",
        "df['log_salesrank'] = np.log(df['salesrank'].replace(0, 1))  # Avoid log(0)\n",
        "\n",
        "# Features: review_count, avg_rating, and one-hot encoded category\n",
        "X_numeric = df[['review_count', 'avg_rating']].fillna({'avg_rating': 0})  # Impute NaN avg_rating with 0\n",
        "X_categorical = pd.get_dummies(df['category'], prefix='cat')  # One-hot encode category\n",
        "X = pd.concat([X_numeric, X_categorical], axis=1)\n",
        "\n",
        "# Target: log_salesrank\n",
        "y = df['log_salesrank']\n",
        "\n",
        "# Split data into training and test sets\n",
        "X_train, X_test, y_train, y_test = train_test_split(X, y, test_size=0.2, random_state=42)\n",
        "\n",
        "# Standardize numeric features (review_count, avg_rating)\n",
        "scaler = StandardScaler()\n",
        "X_train_numeric = scaler.fit_transform(X_train[['review_count', 'avg_rating']])\n",
        "X_test_numeric = scaler.transform(X_test[['review_count', 'avg_rating']])\n",
        "\n",
        "# Recombine with categorical features (not scaled)\n",
        "X_train_scaled = np.hstack([X_train_numeric, X_train[X_categorical.columns].values])\n",
        "X_test_scaled = np.hstack([X_test_numeric, X_test[X_categorical.columns].values])\n",
        "\n",
        "# Train the linear regression model\n",
        "reg = LinearRegression()\n",
        "reg.fit(X_train_scaled, y_train)\n",
        "\n",
        "# Make predictions and evaluate\n",
        "y_pred = reg.predict(X_test_scaled)\n",
        "\n",
        "# Compute metrics\n",
        "mse = mean_squared_error(y_test, y_pred)\n",
        "r2 = r2_score(y_test, y_pred)\n",
        "\n",
        "print(f\"Mean Squared Error (MSE): {mse:,.0f}\")\n",
        "print(f\"R^2 Score: {r2:.2f}\")\n",
        "\n",
        "# Analyze feature importance (coefficients)\n",
        "feature_names = ['review_count', 'avg_rating'] + list(X_categorical.columns)\n",
        "coefficients = pd.DataFrame({\n",
        "    'Feature': feature_names,\n",
        "    'Coefficient': reg.coef_\n",
        "})\n",
        "print(\"\\nFeature Coefficients:\")\n",
        "print(coefficients.sort_values(by='Coefficient', ascending=False))\n",
        "\n",
        "# Save results (optional)\n",
        "results = {\n",
        "    'MSE': mse,\n",
        "    'R2': r2,\n",
        "    'Coefficients': coefficients.to_dict()\n",
        "}\n",
        "# with open(\"regression_results.txt\", \"w\") as f:\n",
        "#     f.write(f\"MSE: {mse:,.0f}\\n\")\n",
        "#     f.write(f\"R^2: {r2:.2f}\\n\")\n",
        "#     f.write(\"\\nFeature Coefficients:\\n\")\n",
        "#     f.write(coefficients.to_string(index=False))\n",
        "# print(\"Results saved to regression_results.txt\")"
      ],
      "metadata": {
        "colab": {
          "base_uri": "https://localhost:8080/"
        },
        "id": "WVFPBQDsdWaf",
        "outputId": "139ee0aa-0055-4a3b-a6f0-40f077256359"
      },
      "execution_count": 6,
      "outputs": [
        {
          "output_type": "stream",
          "name": "stdout",
          "text": [
            "Mean Squared Error (MSE): 0\n",
            "R^2 Score: -0.01\n",
            "\n",
            "Feature Coefficients:\n",
            "        Feature  Coefficient\n",
            "2      cat_Book     1.372714\n",
            "1    avg_rating    -0.171758\n",
            "3     cat_Video    -1.372714\n",
            "0  review_count    -1.646853\n",
            "Results saved to regression_results.txt\n"
          ]
        },
        {
          "output_type": "stream",
          "name": "stderr",
          "text": [
            "<ipython-input-6-992ef7772f7b>:7: SettingWithCopyWarning: \n",
            "A value is trying to be set on a copy of a slice from a DataFrame.\n",
            "Try using .loc[row_indexer,col_indexer] = value instead\n",
            "\n",
            "See the caveats in the documentation: https://pandas.pydata.org/pandas-docs/stable/user_guide/indexing.html#returning-a-view-versus-a-copy\n",
            "  df['log_salesrank'] = np.log(df['salesrank'].replace(0, 1))  # Avoid log(0)\n"
          ]
        }
      ]
    },
    {
      "cell_type": "code",
      "source": [
        "# Step 1: Load the cleaned dataset\n",
        "df = pd.read_csv(input_file)\n",
        "\n",
        "# Step 2: Prepare features for clustering\n",
        "# Use review_count and avg_rating as clustering features\n",
        "X = df[['review_count', 'avg_rating']].fillna({'avg_rating': 0})  # Impute NaN avg_rating with 0\n",
        "\n",
        "# Step 3: Standardize features\n",
        "scaler = StandardScaler()\n",
        "X_scaled = scaler.fit_transform(X)\n",
        "\n",
        "# Step 4: Determine optimal number of clusters using the elbow method\n",
        "inertia = []\n",
        "k_range = range(2, 11)  # Test k from 2 to 10\n",
        "for k in k_range:\n",
        "    kmeans = KMeans(n_clusters=k, random_state=42)\n",
        "    kmeans.fit(X_scaled)\n",
        "    inertia.append(kmeans.inertia_)\n"
      ],
      "metadata": {
        "colab": {
          "base_uri": "https://localhost:8080/"
        },
        "id": "PvKBRAo0dzaT",
        "outputId": "fe0e11bf-5840-4c2e-fde3-7706551ed5dd"
      },
      "execution_count": 7,
      "outputs": [
        {
          "output_type": "stream",
          "name": "stderr",
          "text": [
            "/usr/local/lib/python3.11/dist-packages/sklearn/base.py:1389: ConvergenceWarning: Number of distinct clusters (8) found smaller than n_clusters (9). Possibly due to duplicate points in X.\n",
            "  return fit_method(estimator, *args, **kwargs)\n",
            "/usr/local/lib/python3.11/dist-packages/sklearn/base.py:1389: ConvergenceWarning: Number of distinct clusters (8) found smaller than n_clusters (10). Possibly due to duplicate points in X.\n",
            "  return fit_method(estimator, *args, **kwargs)\n"
          ]
        }
      ]
    },
    {
      "cell_type": "code",
      "source": [
        "# Plot elbow curve\n",
        "plt.figure(figsize=(8, 6))\n",
        "plt.plot(k_range, inertia, marker='o')\n",
        "plt.xlabel('Number of Clusters (k)')\n",
        "plt.ylabel('Inertia (Within-Cluster Sum of Squares)')\n",
        "plt.title('Elbow Method for Optimal k')\n",
        "# plt.savefig('elbow_curve.png')\n",
        "plt.show()\n",
        "# print(\"Elbow curve saved to 'elbow_curve.png'\")"
      ],
      "metadata": {
        "id": "B8y9O1PYeW2M",
        "outputId": "2a77f37d-f693-4b04-80bf-64ce527f018e",
        "colab": {
          "base_uri": "https://localhost:8080/",
          "height": 564
        }
      },
      "execution_count": 8,
      "outputs": [
        {
          "output_type": "display_data",
          "data": {
            "text/plain": [
              "<Figure size 800x600 with 1 Axes>"
            ],
            "image/png": "[encoded data removed]"
          },
          "metadata": {}
        }
      ]
    },
    {
      "cell_type": "code",
      "source": [
        "# Perform k-means clustering with k=5 (chosen from elbow method)\n",
        "k_optimal = 5\n",
        "kmeans = KMeans(n_clusters=k_optimal, random_state=42)\n",
        "cluster_labels = kmeans.fit_predict(X_scaled)\n",
        "\n",
        "# Add cluster labels to DataFrame\n",
        "df['cluster'] = cluster_labels"
      ],
      "metadata": {
        "id": "MPlGGypxendT"
      },
      "execution_count": 9,
      "outputs": []
    },
    {
      "cell_type": "code",
      "source": [
        "# Evaluate clustering with silhouette score\n",
        "silhouette_avg = silhouette_score(X_scaled, cluster_labels)\n",
        "print(f\"Silhouette Score for k={k_optimal}: {silhouette_avg:.2f}\")"
      ],
      "metadata": {
        "id": "_oQnXAmYeqjH",
        "outputId": "2849ccac-9266-4cf6-e676-0a61d2ce3290",
        "colab": {
          "base_uri": "https://localhost:8080/"
        }
      },
      "execution_count": 10,
      "outputs": [
        {
          "output_type": "stream",
          "name": "stdout",
          "text": [
            "Silhouette Score for k=5: 0.64\n"
          ]
        }
      ]
    },
    {
      "cell_type": "code",
      "source": [
        "# Analyze cluster characteristics\n",
        "cluster_summary = df.groupby('cluster').agg({\n",
        "    'review_count': ['mean', 'count'],\n",
        "    'avg_rating': 'mean',\n",
        "    'category': lambda x: x.value_counts().index[0]  # Most common category\n",
        "}).rename(columns={'<lambda>': 'top_category'})\n",
        "\n",
        "print(\"\\nCluster Summary:\")\n",
        "print(cluster_summary)"
      ],
      "metadata": {
        "id": "1DoZNO5wes8x",
        "outputId": "9fe076b9-ca08-4a22-a8b8-52c04dc0c8db",
        "colab": {
          "base_uri": "https://localhost:8080/"
        }
      },
      "execution_count": 11,
      "outputs": [
        {
          "output_type": "stream",
          "name": "stdout",
          "text": [
            "\n",
            "Cluster Summary:\n",
            "        review_count       avg_rating     category\n",
            "                mean count       mean top_category\n",
            "cluster                                           \n",
            "0           0.000000     3        0.0         Book\n",
            "1           6.333333     3        4.0         Book\n",
            "2         198.000000     1        4.5         Book\n",
            "3           2.000000     2        5.0         Book\n",
            "4           2.000000     1        4.0         Book\n"
          ]
        }
      ]
    },
    {
      "cell_type": "code",
      "source": [
        "# Infer cluster descriptions (manual interpretation)\n",
        "cluster_descriptions = {\n",
        "    0: \"Low reviews, moderate ratings\",\n",
        "    1: \"High-rated books\",\n",
        "    2: \"Niche DVDs\",\n",
        "    3: \"High review count, variable ratings\",\n",
        "    4: \"Low-rated, few reviews\"\n",
        "}  # Adjust based on actual summary output\n",
        "\n",
        "print(\"\\nCluster Descriptions (Tentative):\")\n",
        "for i, desc in cluster_descriptions.items():\n",
        "    print(f\"Cluster {i}: {desc}\")"
      ],
      "metadata": {
        "id": "iJrnTiipewkA",
        "outputId": "f61f2a4a-4015-422b-b8ae-7805686d40fb",
        "colab": {
          "base_uri": "https://localhost:8080/"
        }
      },
      "execution_count": 12,
      "outputs": [
        {
          "output_type": "stream",
          "name": "stdout",
          "text": [
            "\n",
            "Cluster Descriptions (Tentative):\n",
            "Cluster 0: Low reviews, moderate ratings\n",
            "Cluster 1: High-rated books\n",
            "Cluster 2: Niche DVDs\n",
            "Cluster 3: High review count, variable ratings\n",
            "Cluster 4: Low-rated, few reviews\n"
          ]
        }
      ]
    },
    {
      "cell_type": "code",
      "source": [
        "# Save results\n",
        "df[['ASIN', 'review_count', 'avg_rating', 'category', 'cluster']].to_csv(\"clustered_data.csv\", index=False)\n",
        "with open(\"clustering_results.txt\", \"w\") as f:\n",
        "    f.write(f\"Silhouette Score for k={k_optimal}: {silhouette_avg:.2f}\\n\\n\")\n",
        "    f.write(\"Cluster Summary:\\n\")\n",
        "    f.write(cluster_summary.to_string())\n",
        "    f.write(\"\\n\\nCluster Descriptions (Tentative):\\n\")\n",
        "    for i, desc in cluster_descriptions.items():\n",
        "        f.write(f\"Cluster {i}: {desc}\\n\")\n",
        "print(\"Results saved to 'clustered_data.csv' and 'clustering_results.txt'\")"
      ],
      "metadata": {
        "id": "iLpg0SO5ez7e"
      },
      "execution_count": null,
      "outputs": []
    }
  ]
}