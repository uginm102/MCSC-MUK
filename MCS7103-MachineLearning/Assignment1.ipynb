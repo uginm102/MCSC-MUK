{
  "nbformat": 4,
  "nbformat_minor": 0,
  "metadata": {
    "colab": {
      "provenance": [],
      "authorship_tag": "ABX9TyO1FKDRPFr1w4aKtkTmli7W",
      "include_colab_link": true
    },
    "kernelspec": {
      "name": "python3",
      "display_name": "Python 3"
    },
    "language_info": {
      "name": "python"
    }
  },
  "cells": [
    {
      "cell_type": "markdown",
      "metadata": {
        "id": "view-in-github",
        "colab_type": "text"
      },
      "source": [
        "<a href=\"https://colab.research.google.com/github/uginm102/MCSC-MUK/blob/main/MCS7103-MachineLearning/Assignment1.ipynb\" target=\"_parent\"><img src=\"https://colab.research.google.com/assets/colab-badge.svg\" alt=\"Open In Colab\"/></a>"
      ]
    },
    {
      "cell_type": "markdown",
      "source": [
        "# Dataset: Breast cancer risk estimation for Cuban women"
      ],
      "metadata": {
        "id": "Okk9qkouPT3i"
      }
    },
    {
      "cell_type": "markdown",
      "source": [
        "<a id='Dataset'></a>\n",
        "\n",
        "Our data is from BCSC Hispanic dataset\n",
        "We shall be examining medical data of 1,697 cases of breast cancer diagnosis in Cuban women.\n",
        "\n"
      ],
      "metadata": {
        "id": "OIoEVPCxPgN2"
      }
    },
    {
      "cell_type": "markdown",
      "source": [
        "<a id='gathering'></a>\n",
        "\n",
        "## Gathering Data"
      ],
      "metadata": {
        "id": "N8D0azrGYk_Y"
      }
    },
    {
      "cell_type": "code",
      "source": [
        "import pandas as pd\n",
        "import numpy as np\n",
        "import matplotlib.pyplot as plt\n",
        "import seaborn as sns\n",
        "import plotly.express as px\n",
        "from sklearn.preprocessing import LabelEncoder\n",
        "from sklearn.model_selection import train_test_split\n"
      ],
      "metadata": {
        "id": "6YVI-LWHYtgK"
      },
      "execution_count": 1,
      "outputs": []
    },
    {
      "cell_type": "code",
      "execution_count": 2,
      "metadata": {
        "id": "Bi774LJY_0_0"
      },
      "outputs": [],
      "source": [
        "data = pd.read_csv('https://raw.githubusercontent.com/uginm102/MCSC-MUK/main/MCS7103-MachineLearning/CubanDataset.csv')\n"
      ]
    },
    {
      "cell_type": "markdown",
      "source": [
        "<a id='assessing'></a>\n",
        "\n",
        "## Assessing Data"
      ],
      "metadata": {
        "id": "WWipmuq8Y12J"
      }
    },
    {
      "cell_type": "markdown",
      "source": [
        "The patients data records are stored in one table called `data`.\n",
        "\n",
        "The data is collected from patients who have gone for breat cancer screening.\n",
        "\n",
        "The table is displayed bellow."
      ],
      "metadata": {
        "id": "Voha5_PAY2ta"
      }
    },
    {
      "source": [
        "# Display data\n",
        "data.head(20)\n"
      ],
      "cell_type": "code",
      "metadata": {
        "colab": {
          "base_uri": "https://localhost:8080/",
          "height": 706
        },
        "id": "D0qJCzX4GJRp",
        "outputId": "fc25a790-67ff-4c8f-f032-361aee08a90d"
      },
      "execution_count": 3,
      "outputs": [
        {
          "output_type": "execute_result",
          "data": {
            "text/plain": [
              "    id  age  menarche menopause agefirst children breastfeeding  \\\n",
              "0    1   50        11        No       No        0            No   \n",
              "1    2   46        12        No       36        1      3 months   \n",
              "2    3   47        13        No       26        1      3 months   \n",
              "3    4   49        11        47       21        1            No   \n",
              "4    5   54        14        42       16        1       1 month   \n",
              "5    6   53        11        44       26        1            No   \n",
              "6    7   56        11        46       21        1      2 months   \n",
              "7    8   48        13        44       20        1       1 month   \n",
              "8    9   42        11        No       27        1       1 month   \n",
              "9   10   41        12        No       24        0            No   \n",
              "10  11   54        11        43       No        0            No   \n",
              "11  12   38        10        No       30        1      4 months   \n",
              "12  13   39        14        No       35        1      3 months   \n",
              "13  14   57        11        51       No        0            No   \n",
              "14  15   41        11        No       25        1      2 months   \n",
              "15  16   63        12        43       18        1      3 months   \n",
              "16  17   69        15        46       28        2      8 months   \n",
              "17  18   55        11        40       23        1      2 months   \n",
              "18  19   45        13        No       24        2      3 months   \n",
              "19  20   67        12        41       22        1      3 months   \n",
              "\n",
              "             nrelbc  biopsies hyperplasia  ... weight  exercise  alcohol  \\\n",
              "0            Mother       1.0         Yes  ...   83.4        No      Yes   \n",
              "1     Mother/Sister       2.0         Yes  ...   78.2         2      Yes   \n",
              "2            Sister       1.0         Yes  ...   82.6         1       No   \n",
              "3          Daughter       1.0          No  ...   79.4        No      Yes   \n",
              "4            Mother       2.0         Yes  ...   81.5        No      Yes   \n",
              "5                No       1.0          No  ...   75.0        No      Yes   \n",
              "6            Mother       3.0          No  ...   59.4        No      Yes   \n",
              "7     Mother/Sister       1.0          No  ...   79.3        No      Yes   \n",
              "8            Mother       1.0         Yes  ...   68.1        No      Yes   \n",
              "9                No       1.0         Yes  ...   82.4     Diary      Yes   \n",
              "10               No       2.0          No  ...   79.5         3      Yes   \n",
              "11           Mother       1.0         Yes  ...   81.9        No      Yes   \n",
              "12           Mother       1.0         Yes  ...   79.4        No      Yes   \n",
              "13           Sister       3.0         Yes  ...   61.2         2      Yes   \n",
              "14           Sister       1.0         Yes  ...   65.8        No      Yes   \n",
              "15  Mother/Daughter       2.0          No  ...   81.2         2      Yes   \n",
              "16    Mother/Sister       1.0         Yes  ...   79.4         1      Yes   \n",
              "17           Sister       1.0         Yes  ...   63.0        No      Yes   \n",
              "18               No       1.0          No  ...   71.5        No      Yes   \n",
              "19           Mother       2.0          No  ...   58.3        No      Yes   \n",
              "\n",
              "    tobacco   allergies emotional depressive histologicalclass birads cancer  \n",
              "0       Yes    Rhinitis       Sad        Yes               3.0     3A    Yes  \n",
              "1        No   Medicines       Joy         No               3.0     3B    Yes  \n",
              "2       Yes  Laryngitis       Sad         No               4.0     3B    Yes  \n",
              "3       Yes          No       Joy         No               3.0     4B    Yes  \n",
              "4        No          No       Sad        Yes               4.0     3C    Yes  \n",
              "5        No  Laryngitis       Sad        Yes              11.0     5C    Yes  \n",
              "6       Yes          No       Joy        Yes               3.0     5C    Yes  \n",
              "7        No          No       Sad         No               3.0     5B    Yes  \n",
              "8       Yes          No       Sad        Yes               4.0     4B    Yes  \n",
              "9       Yes    Rhinitis       Joy         No               3.0     3C    Yes  \n",
              "10      Yes    Rhinitis       Sad        Yes               3.0     3B    Yes  \n",
              "11      Yes    Rhinitis       Sad        Yes               6.0     3B    Yes  \n",
              "12       No   Medicines       Sad        Yes               3.0     5B    Yes  \n",
              "13       No  Laryngitis       Joy         No               3.0     5B    Yes  \n",
              "14      Yes          No       Sad        Yes               3.0     5B    Yes  \n",
              "15      Yes  Laryngitis       Joy        Yes               4.0     4B    Yes  \n",
              "16      Yes          No       Joy         No               3.0     3B    Yes  \n",
              "17      Yes    Rhinitis       Sad        Yes               3.0     5C    Yes  \n",
              "18      Yes          No       Sad        Yes               3.0     5C    Yes  \n",
              "19      Yes    Rhinitis       Sad        Yes               3.0      6    Yes  \n",
              "\n",
              "[20 rows x 23 columns]"
            ],
            "text/html": [
              "\n",
              "  <div id=\"df-69a5dac6-a54a-4284-a3a7-94953599dfa4\" class=\"colab-df-container\">\n",
              "    <div>\n",
              "<style scoped>\n",
              "    .dataframe tbody tr th:only-of-type {\n",
              "        vertical-align: middle;\n",
              "    }\n",
              "\n",
              "    .dataframe tbody tr th {\n",
              "        vertical-align: top;\n",
              "    }\n",
              "\n",
              "    .dataframe thead th {\n",
              "        text-align: right;\n",
              "    }\n",
              "</style>\n",
              "<table border=\"1\" class=\"dataframe\">\n",
              "  <thead>\n",
              "    <tr style=\"text-align: right;\">\n",
              "      <th></th>\n",
              "      <th>id</th>\n",
              "      <th>age</th>\n",
              "      <th>menarche</th>\n",
              "      <th>menopause</th>\n",
              "      <th>agefirst</th>\n",
              "      <th>children</th>\n",
              "      <th>breastfeeding</th>\n",
              "      <th>nrelbc</th>\n",
              "      <th>biopsies</th>\n",
              "      <th>hyperplasia</th>\n",
              "      <th>...</th>\n",
              "      <th>weight</th>\n",
              "      <th>exercise</th>\n",
              "      <th>alcohol</th>\n",
              "      <th>tobacco</th>\n",
              "      <th>allergies</th>\n",
              "      <th>emotional</th>\n",
              "      <th>depressive</th>\n",
              "      <th>histologicalclass</th>\n",
              "      <th>birads</th>\n",
              "      <th>cancer</th>\n",
              "    </tr>\n",
              "  </thead>\n",
              "  <tbody>\n",
              "    <tr>\n",
              "      <th>0</th>\n",
              "      <td>1</td>\n",
              "      <td>50</td>\n",
              "      <td>11</td>\n",
              "      <td>No</td>\n",
              "      <td>No</td>\n",
              "      <td>0</td>\n",
              "      <td>No</td>\n",
              "      <td>Mother</td>\n",
              "      <td>1.0</td>\n",
              "      <td>Yes</td>\n",
              "      <td>...</td>\n",
              "      <td>83.4</td>\n",
              "      <td>No</td>\n",
              "      <td>Yes</td>\n",
              "      <td>Yes</td>\n",
              "      <td>Rhinitis</td>\n",
              "      <td>Sad</td>\n",
              "      <td>Yes</td>\n",
              "      <td>3.0</td>\n",
              "      <td>3A</td>\n",
              "      <td>Yes</td>\n",
              "    </tr>\n",
              "    <tr>\n",
              "      <th>1</th>\n",
              "      <td>2</td>\n",
              "      <td>46</td>\n",
              "      <td>12</td>\n",
              "      <td>No</td>\n",
              "      <td>36</td>\n",
              "      <td>1</td>\n",
              "      <td>3 months</td>\n",
              "      <td>Mother/Sister</td>\n",
              "      <td>2.0</td>\n",
              "      <td>Yes</td>\n",
              "      <td>...</td>\n",
              "      <td>78.2</td>\n",
              "      <td>2</td>\n",
              "      <td>Yes</td>\n",
              "      <td>No</td>\n",
              "      <td>Medicines</td>\n",
              "      <td>Joy</td>\n",
              "      <td>No</td>\n",
              "      <td>3.0</td>\n",
              "      <td>3B</td>\n",
              "      <td>Yes</td>\n",
              "    </tr>\n",
              "    <tr>\n",
              "      <th>2</th>\n",
              "      <td>3</td>\n",
              "      <td>47</td>\n",
              "      <td>13</td>\n",
              "      <td>No</td>\n",
              "      <td>26</td>\n",
              "      <td>1</td>\n",
              "      <td>3 months</td>\n",
              "      <td>Sister</td>\n",
              "      <td>1.0</td>\n",
              "      <td>Yes</td>\n",
              "      <td>...</td>\n",
              "      <td>82.6</td>\n",
              "      <td>1</td>\n",
              "      <td>No</td>\n",
              "      <td>Yes</td>\n",
              "      <td>Laryngitis</td>\n",
              "      <td>Sad</td>\n",
              "      <td>No</td>\n",
              "      <td>4.0</td>\n",
              "      <td>3B</td>\n",
              "      <td>Yes</td>\n",
              "    </tr>\n",
              "    <tr>\n",
              "      <th>3</th>\n",
              "      <td>4</td>\n",
              "      <td>49</td>\n",
              "      <td>11</td>\n",
              "      <td>47</td>\n",
              "      <td>21</td>\n",
              "      <td>1</td>\n",
              "      <td>No</td>\n",
              "      <td>Daughter</td>\n",
              "      <td>1.0</td>\n",
              "      <td>No</td>\n",
              "      <td>...</td>\n",
              "      <td>79.4</td>\n",
              "      <td>No</td>\n",
              "      <td>Yes</td>\n",
              "      <td>Yes</td>\n",
              "      <td>No</td>\n",
              "      <td>Joy</td>\n",
              "      <td>No</td>\n",
              "      <td>3.0</td>\n",
              "      <td>4B</td>\n",
              "      <td>Yes</td>\n",
              "    </tr>\n",
              "    <tr>\n",
              "      <th>4</th>\n",
              "      <td>5</td>\n",
              "      <td>54</td>\n",
              "      <td>14</td>\n",
              "      <td>42</td>\n",
              "      <td>16</td>\n",
              "      <td>1</td>\n",
              "      <td>1 month</td>\n",
              "      <td>Mother</td>\n",
              "      <td>2.0</td>\n",
              "      <td>Yes</td>\n",
              "      <td>...</td>\n",
              "      <td>81.5</td>\n",
              "      <td>No</td>\n",
              "      <td>Yes</td>\n",
              "      <td>No</td>\n",
              "      <td>No</td>\n",
              "      <td>Sad</td>\n",
              "      <td>Yes</td>\n",
              "      <td>4.0</td>\n",
              "      <td>3C</td>\n",
              "      <td>Yes</td>\n",
              "    </tr>\n",
              "    <tr>\n",
              "      <th>5</th>\n",
              "      <td>6</td>\n",
              "      <td>53</td>\n",
              "      <td>11</td>\n",
              "      <td>44</td>\n",
              "      <td>26</td>\n",
              "      <td>1</td>\n",
              "      <td>No</td>\n",
              "      <td>No</td>\n",
              "      <td>1.0</td>\n",
              "      <td>No</td>\n",
              "      <td>...</td>\n",
              "      <td>75.0</td>\n",
              "      <td>No</td>\n",
              "      <td>Yes</td>\n",
              "      <td>No</td>\n",
              "      <td>Laryngitis</td>\n",
              "      <td>Sad</td>\n",
              "      <td>Yes</td>\n",
              "      <td>11.0</td>\n",
              "      <td>5C</td>\n",
              "      <td>Yes</td>\n",
              "    </tr>\n",
              "    <tr>\n",
              "      <th>6</th>\n",
              "      <td>7</td>\n",
              "      <td>56</td>\n",
              "      <td>11</td>\n",
              "      <td>46</td>\n",
              "      <td>21</td>\n",
              "      <td>1</td>\n",
              "      <td>2 months</td>\n",
              "      <td>Mother</td>\n",
              "      <td>3.0</td>\n",
              "      <td>No</td>\n",
              "      <td>...</td>\n",
              "      <td>59.4</td>\n",
              "      <td>No</td>\n",
              "      <td>Yes</td>\n",
              "      <td>Yes</td>\n",
              "      <td>No</td>\n",
              "      <td>Joy</td>\n",
              "      <td>Yes</td>\n",
              "      <td>3.0</td>\n",
              "      <td>5C</td>\n",
              "      <td>Yes</td>\n",
              "    </tr>\n",
              "    <tr>\n",
              "      <th>7</th>\n",
              "      <td>8</td>\n",
              "      <td>48</td>\n",
              "      <td>13</td>\n",
              "      <td>44</td>\n",
              "      <td>20</td>\n",
              "      <td>1</td>\n",
              "      <td>1 month</td>\n",
              "      <td>Mother/Sister</td>\n",
              "      <td>1.0</td>\n",
              "      <td>No</td>\n",
              "      <td>...</td>\n",
              "      <td>79.3</td>\n",
              "      <td>No</td>\n",
              "      <td>Yes</td>\n",
              "      <td>No</td>\n",
              "      <td>No</td>\n",
              "      <td>Sad</td>\n",
              "      <td>No</td>\n",
              "      <td>3.0</td>\n",
              "      <td>5B</td>\n",
              "      <td>Yes</td>\n",
              "    </tr>\n",
              "    <tr>\n",
              "      <th>8</th>\n",
              "      <td>9</td>\n",
              "      <td>42</td>\n",
              "      <td>11</td>\n",
              "      <td>No</td>\n",
              "      <td>27</td>\n",
              "      <td>1</td>\n",
              "      <td>1 month</td>\n",
              "      <td>Mother</td>\n",
              "      <td>1.0</td>\n",
              "      <td>Yes</td>\n",
              "      <td>...</td>\n",
              "      <td>68.1</td>\n",
              "      <td>No</td>\n",
              "      <td>Yes</td>\n",
              "      <td>Yes</td>\n",
              "      <td>No</td>\n",
              "      <td>Sad</td>\n",
              "      <td>Yes</td>\n",
              "      <td>4.0</td>\n",
              "      <td>4B</td>\n",
              "      <td>Yes</td>\n",
              "    </tr>\n",
              "    <tr>\n",
              "      <th>9</th>\n",
              "      <td>10</td>\n",
              "      <td>41</td>\n",
              "      <td>12</td>\n",
              "      <td>No</td>\n",
              "      <td>24</td>\n",
              "      <td>0</td>\n",
              "      <td>No</td>\n",
              "      <td>No</td>\n",
              "      <td>1.0</td>\n",
              "      <td>Yes</td>\n",
              "      <td>...</td>\n",
              "      <td>82.4</td>\n",
              "      <td>Diary</td>\n",
              "      <td>Yes</td>\n",
              "      <td>Yes</td>\n",
              "      <td>Rhinitis</td>\n",
              "      <td>Joy</td>\n",
              "      <td>No</td>\n",
              "      <td>3.0</td>\n",
              "      <td>3C</td>\n",
              "      <td>Yes</td>\n",
              "    </tr>\n",
              "    <tr>\n",
              "      <th>10</th>\n",
              "      <td>11</td>\n",
              "      <td>54</td>\n",
              "      <td>11</td>\n",
              "      <td>43</td>\n",
              "      <td>No</td>\n",
              "      <td>0</td>\n",
              "      <td>No</td>\n",
              "      <td>No</td>\n",
              "      <td>2.0</td>\n",
              "      <td>No</td>\n",
              "      <td>...</td>\n",
              "      <td>79.5</td>\n",
              "      <td>3</td>\n",
              "      <td>Yes</td>\n",
              "      <td>Yes</td>\n",
              "      <td>Rhinitis</td>\n",
              "      <td>Sad</td>\n",
              "      <td>Yes</td>\n",
              "      <td>3.0</td>\n",
              "      <td>3B</td>\n",
              "      <td>Yes</td>\n",
              "    </tr>\n",
              "    <tr>\n",
              "      <th>11</th>\n",
              "      <td>12</td>\n",
              "      <td>38</td>\n",
              "      <td>10</td>\n",
              "      <td>No</td>\n",
              "      <td>30</td>\n",
              "      <td>1</td>\n",
              "      <td>4 months</td>\n",
              "      <td>Mother</td>\n",
              "      <td>1.0</td>\n",
              "      <td>Yes</td>\n",
              "      <td>...</td>\n",
              "      <td>81.9</td>\n",
              "      <td>No</td>\n",
              "      <td>Yes</td>\n",
              "      <td>Yes</td>\n",
              "      <td>Rhinitis</td>\n",
              "      <td>Sad</td>\n",
              "      <td>Yes</td>\n",
              "      <td>6.0</td>\n",
              "      <td>3B</td>\n",
              "      <td>Yes</td>\n",
              "    </tr>\n",
              "    <tr>\n",
              "      <th>12</th>\n",
              "      <td>13</td>\n",
              "      <td>39</td>\n",
              "      <td>14</td>\n",
              "      <td>No</td>\n",
              "      <td>35</td>\n",
              "      <td>1</td>\n",
              "      <td>3 months</td>\n",
              "      <td>Mother</td>\n",
              "      <td>1.0</td>\n",
              "      <td>Yes</td>\n",
              "      <td>...</td>\n",
              "      <td>79.4</td>\n",
              "      <td>No</td>\n",
              "      <td>Yes</td>\n",
              "      <td>No</td>\n",
              "      <td>Medicines</td>\n",
              "      <td>Sad</td>\n",
              "      <td>Yes</td>\n",
              "      <td>3.0</td>\n",
              "      <td>5B</td>\n",
              "      <td>Yes</td>\n",
              "    </tr>\n",
              "    <tr>\n",
              "      <th>13</th>\n",
              "      <td>14</td>\n",
              "      <td>57</td>\n",
              "      <td>11</td>\n",
              "      <td>51</td>\n",
              "      <td>No</td>\n",
              "      <td>0</td>\n",
              "      <td>No</td>\n",
              "      <td>Sister</td>\n",
              "      <td>3.0</td>\n",
              "      <td>Yes</td>\n",
              "      <td>...</td>\n",
              "      <td>61.2</td>\n",
              "      <td>2</td>\n",
              "      <td>Yes</td>\n",
              "      <td>No</td>\n",
              "      <td>Laryngitis</td>\n",
              "      <td>Joy</td>\n",
              "      <td>No</td>\n",
              "      <td>3.0</td>\n",
              "      <td>5B</td>\n",
              "      <td>Yes</td>\n",
              "    </tr>\n",
              "    <tr>\n",
              "      <th>14</th>\n",
              "      <td>15</td>\n",
              "      <td>41</td>\n",
              "      <td>11</td>\n",
              "      <td>No</td>\n",
              "      <td>25</td>\n",
              "      <td>1</td>\n",
              "      <td>2 months</td>\n",
              "      <td>Sister</td>\n",
              "      <td>1.0</td>\n",
              "      <td>Yes</td>\n",
              "      <td>...</td>\n",
              "      <td>65.8</td>\n",
              "      <td>No</td>\n",
              "      <td>Yes</td>\n",
              "      <td>Yes</td>\n",
              "      <td>No</td>\n",
              "      <td>Sad</td>\n",
              "      <td>Yes</td>\n",
              "      <td>3.0</td>\n",
              "      <td>5B</td>\n",
              "      <td>Yes</td>\n",
              "    </tr>\n",
              "    <tr>\n",
              "      <th>15</th>\n",
              "      <td>16</td>\n",
              "      <td>63</td>\n",
              "      <td>12</td>\n",
              "      <td>43</td>\n",
              "      <td>18</td>\n",
              "      <td>1</td>\n",
              "      <td>3 months</td>\n",
              "      <td>Mother/Daughter</td>\n",
              "      <td>2.0</td>\n",
              "      <td>No</td>\n",
              "      <td>...</td>\n",
              "      <td>81.2</td>\n",
              "      <td>2</td>\n",
              "      <td>Yes</td>\n",
              "      <td>Yes</td>\n",
              "      <td>Laryngitis</td>\n",
              "      <td>Joy</td>\n",
              "      <td>Yes</td>\n",
              "      <td>4.0</td>\n",
              "      <td>4B</td>\n",
              "      <td>Yes</td>\n",
              "    </tr>\n",
              "    <tr>\n",
              "      <th>16</th>\n",
              "      <td>17</td>\n",
              "      <td>69</td>\n",
              "      <td>15</td>\n",
              "      <td>46</td>\n",
              "      <td>28</td>\n",
              "      <td>2</td>\n",
              "      <td>8 months</td>\n",
              "      <td>Mother/Sister</td>\n",
              "      <td>1.0</td>\n",
              "      <td>Yes</td>\n",
              "      <td>...</td>\n",
              "      <td>79.4</td>\n",
              "      <td>1</td>\n",
              "      <td>Yes</td>\n",
              "      <td>Yes</td>\n",
              "      <td>No</td>\n",
              "      <td>Joy</td>\n",
              "      <td>No</td>\n",
              "      <td>3.0</td>\n",
              "      <td>3B</td>\n",
              "      <td>Yes</td>\n",
              "    </tr>\n",
              "    <tr>\n",
              "      <th>17</th>\n",
              "      <td>18</td>\n",
              "      <td>55</td>\n",
              "      <td>11</td>\n",
              "      <td>40</td>\n",
              "      <td>23</td>\n",
              "      <td>1</td>\n",
              "      <td>2 months</td>\n",
              "      <td>Sister</td>\n",
              "      <td>1.0</td>\n",
              "      <td>Yes</td>\n",
              "      <td>...</td>\n",
              "      <td>63.0</td>\n",
              "      <td>No</td>\n",
              "      <td>Yes</td>\n",
              "      <td>Yes</td>\n",
              "      <td>Rhinitis</td>\n",
              "      <td>Sad</td>\n",
              "      <td>Yes</td>\n",
              "      <td>3.0</td>\n",
              "      <td>5C</td>\n",
              "      <td>Yes</td>\n",
              "    </tr>\n",
              "    <tr>\n",
              "      <th>18</th>\n",
              "      <td>19</td>\n",
              "      <td>45</td>\n",
              "      <td>13</td>\n",
              "      <td>No</td>\n",
              "      <td>24</td>\n",
              "      <td>2</td>\n",
              "      <td>3 months</td>\n",
              "      <td>No</td>\n",
              "      <td>1.0</td>\n",
              "      <td>No</td>\n",
              "      <td>...</td>\n",
              "      <td>71.5</td>\n",
              "      <td>No</td>\n",
              "      <td>Yes</td>\n",
              "      <td>Yes</td>\n",
              "      <td>No</td>\n",
              "      <td>Sad</td>\n",
              "      <td>Yes</td>\n",
              "      <td>3.0</td>\n",
              "      <td>5C</td>\n",
              "      <td>Yes</td>\n",
              "    </tr>\n",
              "    <tr>\n",
              "      <th>19</th>\n",
              "      <td>20</td>\n",
              "      <td>67</td>\n",
              "      <td>12</td>\n",
              "      <td>41</td>\n",
              "      <td>22</td>\n",
              "      <td>1</td>\n",
              "      <td>3 months</td>\n",
              "      <td>Mother</td>\n",
              "      <td>2.0</td>\n",
              "      <td>No</td>\n",
              "      <td>...</td>\n",
              "      <td>58.3</td>\n",
              "      <td>No</td>\n",
              "      <td>Yes</td>\n",
              "      <td>Yes</td>\n",
              "      <td>Rhinitis</td>\n",
              "      <td>Sad</td>\n",
              "      <td>Yes</td>\n",
              "      <td>3.0</td>\n",
              "      <td>6</td>\n",
              "      <td>Yes</td>\n",
              "    </tr>\n",
              "  </tbody>\n",
              "</table>\n",
              "<p>20 rows × 23 columns</p>\n",
              "</div>\n",
              "    <div class=\"colab-df-buttons\">\n",
              "\n",
              "  <div class=\"colab-df-container\">\n",
              "    <button class=\"colab-df-convert\" onclick=\"convertToInteractive('df-69a5dac6-a54a-4284-a3a7-94953599dfa4')\"\n",
              "            title=\"Convert this dataframe to an interactive table.\"\n",
              "            style=\"display:none;\">\n",
              "\n",
              "  <svg xmlns=\"http://www.w3.org/2000/svg\" height=\"24px\" viewBox=\"0 -960 960 960\">\n",
              "    <path d=\"M120-120v-720h720v720H120Zm60-500h600v-160H180v160Zm220 220h160v-160H400v160Zm0 220h160v-160H400v160ZM180-400h160v-160H180v160Zm440 0h160v-160H620v160ZM180-180h160v-160H180v160Zm440 0h160v-160H620v160Z\"/>\n",
              "  </svg>\n",
              "    </button>\n",
              "\n",
              "  <style>\n",
              "    .colab-df-container {\n",
              "      display:flex;\n",
              "      gap: 12px;\n",
              "    }\n",
              "\n",
              "    .colab-df-convert {\n",
              "      background-color: #E8F0FE;\n",
              "      border: none;\n",
              "      border-radius: 50%;\n",
              "      cursor: pointer;\n",
              "      display: none;\n",
              "      fill: #1967D2;\n",
              "      height: 32px;\n",
              "      padding: 0 0 0 0;\n",
              "      width: 32px;\n",
              "    }\n",
              "\n",
              "    .colab-df-convert:hover {\n",
              "      background-color: #E2EBFA;\n",
              "      box-shadow: 0px 1px 2px rgba(60, 64, 67, 0.3), 0px 1px 3px 1px rgba(60, 64, 67, 0.15);\n",
              "      fill: #174EA6;\n",
              "    }\n",
              "\n",
              "    .colab-df-buttons div {\n",
              "      margin-bottom: 4px;\n",
              "    }\n",
              "\n",
              "    [theme=dark] .colab-df-convert {\n",
              "      background-color: #3B4455;\n",
              "      fill: #D2E3FC;\n",
              "    }\n",
              "\n",
              "    [theme=dark] .colab-df-convert:hover {\n",
              "      background-color: #434B5C;\n",
              "      box-shadow: 0px 1px 3px 1px rgba(0, 0, 0, 0.15);\n",
              "      filter: drop-shadow(0px 1px 2px rgba(0, 0, 0, 0.3));\n",
              "      fill: #FFFFFF;\n",
              "    }\n",
              "  </style>\n",
              "\n",
              "    <script>\n",
              "      const buttonEl =\n",
              "        document.querySelector('#df-69a5dac6-a54a-4284-a3a7-94953599dfa4 button.colab-df-convert');\n",
              "      buttonEl.style.display =\n",
              "        google.colab.kernel.accessAllowed ? 'block' : 'none';\n",
              "\n",
              "      async function convertToInteractive(key) {\n",
              "        const element = document.querySelector('#df-69a5dac6-a54a-4284-a3a7-94953599dfa4');\n",
              "        const dataTable =\n",
              "          await google.colab.kernel.invokeFunction('convertToInteractive',\n",
              "                                                    [key], {});\n",
              "        if (!dataTable) return;\n",
              "\n",
              "        const docLinkHtml = 'Like what you see? Visit the ' +\n",
              "          '<a target=\"_blank\" href=https://colab.research.google.com/notebooks/data_table.ipynb>data table notebook</a>'\n",
              "          + ' to learn more about interactive tables.';\n",
              "        element.innerHTML = '';\n",
              "        dataTable['output_type'] = 'display_data';\n",
              "        await google.colab.output.renderOutput(dataTable, element);\n",
              "        const docLink = document.createElement('div');\n",
              "        docLink.innerHTML = docLinkHtml;\n",
              "        element.appendChild(docLink);\n",
              "      }\n",
              "    </script>\n",
              "  </div>\n",
              "\n",
              "\n",
              "<div id=\"df-fa3bb27d-6c8d-4590-9607-6e458d42a830\">\n",
              "  <button class=\"colab-df-quickchart\" onclick=\"quickchart('df-fa3bb27d-6c8d-4590-9607-6e458d42a830')\"\n",
              "            title=\"Suggest charts\"\n",
              "            style=\"display:none;\">\n",
              "\n",
              "<svg xmlns=\"http://www.w3.org/2000/svg\" height=\"24px\"viewBox=\"0 0 24 24\"\n",
              "     width=\"24px\">\n",
              "    <g>\n",
              "        <path d=\"M19 3H5c-1.1 0-2 .9-2 2v14c0 1.1.9 2 2 2h14c1.1 0 2-.9 2-2V5c0-1.1-.9-2-2-2zM9 17H7v-7h2v7zm4 0h-2V7h2v10zm4 0h-2v-4h2v4z\"/>\n",
              "    </g>\n",
              "</svg>\n",
              "  </button>\n",
              "\n",
              "<style>\n",
              "  .colab-df-quickchart {\n",
              "      --bg-color: #E8F0FE;\n",
              "      --fill-color: #1967D2;\n",
              "      --hover-bg-color: #E2EBFA;\n",
              "      --hover-fill-color: #174EA6;\n",
              "      --disabled-fill-color: #AAA;\n",
              "      --disabled-bg-color: #DDD;\n",
              "  }\n",
              "\n",
              "  [theme=dark] .colab-df-quickchart {\n",
              "      --bg-color: #3B4455;\n",
              "      --fill-color: #D2E3FC;\n",
              "      --hover-bg-color: #434B5C;\n",
              "      --hover-fill-color: #FFFFFF;\n",
              "      --disabled-bg-color: #3B4455;\n",
              "      --disabled-fill-color: #666;\n",
              "  }\n",
              "\n",
              "  .colab-df-quickchart {\n",
              "    background-color: var(--bg-color);\n",
              "    border: none;\n",
              "    border-radius: 50%;\n",
              "    cursor: pointer;\n",
              "    display: none;\n",
              "    fill: var(--fill-color);\n",
              "    height: 32px;\n",
              "    padding: 0;\n",
              "    width: 32px;\n",
              "  }\n",
              "\n",
              "  .colab-df-quickchart:hover {\n",
              "    background-color: var(--hover-bg-color);\n",
              "    box-shadow: 0 1px 2px rgba(60, 64, 67, 0.3), 0 1px 3px 1px rgba(60, 64, 67, 0.15);\n",
              "    fill: var(--button-hover-fill-color);\n",
              "  }\n",
              "\n",
              "  .colab-df-quickchart-complete:disabled,\n",
              "  .colab-df-quickchart-complete:disabled:hover {\n",
              "    background-color: var(--disabled-bg-color);\n",
              "    fill: var(--disabled-fill-color);\n",
              "    box-shadow: none;\n",
              "  }\n",
              "\n",
              "  .colab-df-spinner {\n",
              "    border: 2px solid var(--fill-color);\n",
              "    border-color: transparent;\n",
              "    border-bottom-color: var(--fill-color);\n",
              "    animation:\n",
              "      spin 1s steps(1) infinite;\n",
              "  }\n",
              "\n",
              "  @keyframes spin {\n",
              "    0% {\n",
              "      border-color: transparent;\n",
              "      border-bottom-color: var(--fill-color);\n",
              "      border-left-color: var(--fill-color);\n",
              "    }\n",
              "    20% {\n",
              "      border-color: transparent;\n",
              "      border-left-color: var(--fill-color);\n",
              "      border-top-color: var(--fill-color);\n",
              "    }\n",
              "    30% {\n",
              "      border-color: transparent;\n",
              "      border-left-color: var(--fill-color);\n",
              "      border-top-color: var(--fill-color);\n",
              "      border-right-color: var(--fill-color);\n",
              "    }\n",
              "    40% {\n",
              "      border-color: transparent;\n",
              "      border-right-color: var(--fill-color);\n",
              "      border-top-color: var(--fill-color);\n",
              "    }\n",
              "    60% {\n",
              "      border-color: transparent;\n",
              "      border-right-color: var(--fill-color);\n",
              "    }\n",
              "    80% {\n",
              "      border-color: transparent;\n",
              "      border-right-color: var(--fill-color);\n",
              "      border-bottom-color: var(--fill-color);\n",
              "    }\n",
              "    90% {\n",
              "      border-color: transparent;\n",
              "      border-bottom-color: var(--fill-color);\n",
              "    }\n",
              "  }\n",
              "</style>\n",
              "\n",
              "  <script>\n",
              "    async function quickchart(key) {\n",
              "      const quickchartButtonEl =\n",
              "        document.querySelector('#' + key + ' button');\n",
              "      quickchartButtonEl.disabled = true;  // To prevent multiple clicks.\n",
              "      quickchartButtonEl.classList.add('colab-df-spinner');\n",
              "      try {\n",
              "        const charts = await google.colab.kernel.invokeFunction(\n",
              "            'suggestCharts', [key], {});\n",
              "      } catch (error) {\n",
              "        console.error('Error during call to suggestCharts:', error);\n",
              "      }\n",
              "      quickchartButtonEl.classList.remove('colab-df-spinner');\n",
              "      quickchartButtonEl.classList.add('colab-df-quickchart-complete');\n",
              "    }\n",
              "    (() => {\n",
              "      let quickchartButtonEl =\n",
              "        document.querySelector('#df-fa3bb27d-6c8d-4590-9607-6e458d42a830 button');\n",
              "      quickchartButtonEl.style.display =\n",
              "        google.colab.kernel.accessAllowed ? 'block' : 'none';\n",
              "    })();\n",
              "  </script>\n",
              "</div>\n",
              "\n",
              "    </div>\n",
              "  </div>\n"
            ],
            "application/vnd.google.colaboratory.intrinsic+json": {
              "type": "dataframe",
              "variable_name": "data"
            }
          },
          "metadata": {},
          "execution_count": 3
        }
      ]
    },
    {
      "cell_type": "markdown",
      "source": [
        "`data` columns\n",
        "\n",
        "**Risk factor**:\tDescription\t- Data type\t(Values)\n",
        "\n",
        "1. **age**:\tPatient's age\t- Quantitative ( 20 - 90)\n",
        "2. **menarche**:\tAge of menarche\t- Quantitative ( 8 - 17)\n",
        "3. **menopause**:\tAge of menopause - Quantitative ( 0, 30 - 60)\n",
        "4. **agefirst**:\tAge at first successful delivery - Quantitative ( 0, 9 - 46)\n",
        "5. **children**:\tNumber of children born alive -  ( 0 - 6)\n",
        "6. **breastfeeding**:\tTime breastfed in months - Quantitative ( 0 - 72(months))\n",
        "7. **nrelbc**: Number of first-degree relatives with breast cancer - Quantitative ( 0 - 2)\n",
        "8. **biopsies**: Number of breast biopsies - Quantitative ( 0 - 5)\n",
        "9. **hyperplasia**:\tAtypical hyperplasia - Qualitative ( no, yes)\n",
        "10. **race**:\tRace - Quantitative ( white, mixed, black)\n",
        "11. **year**:\n",
        "12. **imc**:\n",
        "13. **weight**: Patients weight at screening - Quantitative - Kgs\n",
        "14. **exercise**:\tWeekly physical activity - Quantitative ( 0 - 7)\n",
        "15. **alcohol**:\tAlcohol consumption - Qualitative ( no, yes)\n",
        "16. **tobacco**:\tTobacco consumption - Qualitative ( no, yes)\n",
        "17. **allergies**:\tNumber of allergies suffered - Qualitative ( no, dermatitis, laryngitis,\tmedications, other)\n",
        "18. **emotional**:\n",
        "19. **depressive**: Whether a patient is depressed or not - Qaulitative (yes, no)\n",
        "20. **histologicalclass**:\n",
        "21. **birads**:  Breast Imaging-Reporting and Data System (BI-RADS) (0,1,2,3,4,5,6 broken into A,B and C)\n",
        "22. **cancer**:\tBreast cancer diagnosis - Qualitative ( no, yes)"
      ],
      "metadata": {
        "id": "VRN7cJbkZTzv"
      }
    },
    {
      "cell_type": "markdown",
      "source": [
        "Check dimension of the dataset data type.\n"
      ],
      "metadata": {
        "id": "lc_EirjwslSF"
      }
    },
    {
      "cell_type": "code",
      "source": [
        "data.shape"
      ],
      "metadata": {
        "id": "rYAHwJbdR5Jb",
        "outputId": "6b842655-2f6a-4954-9e39-35cbb8dc559b",
        "colab": {
          "base_uri": "https://localhost:8080/"
        }
      },
      "execution_count": 4,
      "outputs": [
        {
          "output_type": "execute_result",
          "data": {
            "text/plain": [
              "(1697, 23)"
            ]
          },
          "metadata": {},
          "execution_count": 4
        }
      ]
    },
    {
      "cell_type": "code",
      "source": [
        "data.info()\n"
      ],
      "metadata": {
        "colab": {
          "base_uri": "https://localhost:8080/"
        },
        "id": "yf9b0wTiHbU8",
        "outputId": "091fbcf0-bcc5-4f58-df67-d46e7c54308e"
      },
      "execution_count": 5,
      "outputs": [
        {
          "output_type": "stream",
          "name": "stdout",
          "text": [
            "<class 'pandas.core.frame.DataFrame'>\n",
            "RangeIndex: 1697 entries, 0 to 1696\n",
            "Data columns (total 23 columns):\n",
            " #   Column             Non-Null Count  Dtype  \n",
            "---  ------             --------------  -----  \n",
            " 0   id                 1697 non-null   int64  \n",
            " 1   age                1697 non-null   int64  \n",
            " 2   menarche           1697 non-null   int64  \n",
            " 3   menopause          1697 non-null   object \n",
            " 4   agefirst           1697 non-null   object \n",
            " 5   children           1697 non-null   object \n",
            " 6   breastfeeding      1697 non-null   object \n",
            " 7   nrelbc             1697 non-null   object \n",
            " 8   biopsies           1696 non-null   float64\n",
            " 9   hyperplasia        1697 non-null   object \n",
            " 10  race               1697 non-null   object \n",
            " 11  year               1160 non-null   float64\n",
            " 12  imc                1690 non-null   float64\n",
            " 13  weight             1687 non-null   float64\n",
            " 14  exercise           1697 non-null   object \n",
            " 15  alcohol            1697 non-null   object \n",
            " 16  tobacco            1697 non-null   object \n",
            " 17  allergies          1421 non-null   object \n",
            " 18  emotional          1697 non-null   object \n",
            " 19  depressive         1697 non-null   object \n",
            " 20  histologicalclass  1160 non-null   float64\n",
            " 21  birads             1160 non-null   object \n",
            " 22  cancer             1697 non-null   object \n",
            "dtypes: float64(5), int64(3), object(15)\n",
            "memory usage: 305.1+ KB\n"
          ]
        }
      ]
    },
    {
      "cell_type": "markdown",
      "source": [
        "Check data types\n"
      ],
      "metadata": {
        "id": "KOTHUfaSsy7M"
      }
    },
    {
      "cell_type": "code",
      "source": [
        "print(data.dtypes)"
      ],
      "metadata": {
        "colab": {
          "base_uri": "https://localhost:8080/"
        },
        "id": "-3HWBLnRs2CR",
        "outputId": "6cbe6abb-3e44-493a-9c1c-f2a7dfb1b43b"
      },
      "execution_count": 6,
      "outputs": [
        {
          "output_type": "stream",
          "name": "stdout",
          "text": [
            "id                     int64\n",
            "age                    int64\n",
            "menarche               int64\n",
            "menopause             object\n",
            "agefirst              object\n",
            "children              object\n",
            "breastfeeding         object\n",
            "nrelbc                object\n",
            "biopsies             float64\n",
            "hyperplasia           object\n",
            "race                  object\n",
            "year                 float64\n",
            "imc                  float64\n",
            "weight               float64\n",
            "exercise              object\n",
            "alcohol               object\n",
            "tobacco               object\n",
            "allergies             object\n",
            "emotional             object\n",
            "depressive            object\n",
            "histologicalclass    float64\n",
            "birads                object\n",
            "cancer                object\n",
            "dtype: object\n"
          ]
        }
      ]
    },
    {
      "cell_type": "markdown",
      "source": [
        "## We next do data wrangling to clean our data and have it ready for our analysis"
      ],
      "metadata": {
        "id": "s-wECSwwoOh-"
      }
    },
    {
      "cell_type": "code",
      "source": [
        "# Check for duplicates\n",
        "print(f\"Duplicates found: {data.duplicated().sum()}\")"
      ],
      "metadata": {
        "colab": {
          "base_uri": "https://localhost:8080/"
        },
        "id": "RLhvcttTZ9qp",
        "outputId": "6fe4c3f5-b844-42d2-d9c8-cdab8787ef86"
      },
      "execution_count": 7,
      "outputs": [
        {
          "output_type": "stream",
          "name": "stdout",
          "text": [
            "Duplicates found: 0\n"
          ]
        }
      ]
    },
    {
      "cell_type": "markdown",
      "source": [
        "Check if the column is unique"
      ],
      "metadata": {
        "id": "R0Oajv3EtDgS"
      }
    },
    {
      "cell_type": "code",
      "source": [
        "print('unique column values')\n",
        "data.apply(lambda x: len(x.unique())).sort_values(ascending=False).head(10)"
      ],
      "metadata": {
        "colab": {
          "base_uri": "https://localhost:8080/",
          "height": 415
        },
        "id": "MtiEU0AAtHUg",
        "outputId": "f46a8ad7-9ae1-49d5-9e1b-3f2933b1fb72"
      },
      "execution_count": 8,
      "outputs": [
        {
          "output_type": "stream",
          "name": "stdout",
          "text": [
            "unique column values\n"
          ]
        },
        {
          "output_type": "execute_result",
          "data": {
            "text/plain": [
              "id               1697\n",
              "weight            293\n",
              "imc               189\n",
              "age                61\n",
              "breastfeeding      42\n",
              "agefirst           33\n",
              "menopause          29\n",
              "allergies          25\n",
              "year               19\n",
              "nrelbc             18\n",
              "dtype: int64"
            ],
            "text/html": [
              "<div>\n",
              "<style scoped>\n",
              "    .dataframe tbody tr th:only-of-type {\n",
              "        vertical-align: middle;\n",
              "    }\n",
              "\n",
              "    .dataframe tbody tr th {\n",
              "        vertical-align: top;\n",
              "    }\n",
              "\n",
              "    .dataframe thead th {\n",
              "        text-align: right;\n",
              "    }\n",
              "</style>\n",
              "<table border=\"1\" class=\"dataframe\">\n",
              "  <thead>\n",
              "    <tr style=\"text-align: right;\">\n",
              "      <th></th>\n",
              "      <th>0</th>\n",
              "    </tr>\n",
              "  </thead>\n",
              "  <tbody>\n",
              "    <tr>\n",
              "      <th>id</th>\n",
              "      <td>1697</td>\n",
              "    </tr>\n",
              "    <tr>\n",
              "      <th>weight</th>\n",
              "      <td>293</td>\n",
              "    </tr>\n",
              "    <tr>\n",
              "      <th>imc</th>\n",
              "      <td>189</td>\n",
              "    </tr>\n",
              "    <tr>\n",
              "      <th>age</th>\n",
              "      <td>61</td>\n",
              "    </tr>\n",
              "    <tr>\n",
              "      <th>breastfeeding</th>\n",
              "      <td>42</td>\n",
              "    </tr>\n",
              "    <tr>\n",
              "      <th>agefirst</th>\n",
              "      <td>33</td>\n",
              "    </tr>\n",
              "    <tr>\n",
              "      <th>menopause</th>\n",
              "      <td>29</td>\n",
              "    </tr>\n",
              "    <tr>\n",
              "      <th>allergies</th>\n",
              "      <td>25</td>\n",
              "    </tr>\n",
              "    <tr>\n",
              "      <th>year</th>\n",
              "      <td>19</td>\n",
              "    </tr>\n",
              "    <tr>\n",
              "      <th>nrelbc</th>\n",
              "      <td>18</td>\n",
              "    </tr>\n",
              "  </tbody>\n",
              "</table>\n",
              "</div><br><label><b>dtype:</b> int64</label>"
            ]
          },
          "metadata": {},
          "execution_count": 8
        }
      ]
    },
    {
      "cell_type": "markdown",
      "source": [
        "Only Id column is unique"
      ],
      "metadata": {
        "id": "MGo3tEIXtLd1"
      }
    },
    {
      "cell_type": "markdown",
      "source": [
        "Analyse the data to find how many cases were positive and negative.\n"
      ],
      "metadata": {
        "id": "R7Iw_vBPuWvr"
      }
    },
    {
      "cell_type": "code",
      "source": [
        "# Total Cases\n",
        "print(f\"Total Cases: {len(data)}\")\n",
        "\n",
        "# Total positives\n",
        "print(f\"Total Positives: {len(data[data['cancer'] == 'Yes'])}\")\n",
        "\n",
        "\n",
        "# Total negatives\n",
        "print(f\"Total Negatives: {len(data[data['cancer'] == 'No'])}\")"
      ],
      "metadata": {
        "colab": {
          "base_uri": "https://localhost:8080/"
        },
        "id": "mcwpAXeTuKwy",
        "outputId": "82dc51ca-a184-4bdd-ffb8-5ee9fdd429d8"
      },
      "execution_count": 9,
      "outputs": [
        {
          "output_type": "stream",
          "name": "stdout",
          "text": [
            "Total Cases: 1697\n",
            "Total Positives: 1160\n",
            "Total Negatives: 537\n"
          ]
        }
      ]
    },
    {
      "cell_type": "markdown",
      "source": [
        "Missing value analysis."
      ],
      "metadata": {
        "id": "ODbg7R-XtbZ2"
      }
    },
    {
      "cell_type": "code",
      "source": [
        "#cols_with_missing = [col for col in train.columns if train[col].isnull().any()]\n",
        "cols_with_missing = data.isnull().sum()\n",
        "\n",
        "cols_with_missing = cols_with_missing[cols_with_missing>0]\n",
        "\n",
        "print(cols_with_missing)\n",
        "\n",
        "cols_with_missing.sort_values(inplace=True)\n",
        "fig, ax = plt.subplots(figsize=(7,6))\n",
        "width = 0.70 # the width of the bars\n",
        "ind = np.arange(len(cols_with_missing))  # the x locations for the groups\n",
        "ax.barh(ind, cols_with_missing, width, color=\"blue\")\n",
        "ax.set_yticks(ind+width/2)\n",
        "ax.set_yticklabels(cols_with_missing.index, minor=False)\n",
        "plt.xlabel('Count')\n",
        "plt.ylabel('Features')"
      ],
      "metadata": {
        "colab": {
          "base_uri": "https://localhost:8080/",
          "height": 698
        },
        "id": "5gtUuhRKtS15",
        "outputId": "cf52cbe5-e039-4867-803f-dcfd46f6fc2b"
      },
      "execution_count": 10,
      "outputs": [
        {
          "output_type": "stream",
          "name": "stdout",
          "text": [
            "biopsies               1\n",
            "year                 537\n",
            "imc                    7\n",
            "weight                10\n",
            "allergies            276\n",
            "histologicalclass    537\n",
            "birads               537\n",
            "dtype: int64\n"
          ]
        },
        {
          "output_type": "execute_result",
          "data": {
            "text/plain": [
              "Text(0, 0.5, 'Features')"
            ]
          },
          "metadata": {},
          "execution_count": 10
        },
        {
          "output_type": "display_data",
          "data": {
            "text/plain": [
              "<Figure size 700x600 with 1 Axes>"
            ],
            "image/png": "[encoded data removed]"
          },
          "metadata": {}
        }
      ]
    },
    {
      "cell_type": "markdown",
      "source": [
        "We have 537 cases where patients didn't have cancer.\n",
        "\n",
        "Which corresponds with the value for year of diagnosis, histological class and birads.\n",
        "\n",
        "These columns therefore won't be needed in our data analysis because it is clear that they are present with a dianosis and absent without it.\n",
        "\n",
        "Id is also not needed in our predictions, it is just used as a counter.\n",
        "\n",
        "Emotional, Allergies and Depressive is also irrelevant in our analysis.\n",
        "\n",
        "<!--It is clear that biopsies will not help in our analysis as they are not done for those who didn't get diagnosed with breast cancer.-->"
      ],
      "metadata": {
        "id": "H2yNHMUtudq2"
      }
    },
    {
      "cell_type": "markdown",
      "source": [
        "Remove unneeded columns."
      ],
      "metadata": {
        "id": "lfXN4Ni6uzOH"
      }
    },
    {
      "cell_type": "code",
      "source": [
        "clean_data = data.drop(['histologicalclass','birads','year','id','emotional','depressive','allergies'], axis=1)\n",
        "clean_data.info()\n"
      ],
      "metadata": {
        "colab": {
          "base_uri": "https://localhost:8080/"
        },
        "id": "hWBMOrKlvBqd",
        "outputId": "d394a654-da89-46ed-8c5c-59654c5423eb"
      },
      "execution_count": 11,
      "outputs": [
        {
          "output_type": "stream",
          "name": "stdout",
          "text": [
            "<class 'pandas.core.frame.DataFrame'>\n",
            "RangeIndex: 1697 entries, 0 to 1696\n",
            "Data columns (total 16 columns):\n",
            " #   Column         Non-Null Count  Dtype  \n",
            "---  ------         --------------  -----  \n",
            " 0   age            1697 non-null   int64  \n",
            " 1   menarche       1697 non-null   int64  \n",
            " 2   menopause      1697 non-null   object \n",
            " 3   agefirst       1697 non-null   object \n",
            " 4   children       1697 non-null   object \n",
            " 5   breastfeeding  1697 non-null   object \n",
            " 6   nrelbc         1697 non-null   object \n",
            " 7   biopsies       1696 non-null   float64\n",
            " 8   hyperplasia    1697 non-null   object \n",
            " 9   race           1697 non-null   object \n",
            " 10  imc            1690 non-null   float64\n",
            " 11  weight         1687 non-null   float64\n",
            " 12  exercise       1697 non-null   object \n",
            " 13  alcohol        1697 non-null   object \n",
            " 14  tobacco        1697 non-null   object \n",
            " 15  cancer         1697 non-null   object \n",
            "dtypes: float64(3), int64(2), object(11)\n",
            "memory usage: 212.2+ KB\n"
          ]
        }
      ]
    },
    {
      "cell_type": "markdown",
      "source": [
        "Handle the remaining missing values.\n",
        "<!-- clean_data.plot.box(by='cancer') -->"
      ],
      "metadata": {
        "id": "g55tckHHZ4_R"
      }
    },
    {
      "cell_type": "code",
      "source": [
        "cols_with_missing = clean_data.isnull().sum()\n",
        "\n",
        "cols_with_missing = cols_with_missing[cols_with_missing>0]\n",
        "\n",
        "print(cols_with_missing)"
      ],
      "metadata": {
        "id": "bzhWRfkYaC4I",
        "outputId": "c0da6f56-7da3-4b3a-8b5b-29a7c42be544",
        "colab": {
          "base_uri": "https://localhost:8080/"
        }
      },
      "execution_count": 12,
      "outputs": [
        {
          "output_type": "stream",
          "name": "stdout",
          "text": [
            "biopsies     1\n",
            "imc          7\n",
            "weight      10\n",
            "dtype: int64\n"
          ]
        }
      ]
    },
    {
      "cell_type": "markdown",
      "source": [
        "Handling missing biopsies"
      ],
      "metadata": {
        "id": "LWD_GzJMkSRz"
      }
    },
    {
      "cell_type": "code",
      "source": [
        "# search for rows where biopsies null\n",
        "print(clean_data[clean_data['biopsies'].isnull()])\n",
        "\n",
        "clean_data['biopsies'].describe()\n"
      ],
      "metadata": {
        "id": "VkYBymBkc3h3",
        "outputId": "34ffe5e1-8aa5-4d70-8a0f-e4919a2d724d",
        "colab": {
          "base_uri": "https://localhost:8080/",
          "height": 474
        }
      },
      "execution_count": 13,
      "outputs": [
        {
          "output_type": "stream",
          "name": "stdout",
          "text": [
            "      age  menarche menopause agefirst children breastfeeding nrelbc  \\\n",
            "1639   47        17         0       23        1             4     No   \n",
            "\n",
            "      biopsies hyperplasia   race   imc  weight exercise alcohol tobacco  \\\n",
            "1639       NaN         Yes  Black  20.8    60.0        2     Yes     Yes   \n",
            "\n",
            "     cancer  \n",
            "1639     No  \n"
          ]
        },
        {
          "output_type": "execute_result",
          "data": {
            "text/plain": [
              "count    1696.000000\n",
              "mean        1.308373\n",
              "std         1.184392\n",
              "min         0.000000\n",
              "25%         0.000000\n",
              "50%         1.000000\n",
              "75%         2.000000\n",
              "max         5.000000\n",
              "Name: biopsies, dtype: float64"
            ],
            "text/html": [
              "<div>\n",
              "<style scoped>\n",
              "    .dataframe tbody tr th:only-of-type {\n",
              "        vertical-align: middle;\n",
              "    }\n",
              "\n",
              "    .dataframe tbody tr th {\n",
              "        vertical-align: top;\n",
              "    }\n",
              "\n",
              "    .dataframe thead th {\n",
              "        text-align: right;\n",
              "    }\n",
              "</style>\n",
              "<table border=\"1\" class=\"dataframe\">\n",
              "  <thead>\n",
              "    <tr style=\"text-align: right;\">\n",
              "      <th></th>\n",
              "      <th>biopsies</th>\n",
              "    </tr>\n",
              "  </thead>\n",
              "  <tbody>\n",
              "    <tr>\n",
              "      <th>count</th>\n",
              "      <td>1696.000000</td>\n",
              "    </tr>\n",
              "    <tr>\n",
              "      <th>mean</th>\n",
              "      <td>1.308373</td>\n",
              "    </tr>\n",
              "    <tr>\n",
              "      <th>std</th>\n",
              "      <td>1.184392</td>\n",
              "    </tr>\n",
              "    <tr>\n",
              "      <th>min</th>\n",
              "      <td>0.000000</td>\n",
              "    </tr>\n",
              "    <tr>\n",
              "      <th>25%</th>\n",
              "      <td>0.000000</td>\n",
              "    </tr>\n",
              "    <tr>\n",
              "      <th>50%</th>\n",
              "      <td>1.000000</td>\n",
              "    </tr>\n",
              "    <tr>\n",
              "      <th>75%</th>\n",
              "      <td>2.000000</td>\n",
              "    </tr>\n",
              "    <tr>\n",
              "      <th>max</th>\n",
              "      <td>5.000000</td>\n",
              "    </tr>\n",
              "  </tbody>\n",
              "</table>\n",
              "</div><br><label><b>dtype:</b> float64</label>"
            ]
          },
          "metadata": {},
          "execution_count": 13
        }
      ]
    },
    {
      "cell_type": "markdown",
      "source": [
        "Only one biopsie is missing, we can fill it with the 50% percentile value."
      ],
      "metadata": {
        "id": "T3LlL4JDabqe"
      }
    },
    {
      "cell_type": "code",
      "source": [
        " clean_data[['biopsies']] = clean_data[['biopsies']].fillna(value=1)\n",
        "\n",
        " #Verify that all null values were replaced.\n",
        " print(clean_data[clean_data['biopsies'].isnull()])"
      ],
      "metadata": {
        "id": "vs--322paJ1k",
        "outputId": "d0f2f7fc-13b3-4c90-898c-f71a3e5667e0",
        "colab": {
          "base_uri": "https://localhost:8080/"
        }
      },
      "execution_count": 14,
      "outputs": [
        {
          "output_type": "stream",
          "name": "stdout",
          "text": [
            "Empty DataFrame\n",
            "Columns: [age, menarche, menopause, agefirst, children, breastfeeding, nrelbc, biopsies, hyperplasia, race, imc, weight, exercise, alcohol, tobacco, cancer]\n",
            "Index: []\n"
          ]
        }
      ]
    },
    {
      "cell_type": "markdown",
      "source": [
        "Handling missin imc"
      ],
      "metadata": {
        "id": "ukqQ2SyxlsF4"
      }
    },
    {
      "cell_type": "code",
      "source": [
        "# search for rows where imc null\n",
        "print(clean_data[clean_data['imc'].isnull()])\n",
        "print(f'\\nNumber of null imc: { len(clean_data[clean_data[\"imc\"].isnull()].index) }\\n')\n",
        "print(f'\\nHas no null imc: { clean_data[clean_data[\"imc\"].isnull()].empty }\\n')\n",
        "clean_data['imc'].describe()"
      ],
      "metadata": {
        "id": "34ehrx59lmp_",
        "outputId": "d979a827-5abb-4f74-d631-258aed836d2d",
        "colab": {
          "base_uri": "https://localhost:8080/",
          "height": 734
        }
      },
      "execution_count": 15,
      "outputs": [
        {
          "output_type": "stream",
          "name": "stdout",
          "text": [
            "      age  menarche menopause agefirst children breastfeeding  nrelbc  \\\n",
            "1266   39        13         0       25        1             9      No   \n",
            "1269   38        12         0       16        4             9  Mother   \n",
            "1390   40        14         0       10       5+             6  Mother   \n",
            "1423   36        14         0       32        2             6      No   \n",
            "1462   55        12        46       25        2            12      No   \n",
            "1589   56        13         0       24        2            15      No   \n",
            "1597   62        14        54       20        2            14      No   \n",
            "\n",
            "      biopsies hyperplasia   race  imc  weight exercise alcohol tobacco cancer  \n",
            "1266       0.0          No  Mixed  NaN     NaN        1      No      No     No  \n",
            "1269       0.0          No  Black  NaN     NaN        0      No      No     No  \n",
            "1390       0.0          No  Mixed  NaN     NaN        0     Yes     Yes     No  \n",
            "1423       0.0          No  Mixed  NaN     NaN        0      No      No     No  \n",
            "1462       0.0          No  White  NaN     NaN        0      No      No     No  \n",
            "1589       0.0          No  Mixed  NaN     NaN        0     Yes      No     No  \n",
            "1597       0.0         Yes  Black  NaN     NaN        2      No      No     No  \n",
            "\n",
            "Number of null imc: 7\n",
            "\n",
            "\n",
            "Has no null imc: False\n",
            "\n"
          ]
        },
        {
          "output_type": "execute_result",
          "data": {
            "text/plain": [
              "count    1690.000000\n",
              "mean       25.534615\n",
              "std         4.961554\n",
              "min         5.000000\n",
              "25%        22.800000\n",
              "50%        25.100000\n",
              "75%        27.300000\n",
              "max        88.800000\n",
              "Name: imc, dtype: float64"
            ],
            "text/html": [
              "<div>\n",
              "<style scoped>\n",
              "    .dataframe tbody tr th:only-of-type {\n",
              "        vertical-align: middle;\n",
              "    }\n",
              "\n",
              "    .dataframe tbody tr th {\n",
              "        vertical-align: top;\n",
              "    }\n",
              "\n",
              "    .dataframe thead th {\n",
              "        text-align: right;\n",
              "    }\n",
              "</style>\n",
              "<table border=\"1\" class=\"dataframe\">\n",
              "  <thead>\n",
              "    <tr style=\"text-align: right;\">\n",
              "      <th></th>\n",
              "      <th>imc</th>\n",
              "    </tr>\n",
              "  </thead>\n",
              "  <tbody>\n",
              "    <tr>\n",
              "      <th>count</th>\n",
              "      <td>1690.000000</td>\n",
              "    </tr>\n",
              "    <tr>\n",
              "      <th>mean</th>\n",
              "      <td>25.534615</td>\n",
              "    </tr>\n",
              "    <tr>\n",
              "      <th>std</th>\n",
              "      <td>4.961554</td>\n",
              "    </tr>\n",
              "    <tr>\n",
              "      <th>min</th>\n",
              "      <td>5.000000</td>\n",
              "    </tr>\n",
              "    <tr>\n",
              "      <th>25%</th>\n",
              "      <td>22.800000</td>\n",
              "    </tr>\n",
              "    <tr>\n",
              "      <th>50%</th>\n",
              "      <td>25.100000</td>\n",
              "    </tr>\n",
              "    <tr>\n",
              "      <th>75%</th>\n",
              "      <td>27.300000</td>\n",
              "    </tr>\n",
              "    <tr>\n",
              "      <th>max</th>\n",
              "      <td>88.800000</td>\n",
              "    </tr>\n",
              "  </tbody>\n",
              "</table>\n",
              "</div><br><label><b>dtype:</b> float64</label>"
            ]
          },
          "metadata": {},
          "execution_count": 15
        }
      ]
    },
    {
      "cell_type": "markdown",
      "source": [
        "Only 7 imc are missing, we can fill it with the mean.[link text](https://)"
      ],
      "metadata": {
        "id": "r9a3Idv9n4H6"
      }
    },
    {
      "cell_type": "code",
      "source": [
        "clean_data[['imc']] = clean_data[['imc']].fillna(value=clean_data['imc'].mean())\n",
        "\n",
        "#Verify that all null values were replaced.\n",
        "print(f'\\nNumber of null imc: { len(clean_data[clean_data[\"imc\"].isnull()].index) }\\n')\n",
        "print(f'\\nHas no null imc: { clean_data[clean_data[\"imc\"].isnull()].empty }\\n')"
      ],
      "metadata": {
        "id": "gJBRrRtYpBBU",
        "outputId": "024d0ffd-5e52-4d88-b13c-b84ab5d72b8d",
        "colab": {
          "base_uri": "https://localhost:8080/"
        }
      },
      "execution_count": 16,
      "outputs": [
        {
          "output_type": "stream",
          "name": "stdout",
          "text": [
            "\n",
            "Number of null imc: 0\n",
            "\n",
            "\n",
            "Has no null imc: True\n",
            "\n"
          ]
        }
      ]
    },
    {
      "cell_type": "markdown",
      "source": [
        "Handling missin weight"
      ],
      "metadata": {
        "id": "aQKR766kp5I2"
      }
    },
    {
      "cell_type": "code",
      "source": [
        "# search for rows where weight null\n",
        "print(clean_data[clean_data['weight'].isnull()])\n",
        "print(f'\\nNumber of null weight: { len(clean_data[clean_data[\"weight\"].isnull()].index) }\\n')\n",
        "print(f'\\nHas no null weight: { clean_data[clean_data[\"weight\"].isnull()].empty }\\n')\n",
        "clean_data['weight'].describe()"
      ],
      "metadata": {
        "id": "KLWPYfodp9Rg",
        "outputId": "b002ab98-3d0d-4d9f-ffcd-87aef7df2102",
        "colab": {
          "base_uri": "https://localhost:8080/",
          "height": 1000
        }
      },
      "execution_count": 17,
      "outputs": [
        {
          "output_type": "stream",
          "name": "stdout",
          "text": [
            "      age  menarche menopause agefirst children breastfeeding  nrelbc  \\\n",
            "1266   39        13         0       25        1             9      No   \n",
            "1269   38        12         0       16        4             9  Mother   \n",
            "1390   40        14         0       10       5+             6  Mother   \n",
            "1423   36        14         0       32        2             6      No   \n",
            "1462   55        12        46       25        2            12      No   \n",
            "1507   32        13         0       15        3             6      No   \n",
            "1511   57        12        40       15        2             7  Sister   \n",
            "1557   51        11         0       24        2            36      No   \n",
            "1589   56        13         0       24        2            15      No   \n",
            "1597   62        14        54       20        2            14      No   \n",
            "\n",
            "      biopsies hyperplasia   race        imc  weight exercise alcohol tobacco  \\\n",
            "1266       0.0          No  Mixed  25.534615     NaN        1      No      No   \n",
            "1269       0.0          No  Black  25.534615     NaN        0      No      No   \n",
            "1390       0.0          No  Mixed  25.534615     NaN        0     Yes     Yes   \n",
            "1423       0.0          No  Mixed  25.534615     NaN        0      No      No   \n",
            "1462       0.0          No  White  25.534615     NaN        0      No      No   \n",
            "1507       0.0          No  Mixed  25.300000     NaN        1      No      No   \n",
            "1511       0.0          No  Mixed  25.300000     NaN        2      No      No   \n",
            "1557       0.0          No  Mixed  25.300000     NaN        0     Yes      No   \n",
            "1589       0.0          No  Mixed  25.534615     NaN        0     Yes      No   \n",
            "1597       0.0         Yes  Black  25.534615     NaN        2      No      No   \n",
            "\n",
            "     cancer  \n",
            "1266     No  \n",
            "1269     No  \n",
            "1390     No  \n",
            "1423     No  \n",
            "1462     No  \n",
            "1507     No  \n",
            "1511     No  \n",
            "1557     No  \n",
            "1589     No  \n",
            "1597     No  \n",
            "\n",
            "Number of null weight: 10\n",
            "\n",
            "\n",
            "Has no null weight: False\n",
            "\n"
          ]
        },
        {
          "output_type": "execute_result",
          "data": {
            "text/plain": [
              "count    1687.000000\n",
              "mean       70.497214\n",
              "std        12.808854\n",
              "min        13.000000\n",
              "25%        61.900000\n",
              "50%        69.200000\n",
              "75%        79.200000\n",
              "max       240.000000\n",
              "Name: weight, dtype: float64"
            ],
            "text/html": [
              "<div>\n",
              "<style scoped>\n",
              "    .dataframe tbody tr th:only-of-type {\n",
              "        vertical-align: middle;\n",
              "    }\n",
              "\n",
              "    .dataframe tbody tr th {\n",
              "        vertical-align: top;\n",
              "    }\n",
              "\n",
              "    .dataframe thead th {\n",
              "        text-align: right;\n",
              "    }\n",
              "</style>\n",
              "<table border=\"1\" class=\"dataframe\">\n",
              "  <thead>\n",
              "    <tr style=\"text-align: right;\">\n",
              "      <th></th>\n",
              "      <th>weight</th>\n",
              "    </tr>\n",
              "  </thead>\n",
              "  <tbody>\n",
              "    <tr>\n",
              "      <th>count</th>\n",
              "      <td>1687.000000</td>\n",
              "    </tr>\n",
              "    <tr>\n",
              "      <th>mean</th>\n",
              "      <td>70.497214</td>\n",
              "    </tr>\n",
              "    <tr>\n",
              "      <th>std</th>\n",
              "      <td>12.808854</td>\n",
              "    </tr>\n",
              "    <tr>\n",
              "      <th>min</th>\n",
              "      <td>13.000000</td>\n",
              "    </tr>\n",
              "    <tr>\n",
              "      <th>25%</th>\n",
              "      <td>61.900000</td>\n",
              "    </tr>\n",
              "    <tr>\n",
              "      <th>50%</th>\n",
              "      <td>69.200000</td>\n",
              "    </tr>\n",
              "    <tr>\n",
              "      <th>75%</th>\n",
              "      <td>79.200000</td>\n",
              "    </tr>\n",
              "    <tr>\n",
              "      <th>max</th>\n",
              "      <td>240.000000</td>\n",
              "    </tr>\n",
              "  </tbody>\n",
              "</table>\n",
              "</div><br><label><b>dtype:</b> float64</label>"
            ]
          },
          "metadata": {},
          "execution_count": 17
        }
      ]
    },
    {
      "cell_type": "markdown",
      "source": [
        "Only 10 weights are missing, we can fill it with the mean."
      ],
      "metadata": {
        "id": "mIMvULfSqK5t"
      }
    },
    {
      "cell_type": "code",
      "source": [
        "clean_data[['weight']] = clean_data[['weight']].fillna(value=clean_data['weight'].mean())\n",
        "\n",
        "#Verify that all null values were replaced.\n",
        "print(f'\\nNumber of null weight: { len(clean_data[clean_data[\"weight\"].isnull()].index) }\\n')\n",
        "print(f'\\nHas no null weight: { clean_data[clean_data[\"weight\"].isnull()].empty }\\n')"
      ],
      "metadata": {
        "id": "gSKU-BEWqPYH",
        "outputId": "ea753b61-2daf-4b6d-a7c8-58d98e75b282",
        "colab": {
          "base_uri": "https://localhost:8080/"
        }
      },
      "execution_count": 18,
      "outputs": [
        {
          "output_type": "stream",
          "name": "stdout",
          "text": [
            "\n",
            "Number of null weight: 0\n",
            "\n",
            "\n",
            "Has no null weight: True\n",
            "\n"
          ]
        }
      ]
    },
    {
      "cell_type": "code",
      "source": [
        "# calculate duplicates\n",
        "dups = clean_data.duplicated()\n",
        "print(dups)\n",
        "# report if there are any duplicates\n",
        "print(dups.any())\n",
        "# list all duplicate rows\n",
        "print(clean_data[dups])"
      ],
      "metadata": {
        "colab": {
          "base_uri": "https://localhost:8080/"
        },
        "id": "xsl0flR-wGJM",
        "outputId": "646eeceb-538e-4734-f084-d20729db0c4b"
      },
      "execution_count": 19,
      "outputs": [
        {
          "output_type": "stream",
          "name": "stdout",
          "text": [
            "0       False\n",
            "1       False\n",
            "2       False\n",
            "3       False\n",
            "4       False\n",
            "        ...  \n",
            "1692    False\n",
            "1693    False\n",
            "1694    False\n",
            "1695    False\n",
            "1696    False\n",
            "Length: 1697, dtype: bool\n",
            "True\n",
            "      age  menarche menopause agefirst children breastfeeding nrelbc  \\\n",
            "125    41        12        No       24        0            No     No   \n",
            "1385   32        13         0       25        2             3     No   \n",
            "\n",
            "      biopsies hyperplasia   race   imc  weight exercise alcohol tobacco  \\\n",
            "125        1.0          No  Mixed  26.8    79.6       No     Yes     Yes   \n",
            "1385       0.0          No  White  27.2    74.0        0      No      No   \n",
            "\n",
            "     cancer  \n",
            "125     Yes  \n",
            "1385     No  \n"
          ]
        }
      ]
    },
    {
      "cell_type": "markdown",
      "source": [
        "Verify that we don't have any null values"
      ],
      "metadata": {
        "id": "VbmuLv4urBmF"
      }
    },
    {
      "cell_type": "code",
      "source": [
        "cols_with_missing = clean_data.isnull().sum()\n",
        "\n",
        "cols_with_missing = cols_with_missing[cols_with_missing>0]\n",
        "\n",
        "print(f'Number of missing values: {len(cols_with_missing.index)}')"
      ],
      "metadata": {
        "id": "_ZotVEVKrEG2",
        "outputId": "cd884fe2-ec70-4da7-f4ec-c04946d2860f",
        "colab": {
          "base_uri": "https://localhost:8080/"
        }
      },
      "execution_count": 20,
      "outputs": [
        {
          "output_type": "stream",
          "name": "stdout",
          "text": [
            "Number of missing values: 0\n"
          ]
        }
      ]
    },
    {
      "cell_type": "markdown",
      "source": [
        "All data must be numeric.\n",
        "\n",
        "Label Encoding the Target Variable\n",
        "\n",
        "Variables with a binary choice of yes and no should be encoded with 1 or 0 respectively."
      ],
      "metadata": {
        "id": "P2uE6KJ_zaTu"
      }
    },
    {
      "cell_type": "code",
      "source": [
        "# Instantiate the LabelEncoder\n",
        "le = LabelEncoder()\n",
        "\n",
        "clean_data['cancer'] = le.fit_transform(clean_data['cancer'])\n",
        "# Print cancer mapping\n",
        "mapping = dict(zip(le.classes_, le.transform(le.classes_)))\n",
        "print(f'cancer mapping: {mapping}')\n",
        "\n",
        "clean_data['hyperplasia'] = le.fit_transform(clean_data['hyperplasia'])\n",
        "# Print hyperplasia mapping\n",
        "mapping = dict(zip(le.classes_, le.transform(le.classes_)))\n",
        "print(f'hyperplasia mapping: {mapping}')\n",
        "\n",
        "clean_data['alcohol'] = le.fit_transform(clean_data['alcohol'])\n",
        "# Print alcohol mapping\n",
        "mapping = dict(zip(le.classes_, le.transform(le.classes_)))\n",
        "print(f'alcohol mapping: {mapping}')\n",
        "\n",
        "clean_data['tobacco'] = le.fit_transform(clean_data['tobacco'])\n",
        "# Print tobacco mapping\n",
        "mapping = dict(zip(le.classes_, le.transform(le.classes_)))\n",
        "print(f'tobacco mapping: {mapping}')\n",
        "\n",
        "clean_data['race'] = le.fit_transform(clean_data['race'])\n",
        "# Print race mapping\n",
        "mapping = dict(zip(le.classes_, le.transform(le.classes_)))\n",
        "print(f'race mapping: {mapping}')\n",
        "\n",
        "\n",
        "clean_data.info()"
      ],
      "metadata": {
        "colab": {
          "base_uri": "https://localhost:8080/"
        },
        "id": "V2IAVLOVz9WP",
        "outputId": "cf23e9f4-b644-43dd-c120-da991cd87ad1"
      },
      "execution_count": 21,
      "outputs": [
        {
          "output_type": "stream",
          "name": "stdout",
          "text": [
            "cancer mapping: {'No': 0, 'Yes': 1}\n",
            "hyperplasia mapping: {'No': 0, 'Yes': 1}\n",
            "alcohol mapping: {'No': 0, 'Yes': 1}\n",
            "tobacco mapping: {'No': 0, 'Yes': 1}\n",
            "race mapping: {'Black': 0, 'Mixed': 1, 'White': 2}\n",
            "<class 'pandas.core.frame.DataFrame'>\n",
            "RangeIndex: 1697 entries, 0 to 1696\n",
            "Data columns (total 16 columns):\n",
            " #   Column         Non-Null Count  Dtype  \n",
            "---  ------         --------------  -----  \n",
            " 0   age            1697 non-null   int64  \n",
            " 1   menarche       1697 non-null   int64  \n",
            " 2   menopause      1697 non-null   object \n",
            " 3   agefirst       1697 non-null   object \n",
            " 4   children       1697 non-null   object \n",
            " 5   breastfeeding  1697 non-null   object \n",
            " 6   nrelbc         1697 non-null   object \n",
            " 7   biopsies       1697 non-null   float64\n",
            " 8   hyperplasia    1697 non-null   int64  \n",
            " 9   race           1697 non-null   int64  \n",
            " 10  imc            1697 non-null   float64\n",
            " 11  weight         1697 non-null   float64\n",
            " 12  exercise       1697 non-null   object \n",
            " 13  alcohol        1697 non-null   int64  \n",
            " 14  tobacco        1697 non-null   int64  \n",
            " 15  cancer         1697 non-null   int64  \n",
            "dtypes: float64(3), int64(7), object(6)\n",
            "memory usage: 212.2+ KB\n"
          ]
        }
      ]
    },
    {
      "cell_type": "markdown",
      "source": [
        "Cleaning menopause, where it says no replace with 0\n"
      ],
      "metadata": {
        "id": "xaoYMwAF1t7I"
      }
    },
    {
      "cell_type": "code",
      "source": [
        "print(clean_data['menopause'].head(10))\n",
        "print('\\n')\n",
        "clean_data['menopause'] = clean_data['menopause'].where(~clean_data['menopause'].isin(['No']), 0)\n",
        "print(clean_data['menopause'].head(10))\n"
      ],
      "metadata": {
        "colab": {
          "base_uri": "https://localhost:8080/"
        },
        "id": "xOSJ26s51vsV",
        "outputId": "5b9b68cd-9d7e-4b2c-8505-bd3a0b937bab"
      },
      "execution_count": 22,
      "outputs": [
        {
          "output_type": "stream",
          "name": "stdout",
          "text": [
            "0    No\n",
            "1    No\n",
            "2    No\n",
            "3    47\n",
            "4    42\n",
            "5    44\n",
            "6    46\n",
            "7    44\n",
            "8    No\n",
            "9    No\n",
            "Name: menopause, dtype: object\n",
            "\n",
            "\n",
            "0     0\n",
            "1     0\n",
            "2     0\n",
            "3    47\n",
            "4    42\n",
            "5    44\n",
            "6    46\n",
            "7    44\n",
            "8     0\n",
            "9     0\n",
            "Name: menopause, dtype: object\n"
          ]
        }
      ]
    },
    {
      "cell_type": "markdown",
      "source": [
        "Cleaning exercise, where it says no replace with 0.\n",
        "\n",
        "This works for us as exercise is the number of days in a week, so 0 is as good as No.\n"
      ],
      "metadata": {
        "id": "x2HpKwym6hBD"
      }
    },
    {
      "cell_type": "code",
      "source": [
        "print(clean_data['exercise'].head(10))\n",
        "print('\\n')\n",
        "clean_data['exercise'] = clean_data['exercise'].where(~clean_data['exercise'].isin(['No']), 0)\n",
        "print(clean_data['exercise'].head(10))"
      ],
      "metadata": {
        "colab": {
          "base_uri": "https://localhost:8080/"
        },
        "id": "XvlEKQhe6nXQ",
        "outputId": "0329f5f8-2a68-44fa-d32f-b0e7c2f988d8"
      },
      "execution_count": 23,
      "outputs": [
        {
          "output_type": "stream",
          "name": "stdout",
          "text": [
            "0       No\n",
            "1        2\n",
            "2        1\n",
            "3       No\n",
            "4       No\n",
            "5       No\n",
            "6       No\n",
            "7       No\n",
            "8       No\n",
            "9    Diary\n",
            "Name: exercise, dtype: object\n",
            "\n",
            "\n",
            "0        0\n",
            "1        2\n",
            "2        1\n",
            "3        0\n",
            "4        0\n",
            "5        0\n",
            "6        0\n",
            "7        0\n",
            "8        0\n",
            "9    Diary\n",
            "Name: exercise, dtype: object\n"
          ]
        }
      ]
    },
    {
      "cell_type": "markdown",
      "source": [
        "Cleaning children, where it says 5+ replace with 6.\n"
      ],
      "metadata": {
        "id": "4mi_Jj1cr0KU"
      }
    },
    {
      "cell_type": "code",
      "source": [
        "print(clean_data['children'].head(10))\n",
        "print('\\n')\n",
        "clean_data['children'] = clean_data['children'].where(~clean_data['children'].isin(['5+']), 6)\n",
        "print(clean_data['children'].head(10))"
      ],
      "metadata": {
        "colab": {
          "base_uri": "https://localhost:8080/"
        },
        "id": "OWgOMssrr6Ng",
        "outputId": "e3c18709-4fe4-4826-f98a-d6a1fca227a5"
      },
      "execution_count": 24,
      "outputs": [
        {
          "output_type": "stream",
          "name": "stdout",
          "text": [
            "0    0\n",
            "1    1\n",
            "2    1\n",
            "3    1\n",
            "4    1\n",
            "5    1\n",
            "6    1\n",
            "7    1\n",
            "8    1\n",
            "9    0\n",
            "Name: children, dtype: object\n",
            "\n",
            "\n",
            "0    0\n",
            "1    1\n",
            "2    1\n",
            "3    1\n",
            "4    1\n",
            "5    1\n",
            "6    1\n",
            "7    1\n",
            "8    1\n",
            "9    0\n",
            "Name: children, dtype: object\n"
          ]
        }
      ]
    },
    {
      "cell_type": "markdown",
      "source": [
        "Cleaning agefirst, where it says no replace with 0.\n",
        "\n",
        "This can be missleading as the patient doesn't have a child at 0, but it can be treated as a special case."
      ],
      "metadata": {
        "id": "Hkm-sbsO8L13"
      }
    },
    {
      "cell_type": "code",
      "source": [
        "print(clean_data['agefirst'].head(10))\n",
        "print('\\n')\n",
        "clean_data['agefirst'] = clean_data['agefirst'].where(~clean_data['agefirst'].isin(['No']), 0)\n",
        "print(clean_data['agefirst'].head(10))"
      ],
      "metadata": {
        "colab": {
          "base_uri": "https://localhost:8080/"
        },
        "id": "Gqe-rFS78WFG",
        "outputId": "e8e246a1-2086-4f15-9e9c-2c17bfb046cc"
      },
      "execution_count": 25,
      "outputs": [
        {
          "output_type": "stream",
          "name": "stdout",
          "text": [
            "0    No\n",
            "1    36\n",
            "2    26\n",
            "3    21\n",
            "4    16\n",
            "5    26\n",
            "6    21\n",
            "7    20\n",
            "8    27\n",
            "9    24\n",
            "Name: agefirst, dtype: object\n",
            "\n",
            "\n",
            "0     0\n",
            "1    36\n",
            "2    26\n",
            "3    21\n",
            "4    16\n",
            "5    26\n",
            "6    21\n",
            "7    20\n",
            "8    27\n",
            "9    24\n",
            "Name: agefirst, dtype: object\n"
          ]
        }
      ]
    },
    {
      "cell_type": "markdown",
      "source": [
        "Cleaning exercise, where it says Dairy replace with 7.\n",
        "\n",
        "Where it says No, change to 0;\n",
        "\n",
        "This means that someone exercises all days of the week.\n",
        "\n"
      ],
      "metadata": {
        "id": "X6WCfnjG8rmW"
      }
    },
    {
      "cell_type": "code",
      "source": [
        "print(clean_data['exercise'].head(10))\n",
        "print('\\n')\n",
        "clean_data['exercise'] = clean_data['exercise'].where(~clean_data['exercise'].isin(['Diary']), 7)\n",
        "clean_data['exercise'] = clean_data['exercise'].where(~clean_data['exercise'].isin(['NO']), 0)\n",
        "print(clean_data['exercise'].head(10))"
      ],
      "metadata": {
        "colab": {
          "base_uri": "https://localhost:8080/"
        },
        "id": "vK9mIqyx8y9r",
        "outputId": "cff02521-1a2a-45fc-b865-1ae33d4921ff"
      },
      "execution_count": 26,
      "outputs": [
        {
          "output_type": "stream",
          "name": "stdout",
          "text": [
            "0        0\n",
            "1        2\n",
            "2        1\n",
            "3        0\n",
            "4        0\n",
            "5        0\n",
            "6        0\n",
            "7        0\n",
            "8        0\n",
            "9    Diary\n",
            "Name: exercise, dtype: object\n",
            "\n",
            "\n",
            "0    0\n",
            "1    2\n",
            "2    1\n",
            "3    0\n",
            "4    0\n",
            "5    0\n",
            "6    0\n",
            "7    0\n",
            "8    0\n",
            "9    7\n",
            "Name: exercise, dtype: object\n"
          ]
        }
      ]
    },
    {
      "cell_type": "markdown",
      "source": [
        "Cleaning breastfeeding, where it says No replace with 0.\n",
        "\n",
        "It is measured in months and 0 months should work fine.\n",
        "\n",
        "Also, strip out the months part so we remain with only numeric values.\n"
      ],
      "metadata": {
        "id": "kwnvCzC19G0L"
      }
    },
    {
      "cell_type": "code",
      "source": [
        "# Function to apply\n",
        "def only_take_first_digit(data): # patient refers to df to which the function is applied\n",
        "    if(type(data['breastfeeding']) == str):\n",
        "      return data['breastfeeding'].split()[0]\n",
        "    else:\n",
        "      return data['breastfeeding']\n",
        "\n",
        "print(clean_data['breastfeeding'].head(10))\n",
        "print('\\n')\n",
        "clean_data['breastfeeding'] = clean_data.apply(only_take_first_digit, axis=1)\n",
        "clean_data['breastfeeding'] = clean_data['breastfeeding'].where(~clean_data['breastfeeding'].isin(['No']), 0)\n",
        "\n",
        "\n",
        "\n",
        "print(clean_data['breastfeeding'].head(10))"
      ],
      "metadata": {
        "colab": {
          "base_uri": "https://localhost:8080/"
        },
        "id": "Zhgh7eWT9SzM",
        "outputId": "57931fce-63ff-4a67-a4ef-96c8fbaddde7"
      },
      "execution_count": 27,
      "outputs": [
        {
          "output_type": "stream",
          "name": "stdout",
          "text": [
            "0          No\n",
            "1    3 months\n",
            "2    3 months\n",
            "3          No\n",
            "4     1 month\n",
            "5          No\n",
            "6    2 months\n",
            "7     1 month\n",
            "8     1 month\n",
            "9          No\n",
            "Name: breastfeeding, dtype: object\n",
            "\n",
            "\n",
            "0    0\n",
            "1    3\n",
            "2    3\n",
            "3    0\n",
            "4    1\n",
            "5    0\n",
            "6    2\n",
            "7    1\n",
            "8    1\n",
            "9    0\n",
            "Name: breastfeeding, dtype: object\n"
          ]
        }
      ]
    },
    {
      "cell_type": "markdown",
      "source": [
        "Cleaning nrelbc (Number of first-degree relatives with breast cancer).\n",
        "\n",
        "We can see that the data in this column is split by a forward slash, therefore each time we encounter this we count another family member.\n"
      ],
      "metadata": {
        "id": "nzXsTPcX_nm3"
      }
    },
    {
      "cell_type": "code",
      "source": [
        "# Function to apply\n",
        "def count_relatives(data): # patient refers to df to which the function is applied\n",
        "    if(type(data['nrelbc']) == str):\n",
        "      return len(data['nrelbc'].split('/'))\n",
        "    else:\n",
        "      return 0\n",
        "\n",
        "print(clean_data['nrelbc'].head(10))\n",
        "print('\\n')\n",
        "clean_data['nrelbc'] = clean_data.apply(count_relatives, axis=1)\n",
        "\n",
        "print(clean_data['nrelbc'].head(10))"
      ],
      "metadata": {
        "colab": {
          "base_uri": "https://localhost:8080/"
        },
        "id": "XG9hn3en_8FI",
        "outputId": "19075217-f3cc-4400-fa8b-006561b19230"
      },
      "execution_count": 28,
      "outputs": [
        {
          "output_type": "stream",
          "name": "stdout",
          "text": [
            "0           Mother\n",
            "1    Mother/Sister\n",
            "2           Sister\n",
            "3         Daughter\n",
            "4           Mother\n",
            "5               No\n",
            "6           Mother\n",
            "7    Mother/Sister\n",
            "8           Mother\n",
            "9               No\n",
            "Name: nrelbc, dtype: object\n",
            "\n",
            "\n",
            "0    1\n",
            "1    2\n",
            "2    1\n",
            "3    1\n",
            "4    1\n",
            "5    1\n",
            "6    1\n",
            "7    2\n",
            "8    1\n",
            "9    1\n",
            "Name: nrelbc, dtype: int64\n"
          ]
        }
      ]
    },
    {
      "cell_type": "code",
      "source": [
        "clean_data.head(20)\n"
      ],
      "metadata": {
        "colab": {
          "base_uri": "https://localhost:8080/",
          "height": 677
        },
        "id": "FwsTDcQz0isZ",
        "outputId": "19a8abe7-48bb-4f6b-9189-23ddb7484349"
      },
      "execution_count": 29,
      "outputs": [
        {
          "output_type": "execute_result",
          "data": {
            "text/plain": [
              "    age  menarche menopause agefirst children breastfeeding  nrelbc  biopsies  \\\n",
              "0    50        11         0        0        0             0       1       1.0   \n",
              "1    46        12         0       36        1             3       2       2.0   \n",
              "2    47        13         0       26        1             3       1       1.0   \n",
              "3    49        11        47       21        1             0       1       1.0   \n",
              "4    54        14        42       16        1             1       1       2.0   \n",
              "5    53        11        44       26        1             0       1       1.0   \n",
              "6    56        11        46       21        1             2       1       3.0   \n",
              "7    48        13        44       20        1             1       2       1.0   \n",
              "8    42        11         0       27        1             1       1       1.0   \n",
              "9    41        12         0       24        0             0       1       1.0   \n",
              "10   54        11        43        0        0             0       1       2.0   \n",
              "11   38        10         0       30        1             4       1       1.0   \n",
              "12   39        14         0       35        1             3       1       1.0   \n",
              "13   57        11        51        0        0             0       1       3.0   \n",
              "14   41        11         0       25        1             2       1       1.0   \n",
              "15   63        12        43       18        1             3       2       2.0   \n",
              "16   69        15        46       28        2             8       2       1.0   \n",
              "17   55        11        40       23        1             2       1       1.0   \n",
              "18   45        13         0       24        2             3       1       1.0   \n",
              "19   67        12        41       22        1             3       1       2.0   \n",
              "\n",
              "    hyperplasia  race   imc  weight exercise  alcohol  tobacco  cancer  \n",
              "0             1     2  27.6    83.4        0        1        1       1  \n",
              "1             1     1  27.3    78.2        2        1        0       1  \n",
              "2             1     0  24.6    82.6        1        0        1       1  \n",
              "3             0     0  28.6    79.4        0        1        1       1  \n",
              "4             1     2  28.4    81.5        0        1        0       1  \n",
              "5             0     2  24.0    75.0        0        1        0       1  \n",
              "6             0     2  25.1    59.4        0        1        1       1  \n",
              "7             0     2  26.4    79.3        0        1        0       1  \n",
              "8             1     2  22.3    68.1        0        1        1       1  \n",
              "9             1     2  26.8    82.4        7        1        1       1  \n",
              "10            0     1  26.8    79.5        3        1        1       1  \n",
              "11            1     2  28.1    81.9        0        1        1       1  \n",
              "12            1     2  29.3    79.4        0        1        0       1  \n",
              "13            1     2  25.4    61.2        2        1        0       1  \n",
              "14            1     1  24.2    65.8        0        1        1       1  \n",
              "15            0     2  26.4    81.2        2        1        1       1  \n",
              "16            1     2  26.8    79.4        1        1        1       1  \n",
              "17            1     1  24.5    63.0        0        1        1       1  \n",
              "18            0     0  24.3    71.5        0        1        1       1  \n",
              "19            0     2  21.3    58.3        0        1        1       1  "
            ],
            "text/html": [
              "\n",
              "  <div id=\"df-fe3ea3c2-ac8a-45ca-a467-f50f6946d8c4\" class=\"colab-df-container\">\n",
              "    <div>\n",
              "<style scoped>\n",
              "    .dataframe tbody tr th:only-of-type {\n",
              "        vertical-align: middle;\n",
              "    }\n",
              "\n",
              "    .dataframe tbody tr th {\n",
              "        vertical-align: top;\n",
              "    }\n",
              "\n",
              "    .dataframe thead th {\n",
              "        text-align: right;\n",
              "    }\n",
              "</style>\n",
              "<table border=\"1\" class=\"dataframe\">\n",
              "  <thead>\n",
              "    <tr style=\"text-align: right;\">\n",
              "      <th></th>\n",
              "      <th>age</th>\n",
              "      <th>menarche</th>\n",
              "      <th>menopause</th>\n",
              "      <th>agefirst</th>\n",
              "      <th>children</th>\n",
              "      <th>breastfeeding</th>\n",
              "      <th>nrelbc</th>\n",
              "      <th>biopsies</th>\n",
              "      <th>hyperplasia</th>\n",
              "      <th>race</th>\n",
              "      <th>imc</th>\n",
              "      <th>weight</th>\n",
              "      <th>exercise</th>\n",
              "      <th>alcohol</th>\n",
              "      <th>tobacco</th>\n",
              "      <th>cancer</th>\n",
              "    </tr>\n",
              "  </thead>\n",
              "  <tbody>\n",
              "    <tr>\n",
              "      <th>0</th>\n",
              "      <td>50</td>\n",
              "      <td>11</td>\n",
              "      <td>0</td>\n",
              "      <td>0</td>\n",
              "      <td>0</td>\n",
              "      <td>0</td>\n",
              "      <td>1</td>\n",
              "      <td>1.0</td>\n",
              "      <td>1</td>\n",
              "      <td>2</td>\n",
              "      <td>27.6</td>\n",
              "      <td>83.4</td>\n",
              "      <td>0</td>\n",
              "      <td>1</td>\n",
              "      <td>1</td>\n",
              "      <td>1</td>\n",
              "    </tr>\n",
              "    <tr>\n",
              "      <th>1</th>\n",
              "      <td>46</td>\n",
              "      <td>12</td>\n",
              "      <td>0</td>\n",
              "      <td>36</td>\n",
              "      <td>1</td>\n",
              "      <td>3</td>\n",
              "      <td>2</td>\n",
              "      <td>2.0</td>\n",
              "      <td>1</td>\n",
              "      <td>1</td>\n",
              "      <td>27.3</td>\n",
              "      <td>78.2</td>\n",
              "      <td>2</td>\n",
              "      <td>1</td>\n",
              "      <td>0</td>\n",
              "      <td>1</td>\n",
              "    </tr>\n",
              "    <tr>\n",
              "      <th>2</th>\n",
              "      <td>47</td>\n",
              "      <td>13</td>\n",
              "      <td>0</td>\n",
              "      <td>26</td>\n",
              "      <td>1</td>\n",
              "      <td>3</td>\n",
              "      <td>1</td>\n",
              "      <td>1.0</td>\n",
              "      <td>1</td>\n",
              "      <td>0</td>\n",
              "      <td>24.6</td>\n",
              "      <td>82.6</td>\n",
              "      <td>1</td>\n",
              "      <td>0</td>\n",
              "      <td>1</td>\n",
              "      <td>1</td>\n",
              "    </tr>\n",
              "    <tr>\n",
              "      <th>3</th>\n",
              "      <td>49</td>\n",
              "      <td>11</td>\n",
              "      <td>47</td>\n",
              "      <td>21</td>\n",
              "      <td>1</td>\n",
              "      <td>0</td>\n",
              "      <td>1</td>\n",
              "      <td>1.0</td>\n",
              "      <td>0</td>\n",
              "      <td>0</td>\n",
              "      <td>28.6</td>\n",
              "      <td>79.4</td>\n",
              "      <td>0</td>\n",
              "      <td>1</td>\n",
              "      <td>1</td>\n",
              "      <td>1</td>\n",
              "    </tr>\n",
              "    <tr>\n",
              "      <th>4</th>\n",
              "      <td>54</td>\n",
              "      <td>14</td>\n",
              "      <td>42</td>\n",
              "      <td>16</td>\n",
              "      <td>1</td>\n",
              "      <td>1</td>\n",
              "      <td>1</td>\n",
              "      <td>2.0</td>\n",
              "      <td>1</td>\n",
              "      <td>2</td>\n",
              "      <td>28.4</td>\n",
              "      <td>81.5</td>\n",
              "      <td>0</td>\n",
              "      <td>1</td>\n",
              "      <td>0</td>\n",
              "      <td>1</td>\n",
              "    </tr>\n",
              "    <tr>\n",
              "      <th>5</th>\n",
              "      <td>53</td>\n",
              "      <td>11</td>\n",
              "      <td>44</td>\n",
              "      <td>26</td>\n",
              "      <td>1</td>\n",
              "      <td>0</td>\n",
              "      <td>1</td>\n",
              "      <td>1.0</td>\n",
              "      <td>0</td>\n",
              "      <td>2</td>\n",
              "      <td>24.0</td>\n",
              "      <td>75.0</td>\n",
              "      <td>0</td>\n",
              "      <td>1</td>\n",
              "      <td>0</td>\n",
              "      <td>1</td>\n",
              "    </tr>\n",
              "    <tr>\n",
              "      <th>6</th>\n",
              "      <td>56</td>\n",
              "      <td>11</td>\n",
              "      <td>46</td>\n",
              "      <td>21</td>\n",
              "      <td>1</td>\n",
              "      <td>2</td>\n",
              "      <td>1</td>\n",
              "      <td>3.0</td>\n",
              "      <td>0</td>\n",
              "      <td>2</td>\n",
              "      <td>25.1</td>\n",
              "      <td>59.4</td>\n",
              "      <td>0</td>\n",
              "      <td>1</td>\n",
              "      <td>1</td>\n",
              "      <td>1</td>\n",
              "    </tr>\n",
              "    <tr>\n",
              "      <th>7</th>\n",
              "      <td>48</td>\n",
              "      <td>13</td>\n",
              "      <td>44</td>\n",
              "      <td>20</td>\n",
              "      <td>1</td>\n",
              "      <td>1</td>\n",
              "      <td>2</td>\n",
              "      <td>1.0</td>\n",
              "      <td>0</td>\n",
              "      <td>2</td>\n",
              "      <td>26.4</td>\n",
              "      <td>79.3</td>\n",
              "      <td>0</td>\n",
              "      <td>1</td>\n",
              "      <td>0</td>\n",
              "      <td>1</td>\n",
              "    </tr>\n",
              "    <tr>\n",
              "      <th>8</th>\n",
              "      <td>42</td>\n",
              "      <td>11</td>\n",
              "      <td>0</td>\n",
              "      <td>27</td>\n",
              "      <td>1</td>\n",
              "      <td>1</td>\n",
              "      <td>1</td>\n",
              "      <td>1.0</td>\n",
              "      <td>1</td>\n",
              "      <td>2</td>\n",
              "      <td>22.3</td>\n",
              "      <td>68.1</td>\n",
              "      <td>0</td>\n",
              "      <td>1</td>\n",
              "      <td>1</td>\n",
              "      <td>1</td>\n",
              "    </tr>\n",
              "    <tr>\n",
              "      <th>9</th>\n",
              "      <td>41</td>\n",
              "      <td>12</td>\n",
              "      <td>0</td>\n",
              "      <td>24</td>\n",
              "      <td>0</td>\n",
              "      <td>0</td>\n",
              "      <td>1</td>\n",
              "      <td>1.0</td>\n",
              "      <td>1</td>\n",
              "      <td>2</td>\n",
              "      <td>26.8</td>\n",
              "      <td>82.4</td>\n",
              "      <td>7</td>\n",
              "      <td>1</td>\n",
              "      <td>1</td>\n",
              "      <td>1</td>\n",
              "    </tr>\n",
              "    <tr>\n",
              "      <th>10</th>\n",
              "      <td>54</td>\n",
              "      <td>11</td>\n",
              "      <td>43</td>\n",
              "      <td>0</td>\n",
              "      <td>0</td>\n",
              "      <td>0</td>\n",
              "      <td>1</td>\n",
              "      <td>2.0</td>\n",
              "      <td>0</td>\n",
              "      <td>1</td>\n",
              "      <td>26.8</td>\n",
              "      <td>79.5</td>\n",
              "      <td>3</td>\n",
              "      <td>1</td>\n",
              "      <td>1</td>\n",
              "      <td>1</td>\n",
              "    </tr>\n",
              "    <tr>\n",
              "      <th>11</th>\n",
              "      <td>38</td>\n",
              "      <td>10</td>\n",
              "      <td>0</td>\n",
              "      <td>30</td>\n",
              "      <td>1</td>\n",
              "      <td>4</td>\n",
              "      <td>1</td>\n",
              "      <td>1.0</td>\n",
              "      <td>1</td>\n",
              "      <td>2</td>\n",
              "      <td>28.1</td>\n",
              "      <td>81.9</td>\n",
              "      <td>0</td>\n",
              "      <td>1</td>\n",
              "      <td>1</td>\n",
              "      <td>1</td>\n",
              "    </tr>\n",
              "    <tr>\n",
              "      <th>12</th>\n",
              "      <td>39</td>\n",
              "      <td>14</td>\n",
              "      <td>0</td>\n",
              "      <td>35</td>\n",
              "      <td>1</td>\n",
              "      <td>3</td>\n",
              "      <td>1</td>\n",
              "      <td>1.0</td>\n",
              "      <td>1</td>\n",
              "      <td>2</td>\n",
              "      <td>29.3</td>\n",
              "      <td>79.4</td>\n",
              "      <td>0</td>\n",
              "      <td>1</td>\n",
              "      <td>0</td>\n",
              "      <td>1</td>\n",
              "    </tr>\n",
              "    <tr>\n",
              "      <th>13</th>\n",
              "      <td>57</td>\n",
              "      <td>11</td>\n",
              "      <td>51</td>\n",
              "      <td>0</td>\n",
              "      <td>0</td>\n",
              "      <td>0</td>\n",
              "      <td>1</td>\n",
              "      <td>3.0</td>\n",
              "      <td>1</td>\n",
              "      <td>2</td>\n",
              "      <td>25.4</td>\n",
              "      <td>61.2</td>\n",
              "      <td>2</td>\n",
              "      <td>1</td>\n",
              "      <td>0</td>\n",
              "      <td>1</td>\n",
              "    </tr>\n",
              "    <tr>\n",
              "      <th>14</th>\n",
              "      <td>41</td>\n",
              "      <td>11</td>\n",
              "      <td>0</td>\n",
              "      <td>25</td>\n",
              "      <td>1</td>\n",
              "      <td>2</td>\n",
              "      <td>1</td>\n",
              "      <td>1.0</td>\n",
              "      <td>1</td>\n",
              "      <td>1</td>\n",
              "      <td>24.2</td>\n",
              "      <td>65.8</td>\n",
              "      <td>0</td>\n",
              "      <td>1</td>\n",
              "      <td>1</td>\n",
              "      <td>1</td>\n",
              "    </tr>\n",
              "    <tr>\n",
              "      <th>15</th>\n",
              "      <td>63</td>\n",
              "      <td>12</td>\n",
              "      <td>43</td>\n",
              "      <td>18</td>\n",
              "      <td>1</td>\n",
              "      <td>3</td>\n",
              "      <td>2</td>\n",
              "      <td>2.0</td>\n",
              "      <td>0</td>\n",
              "      <td>2</td>\n",
              "      <td>26.4</td>\n",
              "      <td>81.2</td>\n",
              "      <td>2</td>\n",
              "      <td>1</td>\n",
              "      <td>1</td>\n",
              "      <td>1</td>\n",
              "    </tr>\n",
              "    <tr>\n",
              "      <th>16</th>\n",
              "      <td>69</td>\n",
              "      <td>15</td>\n",
              "      <td>46</td>\n",
              "      <td>28</td>\n",
              "      <td>2</td>\n",
              "      <td>8</td>\n",
              "      <td>2</td>\n",
              "      <td>1.0</td>\n",
              "      <td>1</td>\n",
              "      <td>2</td>\n",
              "      <td>26.8</td>\n",
              "      <td>79.4</td>\n",
              "      <td>1</td>\n",
              "      <td>1</td>\n",
              "      <td>1</td>\n",
              "      <td>1</td>\n",
              "    </tr>\n",
              "    <tr>\n",
              "      <th>17</th>\n",
              "      <td>55</td>\n",
              "      <td>11</td>\n",
              "      <td>40</td>\n",
              "      <td>23</td>\n",
              "      <td>1</td>\n",
              "      <td>2</td>\n",
              "      <td>1</td>\n",
              "      <td>1.0</td>\n",
              "      <td>1</td>\n",
              "      <td>1</td>\n",
              "      <td>24.5</td>\n",
              "      <td>63.0</td>\n",
              "      <td>0</td>\n",
              "      <td>1</td>\n",
              "      <td>1</td>\n",
              "      <td>1</td>\n",
              "    </tr>\n",
              "    <tr>\n",
              "      <th>18</th>\n",
              "      <td>45</td>\n",
              "      <td>13</td>\n",
              "      <td>0</td>\n",
              "      <td>24</td>\n",
              "      <td>2</td>\n",
              "      <td>3</td>\n",
              "      <td>1</td>\n",
              "      <td>1.0</td>\n",
              "      <td>0</td>\n",
              "      <td>0</td>\n",
              "      <td>24.3</td>\n",
              "      <td>71.5</td>\n",
              "      <td>0</td>\n",
              "      <td>1</td>\n",
              "      <td>1</td>\n",
              "      <td>1</td>\n",
              "    </tr>\n",
              "    <tr>\n",
              "      <th>19</th>\n",
              "      <td>67</td>\n",
              "      <td>12</td>\n",
              "      <td>41</td>\n",
              "      <td>22</td>\n",
              "      <td>1</td>\n",
              "      <td>3</td>\n",
              "      <td>1</td>\n",
              "      <td>2.0</td>\n",
              "      <td>0</td>\n",
              "      <td>2</td>\n",
              "      <td>21.3</td>\n",
              "      <td>58.3</td>\n",
              "      <td>0</td>\n",
              "      <td>1</td>\n",
              "      <td>1</td>\n",
              "      <td>1</td>\n",
              "    </tr>\n",
              "  </tbody>\n",
              "</table>\n",
              "</div>\n",
              "    <div class=\"colab-df-buttons\">\n",
              "\n",
              "  <div class=\"colab-df-container\">\n",
              "    <button class=\"colab-df-convert\" onclick=\"convertToInteractive('df-fe3ea3c2-ac8a-45ca-a467-f50f6946d8c4')\"\n",
              "            title=\"Convert this dataframe to an interactive table.\"\n",
              "            style=\"display:none;\">\n",
              "\n",
              "  <svg xmlns=\"http://www.w3.org/2000/svg\" height=\"24px\" viewBox=\"0 -960 960 960\">\n",
              "    <path d=\"M120-120v-720h720v720H120Zm60-500h600v-160H180v160Zm220 220h160v-160H400v160Zm0 220h160v-160H400v160ZM180-400h160v-160H180v160Zm440 0h160v-160H620v160ZM180-180h160v-160H180v160Zm440 0h160v-160H620v160Z\"/>\n",
              "  </svg>\n",
              "    </button>\n",
              "\n",
              "  <style>\n",
              "    .colab-df-container {\n",
              "      display:flex;\n",
              "      gap: 12px;\n",
              "    }\n",
              "\n",
              "    .colab-df-convert {\n",
              "      background-color: #E8F0FE;\n",
              "      border: none;\n",
              "      border-radius: 50%;\n",
              "      cursor: pointer;\n",
              "      display: none;\n",
              "      fill: #1967D2;\n",
              "      height: 32px;\n",
              "      padding: 0 0 0 0;\n",
              "      width: 32px;\n",
              "    }\n",
              "\n",
              "    .colab-df-convert:hover {\n",
              "      background-color: #E2EBFA;\n",
              "      box-shadow: 0px 1px 2px rgba(60, 64, 67, 0.3), 0px 1px 3px 1px rgba(60, 64, 67, 0.15);\n",
              "      fill: #174EA6;\n",
              "    }\n",
              "\n",
              "    .colab-df-buttons div {\n",
              "      margin-bottom: 4px;\n",
              "    }\n",
              "\n",
              "    [theme=dark] .colab-df-convert {\n",
              "      background-color: #3B4455;\n",
              "      fill: #D2E3FC;\n",
              "    }\n",
              "\n",
              "    [theme=dark] .colab-df-convert:hover {\n",
              "      background-color: #434B5C;\n",
              "      box-shadow: 0px 1px 3px 1px rgba(0, 0, 0, 0.15);\n",
              "      filter: drop-shadow(0px 1px 2px rgba(0, 0, 0, 0.3));\n",
              "      fill: #FFFFFF;\n",
              "    }\n",
              "  </style>\n",
              "\n",
              "    <script>\n",
              "      const buttonEl =\n",
              "        document.querySelector('#df-fe3ea3c2-ac8a-45ca-a467-f50f6946d8c4 button.colab-df-convert');\n",
              "      buttonEl.style.display =\n",
              "        google.colab.kernel.accessAllowed ? 'block' : 'none';\n",
              "\n",
              "      async function convertToInteractive(key) {\n",
              "        const element = document.querySelector('#df-fe3ea3c2-ac8a-45ca-a467-f50f6946d8c4');\n",
              "        const dataTable =\n",
              "          await google.colab.kernel.invokeFunction('convertToInteractive',\n",
              "                                                    [key], {});\n",
              "        if (!dataTable) return;\n",
              "\n",
              "        const docLinkHtml = 'Like what you see? Visit the ' +\n",
              "          '<a target=\"_blank\" href=https://colab.research.google.com/notebooks/data_table.ipynb>data table notebook</a>'\n",
              "          + ' to learn more about interactive tables.';\n",
              "        element.innerHTML = '';\n",
              "        dataTable['output_type'] = 'display_data';\n",
              "        await google.colab.output.renderOutput(dataTable, element);\n",
              "        const docLink = document.createElement('div');\n",
              "        docLink.innerHTML = docLinkHtml;\n",
              "        element.appendChild(docLink);\n",
              "      }\n",
              "    </script>\n",
              "  </div>\n",
              "\n",
              "\n",
              "<div id=\"df-b3dcd180-4882-42ae-ab42-40afb0ba18ff\">\n",
              "  <button class=\"colab-df-quickchart\" onclick=\"quickchart('df-b3dcd180-4882-42ae-ab42-40afb0ba18ff')\"\n",
              "            title=\"Suggest charts\"\n",
              "            style=\"display:none;\">\n",
              "\n",
              "<svg xmlns=\"http://www.w3.org/2000/svg\" height=\"24px\"viewBox=\"0 0 24 24\"\n",
              "     width=\"24px\">\n",
              "    <g>\n",
              "        <path d=\"M19 3H5c-1.1 0-2 .9-2 2v14c0 1.1.9 2 2 2h14c1.1 0 2-.9 2-2V5c0-1.1-.9-2-2-2zM9 17H7v-7h2v7zm4 0h-2V7h2v10zm4 0h-2v-4h2v4z\"/>\n",
              "    </g>\n",
              "</svg>\n",
              "  </button>\n",
              "\n",
              "<style>\n",
              "  .colab-df-quickchart {\n",
              "      --bg-color: #E8F0FE;\n",
              "      --fill-color: #1967D2;\n",
              "      --hover-bg-color: #E2EBFA;\n",
              "      --hover-fill-color: #174EA6;\n",
              "      --disabled-fill-color: #AAA;\n",
              "      --disabled-bg-color: #DDD;\n",
              "  }\n",
              "\n",
              "  [theme=dark] .colab-df-quickchart {\n",
              "      --bg-color: #3B4455;\n",
              "      --fill-color: #D2E3FC;\n",
              "      --hover-bg-color: #434B5C;\n",
              "      --hover-fill-color: #FFFFFF;\n",
              "      --disabled-bg-color: #3B4455;\n",
              "      --disabled-fill-color: #666;\n",
              "  }\n",
              "\n",
              "  .colab-df-quickchart {\n",
              "    background-color: var(--bg-color);\n",
              "    border: none;\n",
              "    border-radius: 50%;\n",
              "    cursor: pointer;\n",
              "    display: none;\n",
              "    fill: var(--fill-color);\n",
              "    height: 32px;\n",
              "    padding: 0;\n",
              "    width: 32px;\n",
              "  }\n",
              "\n",
              "  .colab-df-quickchart:hover {\n",
              "    background-color: var(--hover-bg-color);\n",
              "    box-shadow: 0 1px 2px rgba(60, 64, 67, 0.3), 0 1px 3px 1px rgba(60, 64, 67, 0.15);\n",
              "    fill: var(--button-hover-fill-color);\n",
              "  }\n",
              "\n",
              "  .colab-df-quickchart-complete:disabled,\n",
              "  .colab-df-quickchart-complete:disabled:hover {\n",
              "    background-color: var(--disabled-bg-color);\n",
              "    fill: var(--disabled-fill-color);\n",
              "    box-shadow: none;\n",
              "  }\n",
              "\n",
              "  .colab-df-spinner {\n",
              "    border: 2px solid var(--fill-color);\n",
              "    border-color: transparent;\n",
              "    border-bottom-color: var(--fill-color);\n",
              "    animation:\n",
              "      spin 1s steps(1) infinite;\n",
              "  }\n",
              "\n",
              "  @keyframes spin {\n",
              "    0% {\n",
              "      border-color: transparent;\n",
              "      border-bottom-color: var(--fill-color);\n",
              "      border-left-color: var(--fill-color);\n",
              "    }\n",
              "    20% {\n",
              "      border-color: transparent;\n",
              "      border-left-color: var(--fill-color);\n",
              "      border-top-color: var(--fill-color);\n",
              "    }\n",
              "    30% {\n",
              "      border-color: transparent;\n",
              "      border-left-color: var(--fill-color);\n",
              "      border-top-color: var(--fill-color);\n",
              "      border-right-color: var(--fill-color);\n",
              "    }\n",
              "    40% {\n",
              "      border-color: transparent;\n",
              "      border-right-color: var(--fill-color);\n",
              "      border-top-color: var(--fill-color);\n",
              "    }\n",
              "    60% {\n",
              "      border-color: transparent;\n",
              "      border-right-color: var(--fill-color);\n",
              "    }\n",
              "    80% {\n",
              "      border-color: transparent;\n",
              "      border-right-color: var(--fill-color);\n",
              "      border-bottom-color: var(--fill-color);\n",
              "    }\n",
              "    90% {\n",
              "      border-color: transparent;\n",
              "      border-bottom-color: var(--fill-color);\n",
              "    }\n",
              "  }\n",
              "</style>\n",
              "\n",
              "  <script>\n",
              "    async function quickchart(key) {\n",
              "      const quickchartButtonEl =\n",
              "        document.querySelector('#' + key + ' button');\n",
              "      quickchartButtonEl.disabled = true;  // To prevent multiple clicks.\n",
              "      quickchartButtonEl.classList.add('colab-df-spinner');\n",
              "      try {\n",
              "        const charts = await google.colab.kernel.invokeFunction(\n",
              "            'suggestCharts', [key], {});\n",
              "      } catch (error) {\n",
              "        console.error('Error during call to suggestCharts:', error);\n",
              "      }\n",
              "      quickchartButtonEl.classList.remove('colab-df-spinner');\n",
              "      quickchartButtonEl.classList.add('colab-df-quickchart-complete');\n",
              "    }\n",
              "    (() => {\n",
              "      let quickchartButtonEl =\n",
              "        document.querySelector('#df-b3dcd180-4882-42ae-ab42-40afb0ba18ff button');\n",
              "      quickchartButtonEl.style.display =\n",
              "        google.colab.kernel.accessAllowed ? 'block' : 'none';\n",
              "    })();\n",
              "  </script>\n",
              "</div>\n",
              "\n",
              "    </div>\n",
              "  </div>\n"
            ],
            "application/vnd.google.colaboratory.intrinsic+json": {
              "type": "dataframe",
              "variable_name": "clean_data",
              "summary": "{\n  \"name\": \"clean_data\",\n  \"rows\": 1697,\n  \"fields\": [\n    {\n      \"column\": \"age\",\n      \"properties\": {\n        \"dtype\": \"number\",\n        \"std\": 11,\n        \"min\": 20,\n        \"max\": 90,\n        \"num_unique_values\": 61,\n        \"samples\": [\n          50,\n          53,\n          35\n        ],\n        \"semantic_type\": \"\",\n        \"description\": \"\"\n      }\n    },\n    {\n      \"column\": \"menarche\",\n      \"properties\": {\n        \"dtype\": \"number\",\n        \"std\": 1,\n        \"min\": 8,\n        \"max\": 17,\n        \"num_unique_values\": 10,\n        \"samples\": [\n          16,\n          12,\n          15\n        ],\n        \"semantic_type\": \"\",\n        \"description\": \"\"\n      }\n    },\n    {\n      \"column\": \"menopause\",\n      \"properties\": {\n        \"dtype\": \"category\",\n        \"num_unique_values\": 29,\n        \"samples\": [\n          \"34\",\n          \"38\",\n          \"45\"\n        ],\n        \"semantic_type\": \"\",\n        \"description\": \"\"\n      }\n    },\n    {\n      \"column\": \"agefirst\",\n      \"properties\": {\n        \"dtype\": \"category\",\n        \"num_unique_values\": 33,\n        \"samples\": [\n          \"10\",\n          \"17\",\n          \"15\"\n        ],\n        \"semantic_type\": \"\",\n        \"description\": \"\"\n      }\n    },\n    {\n      \"column\": \"children\",\n      \"properties\": {\n        \"dtype\": \"category\",\n        \"num_unique_values\": 7,\n        \"samples\": [\n          \"0\",\n          \"1\",\n          \"5\"\n        ],\n        \"semantic_type\": \"\",\n        \"description\": \"\"\n      }\n    },\n    {\n      \"column\": \"breastfeeding\",\n      \"properties\": {\n        \"dtype\": \"category\",\n        \"num_unique_values\": 29,\n        \"samples\": [\n          \"28\",\n          \"36\",\n          \"0\"\n        ],\n        \"semantic_type\": \"\",\n        \"description\": \"\"\n      }\n    },\n    {\n      \"column\": \"nrelbc\",\n      \"properties\": {\n        \"dtype\": \"number\",\n        \"std\": 0,\n        \"min\": 1,\n        \"max\": 4,\n        \"num_unique_values\": 4,\n        \"samples\": [\n          2,\n          4,\n          1\n        ],\n        \"semantic_type\": \"\",\n        \"description\": \"\"\n      }\n    },\n    {\n      \"column\": \"biopsies\",\n      \"properties\": {\n        \"dtype\": \"number\",\n        \"std\": 1.184066821218716,\n        \"min\": 0.0,\n        \"max\": 5.0,\n        \"num_unique_values\": 6,\n        \"samples\": [\n          1.0,\n          2.0,\n          0.0\n        ],\n        \"semantic_type\": \"\",\n        \"description\": \"\"\n      }\n    },\n    {\n      \"column\": \"hyperplasia\",\n      \"properties\": {\n        \"dtype\": \"number\",\n        \"std\": 0,\n        \"min\": 0,\n        \"max\": 1,\n        \"num_unique_values\": 2,\n        \"samples\": [\n          0,\n          1\n        ],\n        \"semantic_type\": \"\",\n        \"description\": \"\"\n      }\n    },\n    {\n      \"column\": \"race\",\n      \"properties\": {\n        \"dtype\": \"number\",\n        \"std\": 0,\n        \"min\": 0,\n        \"max\": 2,\n        \"num_unique_values\": 3,\n        \"samples\": [\n          2,\n          1\n        ],\n        \"semantic_type\": \"\",\n        \"description\": \"\"\n      }\n    },\n    {\n      \"column\": \"imc\",\n      \"properties\": {\n        \"dtype\": \"number\",\n        \"std\": 4.951304442665818,\n        \"min\": 5.0,\n        \"max\": 88.8,\n        \"num_unique_values\": 189,\n        \"samples\": [\n          17.4,\n          34.0\n        ],\n        \"semantic_type\": \"\",\n        \"description\": \"\"\n      }\n    },\n    {\n      \"column\": \"weight\",\n      \"properties\": {\n        \"dtype\": \"number\",\n        \"std\": 12.771036034054058,\n        \"min\": 13.0,\n        \"max\": 240.0,\n        \"num_unique_values\": 293,\n        \"samples\": [\n          73.4,\n          87.5\n        ],\n        \"semantic_type\": \"\",\n        \"description\": \"\"\n      }\n    },\n    {\n      \"column\": \"exercise\",\n      \"properties\": {\n        \"dtype\": \"category\",\n        \"num_unique_values\": 10,\n        \"samples\": [\n          \"0\",\n          \"2\"\n        ],\n        \"semantic_type\": \"\",\n        \"description\": \"\"\n      }\n    },\n    {\n      \"column\": \"alcohol\",\n      \"properties\": {\n        \"dtype\": \"number\",\n        \"std\": 0,\n        \"min\": 0,\n        \"max\": 1,\n        \"num_unique_values\": 2,\n        \"samples\": [\n          0,\n          1\n        ],\n        \"semantic_type\": \"\",\n        \"description\": \"\"\n      }\n    },\n    {\n      \"column\": \"tobacco\",\n      \"properties\": {\n        \"dtype\": \"number\",\n        \"std\": 0,\n        \"min\": 0,\n        \"max\": 1,\n        \"num_unique_values\": 2,\n        \"samples\": [\n          0,\n          1\n        ],\n        \"semantic_type\": \"\",\n        \"description\": \"\"\n      }\n    },\n    {\n      \"column\": \"cancer\",\n      \"properties\": {\n        \"dtype\": \"number\",\n        \"std\": 0,\n        \"min\": 0,\n        \"max\": 1,\n        \"num_unique_values\": 2,\n        \"samples\": [\n          0,\n          1\n        ],\n        \"semantic_type\": \"\",\n        \"description\": \"\"\n      }\n    }\n  ]\n}"
            }
          },
          "metadata": {},
          "execution_count": 29
        }
      ]
    },
    {
      "cell_type": "code",
      "source": [
        "clean_data.describe()"
      ],
      "metadata": {
        "colab": {
          "base_uri": "https://localhost:8080/",
          "height": 300
        },
        "id": "6loSch7DQHis",
        "outputId": "b146d7f1-d1fc-446a-e87c-f1f7e9aad5bb"
      },
      "execution_count": 30,
      "outputs": [
        {
          "output_type": "execute_result",
          "data": {
            "text/plain": [
              "               age     menarche       nrelbc     biopsies  hyperplasia  \\\n",
              "count  1697.000000  1697.000000  1697.000000  1697.000000  1697.000000   \n",
              "mean     51.483206    11.725987     1.142605     1.308191     0.461992   \n",
              "std      11.929919     1.839937     0.358102     1.184067     0.498700   \n",
              "min      20.000000     8.000000     1.000000     0.000000     0.000000   \n",
              "25%      45.000000    10.000000     1.000000     0.000000     0.000000   \n",
              "50%      53.000000    12.000000     1.000000     1.000000     0.000000   \n",
              "75%      61.000000    13.000000     1.000000     2.000000     1.000000   \n",
              "max      90.000000    17.000000     4.000000     5.000000     1.000000   \n",
              "\n",
              "              race          imc       weight      alcohol      tobacco  \\\n",
              "count  1697.000000  1697.000000  1697.000000  1697.000000  1697.000000   \n",
              "mean      1.174425    25.534615    70.497214     0.681791     0.652917   \n",
              "std       0.804751     4.951304    12.771036     0.465918     0.476183   \n",
              "min       0.000000     5.000000    13.000000     0.000000     0.000000   \n",
              "25%       0.000000    22.800000    62.000000     0.000000     0.000000   \n",
              "50%       1.000000    25.100000    69.400000     1.000000     1.000000   \n",
              "75%       2.000000    27.300000    79.200000     1.000000     1.000000   \n",
              "max       2.000000    88.800000   240.000000     1.000000     1.000000   \n",
              "\n",
              "            cancer  \n",
              "count  1697.000000  \n",
              "mean      0.683559  \n",
              "std       0.465224  \n",
              "min       0.000000  \n",
              "25%       0.000000  \n",
              "50%       1.000000  \n",
              "75%       1.000000  \n",
              "max       1.000000  "
            ],
            "text/html": [
              "\n",
              "  <div id=\"df-54ef665a-d16a-44b0-97c5-10466f4b0e0f\" class=\"colab-df-container\">\n",
              "    <div>\n",
              "<style scoped>\n",
              "    .dataframe tbody tr th:only-of-type {\n",
              "        vertical-align: middle;\n",
              "    }\n",
              "\n",
              "    .dataframe tbody tr th {\n",
              "        vertical-align: top;\n",
              "    }\n",
              "\n",
              "    .dataframe thead th {\n",
              "        text-align: right;\n",
              "    }\n",
              "</style>\n",
              "<table border=\"1\" class=\"dataframe\">\n",
              "  <thead>\n",
              "    <tr style=\"text-align: right;\">\n",
              "      <th></th>\n",
              "      <th>age</th>\n",
              "      <th>menarche</th>\n",
              "      <th>nrelbc</th>\n",
              "      <th>biopsies</th>\n",
              "      <th>hyperplasia</th>\n",
              "      <th>race</th>\n",
              "      <th>imc</th>\n",
              "      <th>weight</th>\n",
              "      <th>alcohol</th>\n",
              "      <th>tobacco</th>\n",
              "      <th>cancer</th>\n",
              "    </tr>\n",
              "  </thead>\n",
              "  <tbody>\n",
              "    <tr>\n",
              "      <th>count</th>\n",
              "      <td>1697.000000</td>\n",
              "      <td>1697.000000</td>\n",
              "      <td>1697.000000</td>\n",
              "      <td>1697.000000</td>\n",
              "      <td>1697.000000</td>\n",
              "      <td>1697.000000</td>\n",
              "      <td>1697.000000</td>\n",
              "      <td>1697.000000</td>\n",
              "      <td>1697.000000</td>\n",
              "      <td>1697.000000</td>\n",
              "      <td>1697.000000</td>\n",
              "    </tr>\n",
              "    <tr>\n",
              "      <th>mean</th>\n",
              "      <td>51.483206</td>\n",
              "      <td>11.725987</td>\n",
              "      <td>1.142605</td>\n",
              "      <td>1.308191</td>\n",
              "      <td>0.461992</td>\n",
              "      <td>1.174425</td>\n",
              "      <td>25.534615</td>\n",
              "      <td>70.497214</td>\n",
              "      <td>0.681791</td>\n",
              "      <td>0.652917</td>\n",
              "      <td>0.683559</td>\n",
              "    </tr>\n",
              "    <tr>\n",
              "      <th>std</th>\n",
              "      <td>11.929919</td>\n",
              "      <td>1.839937</td>\n",
              "      <td>0.358102</td>\n",
              "      <td>1.184067</td>\n",
              "      <td>0.498700</td>\n",
              "      <td>0.804751</td>\n",
              "      <td>4.951304</td>\n",
              "      <td>12.771036</td>\n",
              "      <td>0.465918</td>\n",
              "      <td>0.476183</td>\n",
              "      <td>0.465224</td>\n",
              "    </tr>\n",
              "    <tr>\n",
              "      <th>min</th>\n",
              "      <td>20.000000</td>\n",
              "      <td>8.000000</td>\n",
              "      <td>1.000000</td>\n",
              "      <td>0.000000</td>\n",
              "      <td>0.000000</td>\n",
              "      <td>0.000000</td>\n",
              "      <td>5.000000</td>\n",
              "      <td>13.000000</td>\n",
              "      <td>0.000000</td>\n",
              "      <td>0.000000</td>\n",
              "      <td>0.000000</td>\n",
              "    </tr>\n",
              "    <tr>\n",
              "      <th>25%</th>\n",
              "      <td>45.000000</td>\n",
              "      <td>10.000000</td>\n",
              "      <td>1.000000</td>\n",
              "      <td>0.000000</td>\n",
              "      <td>0.000000</td>\n",
              "      <td>0.000000</td>\n",
              "      <td>22.800000</td>\n",
              "      <td>62.000000</td>\n",
              "      <td>0.000000</td>\n",
              "      <td>0.000000</td>\n",
              "      <td>0.000000</td>\n",
              "    </tr>\n",
              "    <tr>\n",
              "      <th>50%</th>\n",
              "      <td>53.000000</td>\n",
              "      <td>12.000000</td>\n",
              "      <td>1.000000</td>\n",
              "      <td>1.000000</td>\n",
              "      <td>0.000000</td>\n",
              "      <td>1.000000</td>\n",
              "      <td>25.100000</td>\n",
              "      <td>69.400000</td>\n",
              "      <td>1.000000</td>\n",
              "      <td>1.000000</td>\n",
              "      <td>1.000000</td>\n",
              "    </tr>\n",
              "    <tr>\n",
              "      <th>75%</th>\n",
              "      <td>61.000000</td>\n",
              "      <td>13.000000</td>\n",
              "      <td>1.000000</td>\n",
              "      <td>2.000000</td>\n",
              "      <td>1.000000</td>\n",
              "      <td>2.000000</td>\n",
              "      <td>27.300000</td>\n",
              "      <td>79.200000</td>\n",
              "      <td>1.000000</td>\n",
              "      <td>1.000000</td>\n",
              "      <td>1.000000</td>\n",
              "    </tr>\n",
              "    <tr>\n",
              "      <th>max</th>\n",
              "      <td>90.000000</td>\n",
              "      <td>17.000000</td>\n",
              "      <td>4.000000</td>\n",
              "      <td>5.000000</td>\n",
              "      <td>1.000000</td>\n",
              "      <td>2.000000</td>\n",
              "      <td>88.800000</td>\n",
              "      <td>240.000000</td>\n",
              "      <td>1.000000</td>\n",
              "      <td>1.000000</td>\n",
              "      <td>1.000000</td>\n",
              "    </tr>\n",
              "  </tbody>\n",
              "</table>\n",
              "</div>\n",
              "    <div class=\"colab-df-buttons\">\n",
              "\n",
              "  <div class=\"colab-df-container\">\n",
              "    <button class=\"colab-df-convert\" onclick=\"convertToInteractive('df-54ef665a-d16a-44b0-97c5-10466f4b0e0f')\"\n",
              "            title=\"Convert this dataframe to an interactive table.\"\n",
              "            style=\"display:none;\">\n",
              "\n",
              "  <svg xmlns=\"http://www.w3.org/2000/svg\" height=\"24px\" viewBox=\"0 -960 960 960\">\n",
              "    <path d=\"M120-120v-720h720v720H120Zm60-500h600v-160H180v160Zm220 220h160v-160H400v160Zm0 220h160v-160H400v160ZM180-400h160v-160H180v160Zm440 0h160v-160H620v160ZM180-180h160v-160H180v160Zm440 0h160v-160H620v160Z\"/>\n",
              "  </svg>\n",
              "    </button>\n",
              "\n",
              "  <style>\n",
              "    .colab-df-container {\n",
              "      display:flex;\n",
              "      gap: 12px;\n",
              "    }\n",
              "\n",
              "    .colab-df-convert {\n",
              "      background-color: #E8F0FE;\n",
              "      border: none;\n",
              "      border-radius: 50%;\n",
              "      cursor: pointer;\n",
              "      display: none;\n",
              "      fill: #1967D2;\n",
              "      height: 32px;\n",
              "      padding: 0 0 0 0;\n",
              "      width: 32px;\n",
              "    }\n",
              "\n",
              "    .colab-df-convert:hover {\n",
              "      background-color: #E2EBFA;\n",
              "      box-shadow: 0px 1px 2px rgba(60, 64, 67, 0.3), 0px 1px 3px 1px rgba(60, 64, 67, 0.15);\n",
              "      fill: #174EA6;\n",
              "    }\n",
              "\n",
              "    .colab-df-buttons div {\n",
              "      margin-bottom: 4px;\n",
              "    }\n",
              "\n",
              "    [theme=dark] .colab-df-convert {\n",
              "      background-color: #3B4455;\n",
              "      fill: #D2E3FC;\n",
              "    }\n",
              "\n",
              "    [theme=dark] .colab-df-convert:hover {\n",
              "      background-color: #434B5C;\n",
              "      box-shadow: 0px 1px 3px 1px rgba(0, 0, 0, 0.15);\n",
              "      filter: drop-shadow(0px 1px 2px rgba(0, 0, 0, 0.3));\n",
              "      fill: #FFFFFF;\n",
              "    }\n",
              "  </style>\n",
              "\n",
              "    <script>\n",
              "      const buttonEl =\n",
              "        document.querySelector('#df-54ef665a-d16a-44b0-97c5-10466f4b0e0f button.colab-df-convert');\n",
              "      buttonEl.style.display =\n",
              "        google.colab.kernel.accessAllowed ? 'block' : 'none';\n",
              "\n",
              "      async function convertToInteractive(key) {\n",
              "        const element = document.querySelector('#df-54ef665a-d16a-44b0-97c5-10466f4b0e0f');\n",
              "        const dataTable =\n",
              "          await google.colab.kernel.invokeFunction('convertToInteractive',\n",
              "                                                    [key], {});\n",
              "        if (!dataTable) return;\n",
              "\n",
              "        const docLinkHtml = 'Like what you see? Visit the ' +\n",
              "          '<a target=\"_blank\" href=https://colab.research.google.com/notebooks/data_table.ipynb>data table notebook</a>'\n",
              "          + ' to learn more about interactive tables.';\n",
              "        element.innerHTML = '';\n",
              "        dataTable['output_type'] = 'display_data';\n",
              "        await google.colab.output.renderOutput(dataTable, element);\n",
              "        const docLink = document.createElement('div');\n",
              "        docLink.innerHTML = docLinkHtml;\n",
              "        element.appendChild(docLink);\n",
              "      }\n",
              "    </script>\n",
              "  </div>\n",
              "\n",
              "\n",
              "<div id=\"df-f06e3479-bd60-4166-9c9e-e8758d5f7bbe\">\n",
              "  <button class=\"colab-df-quickchart\" onclick=\"quickchart('df-f06e3479-bd60-4166-9c9e-e8758d5f7bbe')\"\n",
              "            title=\"Suggest charts\"\n",
              "            style=\"display:none;\">\n",
              "\n",
              "<svg xmlns=\"http://www.w3.org/2000/svg\" height=\"24px\"viewBox=\"0 0 24 24\"\n",
              "     width=\"24px\">\n",
              "    <g>\n",
              "        <path d=\"M19 3H5c-1.1 0-2 .9-2 2v14c0 1.1.9 2 2 2h14c1.1 0 2-.9 2-2V5c0-1.1-.9-2-2-2zM9 17H7v-7h2v7zm4 0h-2V7h2v10zm4 0h-2v-4h2v4z\"/>\n",
              "    </g>\n",
              "</svg>\n",
              "  </button>\n",
              "\n",
              "<style>\n",
              "  .colab-df-quickchart {\n",
              "      --bg-color: #E8F0FE;\n",
              "      --fill-color: #1967D2;\n",
              "      --hover-bg-color: #E2EBFA;\n",
              "      --hover-fill-color: #174EA6;\n",
              "      --disabled-fill-color: #AAA;\n",
              "      --disabled-bg-color: #DDD;\n",
              "  }\n",
              "\n",
              "  [theme=dark] .colab-df-quickchart {\n",
              "      --bg-color: #3B4455;\n",
              "      --fill-color: #D2E3FC;\n",
              "      --hover-bg-color: #434B5C;\n",
              "      --hover-fill-color: #FFFFFF;\n",
              "      --disabled-bg-color: #3B4455;\n",
              "      --disabled-fill-color: #666;\n",
              "  }\n",
              "\n",
              "  .colab-df-quickchart {\n",
              "    background-color: var(--bg-color);\n",
              "    border: none;\n",
              "    border-radius: 50%;\n",
              "    cursor: pointer;\n",
              "    display: none;\n",
              "    fill: var(--fill-color);\n",
              "    height: 32px;\n",
              "    padding: 0;\n",
              "    width: 32px;\n",
              "  }\n",
              "\n",
              "  .colab-df-quickchart:hover {\n",
              "    background-color: var(--hover-bg-color);\n",
              "    box-shadow: 0 1px 2px rgba(60, 64, 67, 0.3), 0 1px 3px 1px rgba(60, 64, 67, 0.15);\n",
              "    fill: var(--button-hover-fill-color);\n",
              "  }\n",
              "\n",
              "  .colab-df-quickchart-complete:disabled,\n",
              "  .colab-df-quickchart-complete:disabled:hover {\n",
              "    background-color: var(--disabled-bg-color);\n",
              "    fill: var(--disabled-fill-color);\n",
              "    box-shadow: none;\n",
              "  }\n",
              "\n",
              "  .colab-df-spinner {\n",
              "    border: 2px solid var(--fill-color);\n",
              "    border-color: transparent;\n",
              "    border-bottom-color: var(--fill-color);\n",
              "    animation:\n",
              "      spin 1s steps(1) infinite;\n",
              "  }\n",
              "\n",
              "  @keyframes spin {\n",
              "    0% {\n",
              "      border-color: transparent;\n",
              "      border-bottom-color: var(--fill-color);\n",
              "      border-left-color: var(--fill-color);\n",
              "    }\n",
              "    20% {\n",
              "      border-color: transparent;\n",
              "      border-left-color: var(--fill-color);\n",
              "      border-top-color: var(--fill-color);\n",
              "    }\n",
              "    30% {\n",
              "      border-color: transparent;\n",
              "      border-left-color: var(--fill-color);\n",
              "      border-top-color: var(--fill-color);\n",
              "      border-right-color: var(--fill-color);\n",
              "    }\n",
              "    40% {\n",
              "      border-color: transparent;\n",
              "      border-right-color: var(--fill-color);\n",
              "      border-top-color: var(--fill-color);\n",
              "    }\n",
              "    60% {\n",
              "      border-color: transparent;\n",
              "      border-right-color: var(--fill-color);\n",
              "    }\n",
              "    80% {\n",
              "      border-color: transparent;\n",
              "      border-right-color: var(--fill-color);\n",
              "      border-bottom-color: var(--fill-color);\n",
              "    }\n",
              "    90% {\n",
              "      border-color: transparent;\n",
              "      border-bottom-color: var(--fill-color);\n",
              "    }\n",
              "  }\n",
              "</style>\n",
              "\n",
              "  <script>\n",
              "    async function quickchart(key) {\n",
              "      const quickchartButtonEl =\n",
              "        document.querySelector('#' + key + ' button');\n",
              "      quickchartButtonEl.disabled = true;  // To prevent multiple clicks.\n",
              "      quickchartButtonEl.classList.add('colab-df-spinner');\n",
              "      try {\n",
              "        const charts = await google.colab.kernel.invokeFunction(\n",
              "            'suggestCharts', [key], {});\n",
              "      } catch (error) {\n",
              "        console.error('Error during call to suggestCharts:', error);\n",
              "      }\n",
              "      quickchartButtonEl.classList.remove('colab-df-spinner');\n",
              "      quickchartButtonEl.classList.add('colab-df-quickchart-complete');\n",
              "    }\n",
              "    (() => {\n",
              "      let quickchartButtonEl =\n",
              "        document.querySelector('#df-f06e3479-bd60-4166-9c9e-e8758d5f7bbe button');\n",
              "      quickchartButtonEl.style.display =\n",
              "        google.colab.kernel.accessAllowed ? 'block' : 'none';\n",
              "    })();\n",
              "  </script>\n",
              "</div>\n",
              "\n",
              "    </div>\n",
              "  </div>\n"
            ],
            "application/vnd.google.colaboratory.intrinsic+json": {
              "type": "dataframe",
              "summary": "{\n  \"name\": \"clean_data\",\n  \"rows\": 8,\n  \"fields\": [\n    {\n      \"column\": \"age\",\n      \"properties\": {\n        \"dtype\": \"number\",\n        \"std\": 583.6880452766169,\n        \"min\": 11.92991946313759,\n        \"max\": 1697.0,\n        \"num_unique_values\": 8,\n        \"samples\": [\n          51.483205657041836,\n          53.0,\n          1697.0\n        ],\n        \"semantic_type\": \"\",\n        \"description\": \"\"\n      }\n    },\n    {\n      \"column\": \"menarche\",\n      \"properties\": {\n        \"dtype\": \"number\",\n        \"std\": 596.2804856238888,\n        \"min\": 1.839936930400252,\n        \"max\": 1697.0,\n        \"num_unique_values\": 8,\n        \"samples\": [\n          11.725987035945787,\n          12.0,\n          1697.0\n        ],\n        \"semantic_type\": \"\",\n        \"description\": \"\"\n      }\n    },\n    {\n      \"column\": \"nrelbc\",\n      \"properties\": {\n        \"dtype\": \"number\",\n        \"std\": 599.50126309869,\n        \"min\": 0.3581017231924324,\n        \"max\": 1697.0,\n        \"num_unique_values\": 5,\n        \"samples\": [\n          1.142604596346494,\n          4.0,\n          0.3581017231924324\n        ],\n        \"semantic_type\": \"\",\n        \"description\": \"\"\n      }\n    },\n    {\n      \"column\": \"biopsies\",\n      \"properties\": {\n        \"dtype\": \"number\",\n        \"std\": 599.4522365215424,\n        \"min\": 0.0,\n        \"max\": 1697.0,\n        \"num_unique_values\": 7,\n        \"samples\": [\n          1697.0,\n          1.3081909251620507,\n          2.0\n        ],\n        \"semantic_type\": \"\",\n        \"description\": \"\"\n      }\n    },\n    {\n      \"column\": \"hyperplasia\",\n      \"properties\": {\n        \"dtype\": \"number\",\n        \"std\": 599.8307103854316,\n        \"min\": 0.0,\n        \"max\": 1697.0,\n        \"num_unique_values\": 5,\n        \"samples\": [\n          0.4619917501473188,\n          1.0,\n          0.4987002374359694\n        ],\n        \"semantic_type\": \"\",\n        \"description\": \"\"\n      }\n    },\n    {\n      \"column\": \"race\",\n      \"properties\": {\n        \"dtype\": \"number\",\n        \"std\": 599.6280868477811,\n        \"min\": 0.0,\n        \"max\": 1697.0,\n        \"num_unique_values\": 6,\n        \"samples\": [\n          1697.0,\n          1.1744254566882735,\n          2.0\n        ],\n        \"semantic_type\": \"\",\n        \"description\": \"\"\n      }\n    },\n    {\n      \"column\": \"imc\",\n      \"properties\": {\n        \"dtype\": \"number\",\n        \"std\": 590.4851221647737,\n        \"min\": 4.951304442665818,\n        \"max\": 1697.0,\n        \"num_unique_values\": 8,\n        \"samples\": [\n          25.534615384615385,\n          25.1,\n          1697.0\n        ],\n        \"semantic_type\": \"\",\n        \"description\": \"\"\n      }\n    },\n    {\n      \"column\": \"weight\",\n      \"properties\": {\n        \"dtype\": \"number\",\n        \"std\": 576.7242304737489,\n        \"min\": 12.771036034054058,\n        \"max\": 1697.0,\n        \"num_unique_values\": 8,\n        \"samples\": [\n          70.49721398933016,\n          69.4,\n          1697.0\n        ],\n        \"semantic_type\": \"\",\n        \"description\": \"\"\n      }\n    },\n    {\n      \"column\": \"alcohol\",\n      \"properties\": {\n        \"dtype\": \"number\",\n        \"std\": 599.7707586675339,\n        \"min\": 0.0,\n        \"max\": 1697.0,\n        \"num_unique_values\": 5,\n        \"samples\": [\n          0.6817913965822039,\n          1.0,\n          0.4659182416197618\n        ],\n        \"semantic_type\": \"\",\n        \"description\": \"\"\n      }\n    },\n    {\n      \"column\": \"tobacco\",\n      \"properties\": {\n        \"dtype\": \"number\",\n        \"std\": 599.7716977942279,\n        \"min\": 0.0,\n        \"max\": 1697.0,\n        \"num_unique_values\": 5,\n        \"samples\": [\n          0.6529169121979964,\n          1.0,\n          0.4761827759745196\n        ],\n        \"semantic_type\": \"\",\n        \"description\": \"\"\n      }\n    },\n    {\n      \"column\": \"cancer\",\n      \"properties\": {\n        \"dtype\": \"number\",\n        \"std\": 599.7707044924854,\n        \"min\": 0.0,\n        \"max\": 1697.0,\n        \"num_unique_values\": 5,\n        \"samples\": [\n          0.6835592221567472,\n          1.0,\n          0.46522419421538774\n        ],\n        \"semantic_type\": \"\",\n        \"description\": \"\"\n      }\n    }\n  ]\n}"
            }
          },
          "metadata": {},
          "execution_count": 30
        }
      ]
    },
    {
      "cell_type": "markdown",
      "source": [
        "Find outliers.\n",
        "\n",
        "To clearly view the plots, we can group elemts that have similar minimum and maximum values.\n",
        "\n",
        "Therefore, those we are going to have the following ranges.\n",
        "\n",
        "0 - 5: nrelbc, biopsies, hyperplasia, race, alcohol, tobaco.\n",
        "\n",
        "5 - 20: menarche.\n",
        "\n",
        "80 - 100: age, imc.\n",
        "\n",
        "above 100: weight."
      ],
      "metadata": {
        "id": "sTFYeHo7rtpJ"
      }
    },
    {
      "cell_type": "code",
      "source": [
        "#identifying and capping outliers\n",
        "clean_data[['nrelbc', 'biopsies', 'hyperplasia', 'race', 'alcohol', 'tobacco']].plot.box(figsize = (17, 5))\n",
        "clean_data[['menarche']].plot.box(figsize = (5, 5))\n",
        "clean_data[['age', 'imc']].plot.box(figsize = (5, 5))\n",
        "clean_data[['weight']].plot.box(figsize = (5, 5))"
      ],
      "metadata": {
        "id": "YINr3dPVrwFr",
        "outputId": "76820471-3e0f-46f6-9ad5-f67152563fa0",
        "colab": {
          "base_uri": "https://localhost:8080/",
          "height": 1000
        }
      },
      "execution_count": 31,
      "outputs": [
        {
          "output_type": "execute_result",
          "data": {
            "text/plain": [
              "<Axes: >"
            ]
          },
          "metadata": {},
          "execution_count": 31
        },
        {
          "output_type": "display_data",
          "data": {
            "text/plain": [
              "<Figure size 1700x500 with 1 Axes>"
            ],
            "image/png": "[encoded data removed]"
          },
          "metadata": {}
        },
        {
          "output_type": "display_data",
          "data": {
            "text/plain": [
              "<Figure size 500x500 with 1 Axes>"
            ],
            "image/png": "[encoded data removed]"
          },
          "metadata": {}
        },
        {
          "output_type": "display_data",
          "data": {
            "text/plain": [
              "<Figure size 500x500 with 1 Axes>"
            ],
            "image/png": "[encoded data removed]"
          },
          "metadata": {}
        },
        {
          "output_type": "display_data",
          "data": {
            "text/plain": [
              "<Figure size 500x500 with 1 Axes>"
            ],
            "image/png": "[encoded data removed]"
          },
          "metadata": {}
        }
      ]
    },
    {
      "cell_type": "markdown",
      "source": [
        "From the above we can see that weight and imc has very many outliers and biopsies is completely skewed downwards."
      ],
      "metadata": {
        "id": "tIj6BGUo0cbF"
      }
    },
    {
      "cell_type": "markdown",
      "source": [
        "## Anaylsis\n",
        "\n",
        "At this point we have got we've got all our data clean and in a numerical format ready for analysis."
      ],
      "metadata": {
        "id": "E0-FYJlXBOLg"
      }
    },
    {
      "cell_type": "code",
      "source": [
        "B, M = clean_data['cancer'].value_counts()\n",
        "print('Number of Benign: ',B)\n",
        "print('Number of Malignant : ',M)\n",
        "\n",
        "print(clean_data.cancer.size)\n",
        "\n"
      ],
      "metadata": {
        "colab": {
          "base_uri": "https://localhost:8080/"
        },
        "id": "86HonAE-Bo7M",
        "outputId": "20853470-3623-4f64-aba6-ac09d1a23d94"
      },
      "execution_count": 32,
      "outputs": [
        {
          "output_type": "stream",
          "name": "stdout",
          "text": [
            "Number of Benign:  1160\n",
            "Number of Malignant :  537\n",
            "1697\n"
          ]
        }
      ]
    },
    {
      "cell_type": "markdown",
      "source": [
        "After we have cleaned all our data the next step is to find what variables have a strong correlation to cause cancer."
      ],
      "metadata": {
        "id": "yGu3Nx9ZUdke"
      }
    },
    {
      "cell_type": "code",
      "source": [
        "#age\tmenarche\tmenopause\tagefirst\tchildren\tbreastfeeding\tnrelbc biopsies\thyperplasia\trace\timc\tweight\texercise\talcohol\ttobacco\n",
        "corr = clean_data['cancer'].corr(clean_data['age'])\n",
        "print(f'Correlation between age and having cancer is {round(corr, 2)} \\n')\n",
        "\n",
        "corr = clean_data['cancer'].corr(clean_data['menarche'])\n",
        "print(f'Correlation between menarche and having cancer is {round(corr, 2)} \\n')\n",
        "\n",
        "corr = clean_data['cancer'].corr(clean_data['menopause'])\n",
        "print(f'Correlation between menopause and having cancer is {round(corr, 2)} \\n')\n",
        "\n",
        "corr = clean_data['cancer'].corr(clean_data['agefirst'])\n",
        "print(f'Correlation between agefirst and having cancer is {round(corr, 2)} \\n')\n",
        "\n",
        "corr = clean_data['cancer'].corr(clean_data['children'])\n",
        "print(f'Correlation between children and having cancer is {round(corr, 2)} \\n')\n",
        "\n",
        "corr = clean_data['cancer'].corr(clean_data['breastfeeding'])\n",
        "print(f'Correlation between breastfeeding and having cancer is {round(corr, 2)} \\n')\n",
        "\n",
        "corr = clean_data['cancer'].corr(clean_data['nrelbc'])\n",
        "print(f'Correlation between nrelbc and having cancer is {round(corr, 2)} \\n')\n",
        "\n",
        "corr = clean_data['biopsies'].corr(clean_data['biopsies'])\n",
        "print(f'Correlation between biopsies and having cancer is {round(corr, 2)} \\n')\n",
        "\n",
        "corr = clean_data['cancer'].corr(clean_data['hyperplasia'])\n",
        "print(f'Correlation between hyperplasia and having cancer is {round(corr, 2)} \\n')\n",
        "\n",
        "corr = clean_data['cancer'].corr(clean_data['race'])\n",
        "print(f'Correlation between race and having cancer is {round(corr, 2)} \\n')\n",
        "\n",
        "corr = clean_data['cancer'].corr(clean_data['imc'])\n",
        "print(f'Correlation between imc and having cancer is {round(corr, 2)} \\n')\n",
        "\n",
        "corr = clean_data['cancer'].corr(clean_data['weight'])\n",
        "print(f'Correlation between weight and having cancer is {round(corr, 2)} \\n')\n",
        "\n",
        "corr = clean_data['cancer'].corr(clean_data['exercise'])\n",
        "print(f'Correlation between exercise and having cancer is {round(corr, 2)} \\n')\n",
        "\n",
        "corr = clean_data['cancer'].corr(clean_data['alcohol'])\n",
        "print(f'Correlation between alcohol and having cancer is {round(corr, 2)} \\n')\n",
        "\n",
        "corr = clean_data['cancer'].corr(clean_data['tobacco'])\n",
        "print(f'Correlation between tobacco and having cancer is {round(corr, 2)} \\n')\n"
      ],
      "metadata": {
        "colab": {
          "base_uri": "https://localhost:8080/"
        },
        "id": "yigWBSzNUDDZ",
        "outputId": "d3d851bc-5c7a-4356-c519-50b9d5c920a2"
      },
      "execution_count": 33,
      "outputs": [
        {
          "output_type": "stream",
          "name": "stdout",
          "text": [
            "Correlation between age and having cancer is 0.35 \n",
            "\n",
            "Correlation between menarche and having cancer is -0.12 \n",
            "\n",
            "Correlation between menopause and having cancer is 0.29 \n",
            "\n",
            "Correlation between agefirst and having cancer is -0.17 \n",
            "\n",
            "Correlation between children and having cancer is -0.43 \n",
            "\n",
            "Correlation between breastfeeding and having cancer is -0.46 \n",
            "\n",
            "Correlation between nrelbc and having cancer is 0.2 \n",
            "\n",
            "Correlation between biopsies and having cancer is 1.0 \n",
            "\n",
            "Correlation between hyperplasia and having cancer is 0.5 \n",
            "\n",
            "Correlation between race and having cancer is -0.08 \n",
            "\n",
            "Correlation between imc and having cancer is -0.15 \n",
            "\n",
            "Correlation between weight and having cancer is 0.08 \n",
            "\n",
            "Correlation between exercise and having cancer is 0.03 \n",
            "\n",
            "Correlation between alcohol and having cancer is 0.57 \n",
            "\n",
            "Correlation between tobacco and having cancer is 0.54 \n",
            "\n"
          ]
        }
      ]
    },
    {
      "cell_type": "markdown",
      "source": [
        "From the above results we can see that some fields actually have a negative correlation with getting breast cancer.\n",
        "\n",
        "A summary of the correlations ranked from highest to lowest.\n",
        "\n",
        "|Factor| Correlation|\n",
        "|------|------------|\n",
        "|alcohol | 0.57 |\n",
        "|tobacco | 0.54 |\n",
        "|hyperplasia | 0.5 |\n",
        "|age | 0.35 |\n",
        "|menopause | 0.29 |\n",
        "|nrelbc | 0.2 |\n",
        "|weight | 0.08 |\n",
        "|race |-0.08 |\n",
        "|menarche | -0.12 |\n",
        "|imc | -0.15 |\n",
        "|agefirst | -0.17 |\n",
        "|children | -0.43 |\n",
        "|breastfeeding | -0.46 |\n",
        "\n",
        "\n",
        "\n"
      ],
      "metadata": {
        "id": "cLLWWz9VVV3D"
      }
    },
    {
      "cell_type": "markdown",
      "source": [
        "From our table we can see that drinking alcohol has the highest impact, followed by smoking, hyperplasia, patients age, menopause, nrelbc, and weight.\n",
        "\n",
        "Race, menarche, imc, agefirst, number of children and breastfeeding don't have a positive correlations.\n",
        "\n",
        "We can use bar graphs to visualize this."
      ],
      "metadata": {
        "id": "rgj_T12FZiwq"
      }
    },
    {
      "cell_type": "code",
      "source": [
        "# Graph To Analyzing the effect of drinking alcohol on getting breast cancer\n",
        "sns.countplot(data=clean_data, x='alcohol', hue='cancer')\n",
        "plt.title('Drinking alcohol effects on getting breast cancer')\n",
        "plt.xlabel(\"Drinks? 0-No, 1-Yes\")\n",
        "plt.show()\n"
      ],
      "metadata": {
        "colab": {
          "base_uri": "https://localhost:8080/",
          "height": 472
        },
        "id": "KTgNqehjV1Sp",
        "outputId": "1d693540-d97a-42ab-ae39-cee198a63b36"
      },
      "execution_count": 34,
      "outputs": [
        {
          "output_type": "display_data",
          "data": {
            "text/plain": [
              "<Figure size 640x480 with 1 Axes>"
            ],
            "image/png": "[encoded data removed]"
          },
          "metadata": {}
        }
      ]
    },
    {
      "cell_type": "markdown",
      "source": [
        "It is clear that people who don't drink have a lower risk of getting breast cancer."
      ],
      "metadata": {
        "id": "EEGM0n5PuJpI"
      }
    },
    {
      "cell_type": "code",
      "source": [
        "# Graph To Analyzing the effect of tobacco on getting breast cancer\n",
        "sns.countplot(data=clean_data, x='tobacco', hue='cancer')\n",
        "plt.title('tobacco effects on getting breast cancer')\n",
        "plt.xlabel(\"Smokes? 0-No, 1-Yes\")\n",
        "plt.show()"
      ],
      "metadata": {
        "colab": {
          "base_uri": "https://localhost:8080/",
          "height": 472
        },
        "id": "mzswGi_waVh_",
        "outputId": "ba871240-c7f9-42dc-8c31-b38c93e7ae7a"
      },
      "execution_count": 35,
      "outputs": [
        {
          "output_type": "display_data",
          "data": {
            "text/plain": [
              "<Figure size 640x480 with 1 Axes>"
            ],
            "image/png": "[encoded data removed]"
          },
          "metadata": {}
        }
      ]
    },
    {
      "cell_type": "markdown",
      "source": [
        "It is clear that people who don't smoke have a lower risk of getting breast cancer."
      ],
      "metadata": {
        "id": "I5yUCSTyuRuw"
      }
    },
    {
      "cell_type": "code",
      "source": [
        "# Graph To Analyzing the effect of hyperplasia on getting breast cancer\n",
        "sns.countplot(data=clean_data, x='hyperplasia', hue='cancer')\n",
        "plt.title('hyperplasia effects on getting breast cancer')\n",
        "plt.xlabel(\"hyperplasia? 0-No, 1-Yes\")\n",
        "plt.show()"
      ],
      "metadata": {
        "colab": {
          "base_uri": "https://localhost:8080/",
          "height": 472
        },
        "id": "CHyDBa1AaaQy",
        "outputId": "6e5d1279-7d46-4a44-fb67-e20c68c65ac0"
      },
      "execution_count": 36,
      "outputs": [
        {
          "output_type": "display_data",
          "data": {
            "text/plain": [
              "<Figure size 640x480 with 1 Axes>"
            ],
            "image/png": "[encoded data removed]"
          },
          "metadata": {}
        }
      ]
    },
    {
      "cell_type": "code",
      "source": [
        "# Graph To Analyzing the effect of age on getting breast cancer\n",
        "#sns.set_theme(rc={'figure.figsize':(11.7,8.27)})\n",
        "\n",
        "ax = sns.countplot(data=clean_data, x='age', hue='cancer')\n",
        "ax.figure.set_size_inches(17, 8)\n",
        "plt.title('age effects on getting breast cancer')\n",
        "\n",
        "plt.figure(figsize=(10,6))\n",
        "\n",
        "plt.show()"
      ],
      "metadata": {
        "colab": {
          "base_uri": "https://localhost:8080/",
          "height": 735
        },
        "id": "Rn3_sPUcbEnu",
        "outputId": "051668d0-17a0-481c-ffd7-ae22b5b6ea5c"
      },
      "execution_count": 37,
      "outputs": [
        {
          "output_type": "display_data",
          "data": {
            "text/plain": [
              "<Figure size 1700x800 with 1 Axes>"
            ],
            "image/png": "[encoded data removed]"
          },
          "metadata": {}
        },
        {
          "output_type": "display_data",
          "data": {
            "text/plain": [
              "<Figure size 1000x600 with 0 Axes>"
            ]
          },
          "metadata": {}
        }
      ]
    },
    {
      "cell_type": "markdown",
      "source": [
        "Breast cancer seems to be commong among people from the age of 38 to 70, with scattered cases in 20's and even fewer cases above 70."
      ],
      "metadata": {
        "id": "GHLc0jXTuXkX"
      }
    },
    {
      "cell_type": "code",
      "source": [
        "# Graph To Analyzing the effect of menopause on getting breast cancer\n",
        "ax = sns.countplot(data=clean_data, x='menopause', hue='cancer')\n",
        "ax.figure.set_size_inches(15, 5)\n",
        "plt.title('menopause effects on getting breast cancer')\n",
        "plt.show()"
      ],
      "metadata": {
        "colab": {
          "base_uri": "https://localhost:8080/",
          "height": 487
        },
        "id": "l6-W6BvLtcKE",
        "outputId": "75e2ad86-0044-495c-bd74-e9a8b7f07e4a"
      },
      "execution_count": 38,
      "outputs": [
        {
          "output_type": "display_data",
          "data": {
            "text/plain": [
              "<Figure size 1500x500 with 1 Axes>"
            ],
            "image/png": "[encoded data removed]"
          },
          "metadata": {}
        }
      ]
    },
    {
      "cell_type": "markdown",
      "source": [
        "As from above, it seems like a lot of people get breast cancer before menopause."
      ],
      "metadata": {
        "id": "UiVNGcFUxwrS"
      }
    },
    {
      "cell_type": "code",
      "source": [
        "# Graph To Analyzing the effect of nrelbc on getting breast cancer\n",
        "sns.countplot(data=clean_data, x='nrelbc', hue='cancer')\n",
        "plt.title('nrelbc effects on getting breast cancer')\n",
        "plt.show()"
      ],
      "metadata": {
        "colab": {
          "base_uri": "https://localhost:8080/",
          "height": 472
        },
        "id": "pZxKD898bOGB",
        "outputId": "8fb0b876-68fd-4b7c-8945-84ca61053b85"
      },
      "execution_count": 39,
      "outputs": [
        {
          "output_type": "display_data",
          "data": {
            "text/plain": [
              "<Figure size 640x480 with 1 Axes>"
            ],
            "image/png": "[encoded data removed]"
          },
          "metadata": {}
        }
      ]
    },
    {
      "cell_type": "markdown",
      "source": [
        "A very interesting output, one would assume that having relatives with breast cancer would increase the risk but that isn't what we are seeing here."
      ],
      "metadata": {
        "id": "0-sPxaBCyHds"
      }
    },
    {
      "cell_type": "code",
      "source": [
        "# Graph To Analyzing the effect of biopsies on getting breast cancer\n",
        "sns.countplot(data=clean_data, x='biopsies', hue='cancer')\n",
        "plt.title('biopsies effects on getting breast cancer')\n",
        "plt.show()"
      ],
      "metadata": {
        "id": "AT37MwVi01zJ",
        "outputId": "7be6528b-5c5f-49cb-975f-ea48eaece8bf",
        "colab": {
          "base_uri": "https://localhost:8080/",
          "height": 472
        }
      },
      "execution_count": 40,
      "outputs": [
        {
          "output_type": "display_data",
          "data": {
            "text/plain": [
              "<Figure size 640x480 with 1 Axes>"
            ],
            "image/png": "[encoded data removed]"
          },
          "metadata": {}
        }
      ]
    },
    {
      "cell_type": "code",
      "source": [
        "# Graph To Analyzing the effect of weight on getting breast cancer\n",
        "ax = sns.countplot(data=clean_data, x='weight', hue='cancer')\n",
        "ax.figure.set_size_inches(20, 5)\n",
        "plt.title('weight effects on getting breast cancer')\n",
        "plt.show()"
      ],
      "metadata": {
        "colab": {
          "base_uri": "https://localhost:8080/",
          "height": 487
        },
        "id": "A2kkrZgVbOtq",
        "outputId": "e0cacf62-8423-4eeb-8305-76ff84b8fe7d"
      },
      "execution_count": 41,
      "outputs": [
        {
          "output_type": "display_data",
          "data": {
            "text/plain": [
              "<Figure size 2000x500 with 1 Axes>"
            ],
            "image/png": "[encoded data removed]"
          },
          "metadata": {}
        }
      ]
    },
    {
      "cell_type": "markdown",
      "source": [
        "There doesn't seem to be a clear correlation between weight and breast cancer."
      ],
      "metadata": {
        "id": "Z9AYIgkyyaq7"
      }
    },
    {
      "cell_type": "code",
      "source": [
        "# Graph To Analyzing the effect of race on getting breast cancer\n",
        "sns.countplot(data=clean_data, x='race', hue='cancer')\n",
        "plt.title('race effects on getting breast cancer')\n",
        "plt.xlabel(\"Race? 0-Black, 1-Mixed, 2-White\")\n",
        "plt.show()"
      ],
      "metadata": {
        "colab": {
          "base_uri": "https://localhost:8080/",
          "height": 472
        },
        "id": "Z61duSFFbYow",
        "outputId": "9dd0eaf8-defc-4b50-b2fb-22133c9520c1"
      },
      "execution_count": 42,
      "outputs": [
        {
          "output_type": "display_data",
          "data": {
            "text/plain": [
              "<Figure size 640x480 with 1 Axes>"
            ],
            "image/png": "[encoded data removed]"
          },
          "metadata": {}
        }
      ]
    },
    {
      "cell_type": "markdown",
      "source": [
        "Althought it appears like breast cancer is more prevelant among white people, the fact that it is common even in other races suggests that this is not a determinant factor."
      ],
      "metadata": {
        "id": "x9hlaUz8yk4o"
      }
    },
    {
      "cell_type": "code",
      "source": [
        "# Graph To Analyzing the effect of menarche on getting breast cancer\n",
        "sns.countplot(data=clean_data, x='menarche', hue='cancer')\n",
        "plt.title('menarche effects on getting breast cancer')\n",
        "plt.show()"
      ],
      "metadata": {
        "colab": {
          "base_uri": "https://localhost:8080/",
          "height": 472
        },
        "id": "Erv5F_uobZdI",
        "outputId": "2c58d761-7527-4706-bf51-8df5ebdab3e0"
      },
      "execution_count": 43,
      "outputs": [
        {
          "output_type": "display_data",
          "data": {
            "text/plain": [
              "<Figure size 640x480 with 1 Axes>"
            ],
            "image/png": "[encoded data removed]"
          },
          "metadata": {}
        }
      ]
    },
    {
      "cell_type": "markdown",
      "source": [
        "A very interesting view, generally having your periods late seems to be the only time breast cancer is rare. However, there could be other factors at play."
      ],
      "metadata": {
        "id": "7b5Px7ZnyyvS"
      }
    },
    {
      "cell_type": "code",
      "source": [
        "# Graph To Analyzing the effect of imc on getting breast cancer\n",
        "ax =sns.countplot(data=clean_data, x='imc', hue='cancer')\n",
        "ax.figure.set_size_inches(20, 5)\n",
        "plt.title('imc effects on getting breast cancer')\n",
        "plt.show()"
      ],
      "metadata": {
        "colab": {
          "base_uri": "https://localhost:8080/",
          "height": 487
        },
        "id": "DAPETs3QbZ5e",
        "outputId": "6eb06692-f084-440c-ff18-caf91e7fd242"
      },
      "execution_count": 44,
      "outputs": [
        {
          "output_type": "display_data",
          "data": {
            "text/plain": [
              "<Figure size 2000x500 with 1 Axes>"
            ],
            "image/png": "[encoded data removed]"
          },
          "metadata": {}
        }
      ]
    },
    {
      "cell_type": "code",
      "source": [
        "# Graph To Analyzing the effect of agefirst on getting breast cancer\n",
        "ax = sns.countplot(data=clean_data, x='agefirst', hue='cancer')\n",
        "ax.figure.set_size_inches(20, 5)\n",
        "plt.title('agefirst effects on getting breast cancer')\n",
        "plt.show()"
      ],
      "metadata": {
        "colab": {
          "base_uri": "https://localhost:8080/",
          "height": 487
        },
        "id": "mzvwFfOWtyWx",
        "outputId": "79f1901e-51fe-4776-e812-b9e8ce3d7499"
      },
      "execution_count": 45,
      "outputs": [
        {
          "output_type": "display_data",
          "data": {
            "text/plain": [
              "<Figure size 2000x500 with 1 Axes>"
            ],
            "image/png": "[encoded data removed]"
          },
          "metadata": {}
        }
      ]
    },
    {
      "cell_type": "markdown",
      "source": [
        "The age of first delivery doesn't present a strong link with breast cancer. We can see that people without children have a higher value, but that could be missleading."
      ],
      "metadata": {
        "id": "Nmmx1dYIzLEY"
      }
    },
    {
      "cell_type": "code",
      "source": [
        "# Graph To Analyzing the effect of children on getting breast cancer\n",
        "sns.countplot(data=clean_data, x='children', hue='cancer')\n",
        "plt.title('children effects on getting breast cancer')\n",
        "plt.show()"
      ],
      "metadata": {
        "colab": {
          "base_uri": "https://localhost:8080/",
          "height": 472
        },
        "id": "8Az9Cz7rtzSx",
        "outputId": "050143a1-2d43-4ffa-ae46-1fb587bbb0df"
      },
      "execution_count": 46,
      "outputs": [
        {
          "output_type": "display_data",
          "data": {
            "text/plain": [
              "<Figure size 640x480 with 1 Axes>"
            ],
            "image/png": "[encoded data removed]"
          },
          "metadata": {}
        }
      ]
    },
    {
      "cell_type": "markdown",
      "source": [
        "Similar to agefirst, having children doesn't seem to link to breast cancer too."
      ],
      "metadata": {
        "id": "4pD-Ukg7zUdn"
      }
    },
    {
      "cell_type": "code",
      "source": [
        "# Graph To Analyzing the effect of breastfeeding on getting breast cancer\n",
        "ax = sns.countplot(data=clean_data, x='breastfeeding', hue='cancer')\n",
        "ax.figure.set_size_inches(15, 5)\n",
        "plt.title('breastfeeding effects on getting breast cancer')\n",
        "plt.xlabel(\"Breastfeeding in months\")\n",
        "plt.show()"
      ],
      "metadata": {
        "colab": {
          "base_uri": "https://localhost:8080/",
          "height": 487
        },
        "id": "06dJ32pTtztv",
        "outputId": "659b58f9-6d17-457a-c2b5-1669585f43cd"
      },
      "execution_count": 47,
      "outputs": [
        {
          "output_type": "display_data",
          "data": {
            "text/plain": [
              "<Figure size 1500x500 with 1 Axes>"
            ],
            "image/png": "[encoded data removed]"
          },
          "metadata": {}
        }
      ]
    },
    {
      "cell_type": "markdown",
      "source": [
        "It appears that people who have never breast fed get more breast cancer, but this doesn't seem to be a cause."
      ],
      "metadata": {
        "id": "Gi5hb_9A0XPn"
      }
    }
  ]
}